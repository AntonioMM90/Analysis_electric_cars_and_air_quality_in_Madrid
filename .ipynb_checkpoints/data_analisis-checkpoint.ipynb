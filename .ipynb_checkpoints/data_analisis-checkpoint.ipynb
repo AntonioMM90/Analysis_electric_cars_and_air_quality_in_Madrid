{
 "cells": [
  {
   "cell_type": "markdown",
   "metadata": {},
   "source": [
    "# DATA ANALISIS"
   ]
  },
  {
   "cell_type": "markdown",
   "metadata": {},
   "source": [
    "### USED LIBRARIES"
   ]
  },
  {
   "cell_type": "code",
   "execution_count": 1,
   "metadata": {},
   "outputs": [],
   "source": [
    "import pandas as pd\n",
    "import numpy as np\n",
    "import seaborn as sns\n",
    "import matplotlib.pyplot as plt\n",
    "import folium\n",
    "from folium import Choropleth, Circle, Marker, Icon, Map\n",
    "from folium.plugins import HeatMap, MarkerCluster\n",
    "import json\n",
    "import re"
   ]
  },
  {
   "cell_type": "markdown",
   "metadata": {},
   "source": [
    "### LOADING CSV"
   ]
  },
  {
   "cell_type": "code",
   "execution_count": 2,
   "metadata": {},
   "outputs": [],
   "source": [
    "AirQ_and_Matriculations = pd.read_csv('./data/AirQ_and_Matriculations.csv')"
   ]
  },
  {
   "cell_type": "code",
   "execution_count": 3,
   "metadata": {},
   "outputs": [],
   "source": [
    "mat_tot2 = pd.read_csv('./data/mat_tot2.csv')"
   ]
  },
  {
   "cell_type": "code",
   "execution_count": 4,
   "metadata": {},
   "outputs": [
    {
     "data": {
      "text/html": [
       "<div>\n",
       "<style scoped>\n",
       "    .dataframe tbody tr th:only-of-type {\n",
       "        vertical-align: middle;\n",
       "    }\n",
       "\n",
       "    .dataframe tbody tr th {\n",
       "        vertical-align: top;\n",
       "    }\n",
       "\n",
       "    .dataframe thead th {\n",
       "        text-align: right;\n",
       "    }\n",
       "</style>\n",
       "<table border=\"1\" class=\"dataframe\">\n",
       "  <thead>\n",
       "    <tr style=\"text-align: right;\">\n",
       "      <th></th>\n",
       "      <th>PROVINCIA</th>\n",
       "      <th>MAGNITUD</th>\n",
       "      <th>PUNTO_MUESTREO</th>\n",
       "      <th>ANNO</th>\n",
       "      <th>MES</th>\n",
       "      <th>MEDIA_MAGS</th>\n",
       "      <th>LATITUD</th>\n",
       "      <th>LONGITUD</th>\n",
       "      <th>PROVINCIAS</th>\n",
       "      <th>CERO</th>\n",
       "      <th>ECO</th>\n",
       "      <th>B</th>\n",
       "      <th>C</th>\n",
       "    </tr>\n",
       "  </thead>\n",
       "  <tbody>\n",
       "    <tr>\n",
       "      <th>0</th>\n",
       "      <td>7</td>\n",
       "      <td>10</td>\n",
       "      <td>7003001</td>\n",
       "      <td>2017</td>\n",
       "      <td>10</td>\n",
       "      <td>18.129032</td>\n",
       "      <td>39.78995</td>\n",
       "      <td>3.07413</td>\n",
       "      <td>Baleares</td>\n",
       "      <td>14.0</td>\n",
       "      <td>118.0</td>\n",
       "      <td>46.0</td>\n",
       "      <td>3530.0</td>\n",
       "    </tr>\n",
       "    <tr>\n",
       "      <th>1</th>\n",
       "      <td>13</td>\n",
       "      <td>10</td>\n",
       "      <td>13034002</td>\n",
       "      <td>2017</td>\n",
       "      <td>10</td>\n",
       "      <td>27.041935</td>\n",
       "      <td>38.99389</td>\n",
       "      <td>-3.93778</td>\n",
       "      <td>Ciudad Real</td>\n",
       "      <td>1.0</td>\n",
       "      <td>16.0</td>\n",
       "      <td>11.0</td>\n",
       "      <td>488.0</td>\n",
       "    </tr>\n",
       "    <tr>\n",
       "      <th>2</th>\n",
       "      <td>31</td>\n",
       "      <td>10</td>\n",
       "      <td>31201014</td>\n",
       "      <td>2017</td>\n",
       "      <td>10</td>\n",
       "      <td>17.512903</td>\n",
       "      <td>42.82694</td>\n",
       "      <td>-1.64944</td>\n",
       "      <td>Navarra</td>\n",
       "      <td>4.0</td>\n",
       "      <td>42.0</td>\n",
       "      <td>72.0</td>\n",
       "      <td>908.0</td>\n",
       "    </tr>\n",
       "    <tr>\n",
       "      <th>3</th>\n",
       "      <td>3</td>\n",
       "      <td>10</td>\n",
       "      <td>3014009</td>\n",
       "      <td>2017</td>\n",
       "      <td>10</td>\n",
       "      <td>8.236667</td>\n",
       "      <td>38.35111</td>\n",
       "      <td>-0.51389</td>\n",
       "      <td>Alicante</td>\n",
       "      <td>8.0</td>\n",
       "      <td>142.0</td>\n",
       "      <td>272.0</td>\n",
       "      <td>5355.0</td>\n",
       "    </tr>\n",
       "    <tr>\n",
       "      <th>4</th>\n",
       "      <td>21</td>\n",
       "      <td>10</td>\n",
       "      <td>21064002</td>\n",
       "      <td>2017</td>\n",
       "      <td>10</td>\n",
       "      <td>23.351613</td>\n",
       "      <td>37.31540</td>\n",
       "      <td>-6.84463</td>\n",
       "      <td>NaN</td>\n",
       "      <td>NaN</td>\n",
       "      <td>NaN</td>\n",
       "      <td>NaN</td>\n",
       "      <td>NaN</td>\n",
       "    </tr>\n",
       "  </tbody>\n",
       "</table>\n",
       "</div>"
      ],
      "text/plain": [
       "   PROVINCIA  MAGNITUD  PUNTO_MUESTREO  ANNO  MES  MEDIA_MAGS   LATITUD  \\\n",
       "0          7        10         7003001  2017   10   18.129032  39.78995   \n",
       "1         13        10        13034002  2017   10   27.041935  38.99389   \n",
       "2         31        10        31201014  2017   10   17.512903  42.82694   \n",
       "3          3        10         3014009  2017   10    8.236667  38.35111   \n",
       "4         21        10        21064002  2017   10   23.351613  37.31540   \n",
       "\n",
       "   LONGITUD   PROVINCIAS  CERO    ECO      B       C  \n",
       "0   3.07413     Baleares  14.0  118.0   46.0  3530.0  \n",
       "1  -3.93778  Ciudad Real   1.0   16.0   11.0   488.0  \n",
       "2  -1.64944      Navarra   4.0   42.0   72.0   908.0  \n",
       "3  -0.51389     Alicante   8.0  142.0  272.0  5355.0  \n",
       "4  -6.84463          NaN   NaN    NaN    NaN     NaN  "
      ]
     },
     "execution_count": 4,
     "metadata": {},
     "output_type": "execute_result"
    }
   ],
   "source": [
    "AirQ_and_Matriculations.head()"
   ]
  },
  {
   "cell_type": "code",
   "execution_count": 5,
   "metadata": {},
   "outputs": [
    {
     "data": {
      "text/plain": [
       "Index(['PROVINCIA', 'MAGNITUD', 'PUNTO_MUESTREO', 'ANNO', 'MES', 'MEDIA_MAGS',\n",
       "       'LATITUD', 'LONGITUD', 'PROVINCIAS', 'CERO', 'ECO', 'B', 'C'],\n",
       "      dtype='object')"
      ]
     },
     "execution_count": 5,
     "metadata": {},
     "output_type": "execute_result"
    }
   ],
   "source": [
    "AirQ_and_Matriculations.columns"
   ]
  },
  {
   "cell_type": "code",
   "execution_count": 6,
   "metadata": {},
   "outputs": [],
   "source": [
    "AirQ_and_Matriculations = AirQ_and_Matriculations.drop(['MAGNITUD', 'LATITUD', 'LONGITUD', 'PUNTO_MUESTREO', 'ANNO', 'MES'], axis=1)"
   ]
  },
  {
   "cell_type": "code",
   "execution_count": 7,
   "metadata": {},
   "outputs": [
    {
     "data": {
      "text/html": [
       "<div>\n",
       "<style scoped>\n",
       "    .dataframe tbody tr th:only-of-type {\n",
       "        vertical-align: middle;\n",
       "    }\n",
       "\n",
       "    .dataframe tbody tr th {\n",
       "        vertical-align: top;\n",
       "    }\n",
       "\n",
       "    .dataframe thead th {\n",
       "        text-align: right;\n",
       "    }\n",
       "</style>\n",
       "<table border=\"1\" class=\"dataframe\">\n",
       "  <thead>\n",
       "    <tr style=\"text-align: right;\">\n",
       "      <th></th>\n",
       "      <th>PROVINCIA</th>\n",
       "      <th>MEDIA_MAGS</th>\n",
       "      <th>CERO</th>\n",
       "      <th>ECO</th>\n",
       "      <th>B</th>\n",
       "      <th>C</th>\n",
       "    </tr>\n",
       "  </thead>\n",
       "  <tbody>\n",
       "    <tr>\n",
       "      <th>PROVINCIA</th>\n",
       "      <td>1.000000</td>\n",
       "      <td>-0.091688</td>\n",
       "      <td>-0.062055</td>\n",
       "      <td>-0.190624</td>\n",
       "      <td>-0.123035</td>\n",
       "      <td>-0.198443</td>\n",
       "    </tr>\n",
       "    <tr>\n",
       "      <th>MEDIA_MAGS</th>\n",
       "      <td>-0.091688</td>\n",
       "      <td>1.000000</td>\n",
       "      <td>-0.012321</td>\n",
       "      <td>0.042001</td>\n",
       "      <td>0.028667</td>\n",
       "      <td>0.064655</td>\n",
       "    </tr>\n",
       "    <tr>\n",
       "      <th>CERO</th>\n",
       "      <td>-0.062055</td>\n",
       "      <td>-0.012321</td>\n",
       "      <td>1.000000</td>\n",
       "      <td>0.935851</td>\n",
       "      <td>0.570770</td>\n",
       "      <td>0.789494</td>\n",
       "    </tr>\n",
       "    <tr>\n",
       "      <th>ECO</th>\n",
       "      <td>-0.190624</td>\n",
       "      <td>0.042001</td>\n",
       "      <td>0.935851</td>\n",
       "      <td>1.000000</td>\n",
       "      <td>0.724729</td>\n",
       "      <td>0.939119</td>\n",
       "    </tr>\n",
       "    <tr>\n",
       "      <th>B</th>\n",
       "      <td>-0.123035</td>\n",
       "      <td>0.028667</td>\n",
       "      <td>0.570770</td>\n",
       "      <td>0.724729</td>\n",
       "      <td>1.000000</td>\n",
       "      <td>0.866200</td>\n",
       "    </tr>\n",
       "    <tr>\n",
       "      <th>C</th>\n",
       "      <td>-0.198443</td>\n",
       "      <td>0.064655</td>\n",
       "      <td>0.789494</td>\n",
       "      <td>0.939119</td>\n",
       "      <td>0.866200</td>\n",
       "      <td>1.000000</td>\n",
       "    </tr>\n",
       "  </tbody>\n",
       "</table>\n",
       "</div>"
      ],
      "text/plain": [
       "            PROVINCIA  MEDIA_MAGS      CERO       ECO         B         C\n",
       "PROVINCIA    1.000000   -0.091688 -0.062055 -0.190624 -0.123035 -0.198443\n",
       "MEDIA_MAGS  -0.091688    1.000000 -0.012321  0.042001  0.028667  0.064655\n",
       "CERO        -0.062055   -0.012321  1.000000  0.935851  0.570770  0.789494\n",
       "ECO         -0.190624    0.042001  0.935851  1.000000  0.724729  0.939119\n",
       "B           -0.123035    0.028667  0.570770  0.724729  1.000000  0.866200\n",
       "C           -0.198443    0.064655  0.789494  0.939119  0.866200  1.000000"
      ]
     },
     "execution_count": 7,
     "metadata": {},
     "output_type": "execute_result"
    }
   ],
   "source": [
    "AirQ_and_Matriculations.corr()"
   ]
  },
  {
   "cell_type": "code",
   "execution_count": 8,
   "metadata": {},
   "outputs": [
    {
     "data": {
      "image/png": "[encoded data removed]",
      "text/plain": [
       "<Figure size 1080x720 with 2 Axes>"
      ]
     },
     "metadata": {
      "needs_background": "light"
     },
     "output_type": "display_data"
    }
   ],
   "source": [
    "plt.figure(figsize=(15, 10))\n",
    "heatmap = sns.heatmap(AirQ_and_Matriculations.corr(), vmin=-1, vmax=1, annot=True)"
   ]
  },
  {
   "cell_type": "markdown",
   "metadata": {},
   "source": [
    "No correlation is apreciated between the number of matriculations and the mean values of pollution indicators"
   ]
  }
 ],
 "metadata": {
  "kernelspec": {
   "display_name": "Python 3",
   "language": "python",
   "name": "python3"
  },
  "language_info": {
   "codemirror_mode": {
    "name": "ipython",
    "version": 3
   },
   "file_extension": ".py",
   "mimetype": "text/x-python",
   "name": "python",
   "nbconvert_exporter": "python",
   "pygments_lexer": "ipython3",
   "version": "3.9.1"
  }
 },
 "nbformat": 4,
 "nbformat_minor": 4
}
