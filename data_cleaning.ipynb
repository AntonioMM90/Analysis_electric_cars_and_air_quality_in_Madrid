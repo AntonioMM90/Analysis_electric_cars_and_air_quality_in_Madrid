{
 "cells": [
  {
   "cell_type": "markdown",
   "metadata": {},
   "source": [
    "## IMPORTING NECCESARY LIBRARIES"
   ]
  },
  {
   "cell_type": "code",
   "execution_count": 1,
   "metadata": {},
   "outputs": [],
   "source": [
    "import pandas as pd\n",
    "import requests\n",
    "import json"
   ]
  },
  {
   "cell_type": "markdown",
   "metadata": {},
   "source": [
    "### MEASURED MAGNITUDES"
   ]
  },
  {
   "cell_type": "markdown",
   "metadata": {},
   "source": [
    "To interpret the data of air quality, obtained from the Ministry for the Ecological Transition, we first have download some explanatory tables."
   ]
  },
  {
   "cell_type": "code",
   "execution_count": 2,
   "metadata": {
    "scrolled": true
   },
   "outputs": [],
   "source": [
    "magnitudes_esp = pd.read_excel('./data/data_aire_esp/estacionesymagnitudes_2018_tcm30-501408.xlsx',sheet_name=\"Magnitudes\",  header = 0)"
   ]
  },
  {
   "cell_type": "code",
   "execution_count": 27,
   "metadata": {},
   "outputs": [
    {
     "ename": "KeyError",
     "evalue": "\"['GRUPO'] not found in axis\"",
     "output_type": "error",
     "traceback": [
      "\u001b[0;31m---------------------------------------------------------------------------\u001b[0m",
      "\u001b[0;31mKeyError\u001b[0m                                  Traceback (most recent call last)",
      "\u001b[0;32m<ipython-input-27-9aa4d260152c>\u001b[0m in \u001b[0;36m<module>\u001b[0;34m\u001b[0m\n\u001b[0;32m----> 1\u001b[0;31m \u001b[0mmagnitudes_esp\u001b[0m \u001b[0;34m=\u001b[0m \u001b[0mmagnitudes_esp\u001b[0m\u001b[0;34m.\u001b[0m\u001b[0mdrop\u001b[0m\u001b[0;34m(\u001b[0m\u001b[0;34m'GRUPO'\u001b[0m\u001b[0;34m,\u001b[0m \u001b[0maxis\u001b[0m\u001b[0;34m=\u001b[0m \u001b[0;34m'columns'\u001b[0m\u001b[0;34m)\u001b[0m\u001b[0;34m\u001b[0m\u001b[0;34m\u001b[0m\u001b[0m\n\u001b[0m",
      "\u001b[0;32m/usr/local/lib/python3.9/site-packages/pandas/core/frame.py\u001b[0m in \u001b[0;36mdrop\u001b[0;34m(self, labels, axis, index, columns, level, inplace, errors)\u001b[0m\n\u001b[1;32m   4303\u001b[0m                 \u001b[0mweight\u001b[0m  \u001b[0;36m1.0\u001b[0m     \u001b[0;36m0.8\u001b[0m\u001b[0;34m\u001b[0m\u001b[0;34m\u001b[0m\u001b[0m\n\u001b[1;32m   4304\u001b[0m         \"\"\"\n\u001b[0;32m-> 4305\u001b[0;31m         return super().drop(\n\u001b[0m\u001b[1;32m   4306\u001b[0m             \u001b[0mlabels\u001b[0m\u001b[0;34m=\u001b[0m\u001b[0mlabels\u001b[0m\u001b[0;34m,\u001b[0m\u001b[0;34m\u001b[0m\u001b[0;34m\u001b[0m\u001b[0m\n\u001b[1;32m   4307\u001b[0m             \u001b[0maxis\u001b[0m\u001b[0;34m=\u001b[0m\u001b[0maxis\u001b[0m\u001b[0;34m,\u001b[0m\u001b[0;34m\u001b[0m\u001b[0;34m\u001b[0m\u001b[0m\n",
      "\u001b[0;32m/usr/local/lib/python3.9/site-packages/pandas/core/generic.py\u001b[0m in \u001b[0;36mdrop\u001b[0;34m(self, labels, axis, index, columns, level, inplace, errors)\u001b[0m\n\u001b[1;32m   4150\u001b[0m         \u001b[0;32mfor\u001b[0m \u001b[0maxis\u001b[0m\u001b[0;34m,\u001b[0m \u001b[0mlabels\u001b[0m \u001b[0;32min\u001b[0m \u001b[0maxes\u001b[0m\u001b[0;34m.\u001b[0m\u001b[0mitems\u001b[0m\u001b[0;34m(\u001b[0m\u001b[0;34m)\u001b[0m\u001b[0;34m:\u001b[0m\u001b[0;34m\u001b[0m\u001b[0;34m\u001b[0m\u001b[0m\n\u001b[1;32m   4151\u001b[0m             \u001b[0;32mif\u001b[0m \u001b[0mlabels\u001b[0m \u001b[0;32mis\u001b[0m \u001b[0;32mnot\u001b[0m \u001b[0;32mNone\u001b[0m\u001b[0;34m:\u001b[0m\u001b[0;34m\u001b[0m\u001b[0;34m\u001b[0m\u001b[0m\n\u001b[0;32m-> 4152\u001b[0;31m                 \u001b[0mobj\u001b[0m \u001b[0;34m=\u001b[0m \u001b[0mobj\u001b[0m\u001b[0;34m.\u001b[0m\u001b[0m_drop_axis\u001b[0m\u001b[0;34m(\u001b[0m\u001b[0mlabels\u001b[0m\u001b[0;34m,\u001b[0m \u001b[0maxis\u001b[0m\u001b[0;34m,\u001b[0m \u001b[0mlevel\u001b[0m\u001b[0;34m=\u001b[0m\u001b[0mlevel\u001b[0m\u001b[0;34m,\u001b[0m \u001b[0merrors\u001b[0m\u001b[0;34m=\u001b[0m\u001b[0merrors\u001b[0m\u001b[0;34m)\u001b[0m\u001b[0;34m\u001b[0m\u001b[0;34m\u001b[0m\u001b[0m\n\u001b[0m\u001b[1;32m   4153\u001b[0m \u001b[0;34m\u001b[0m\u001b[0m\n\u001b[1;32m   4154\u001b[0m         \u001b[0;32mif\u001b[0m \u001b[0minplace\u001b[0m\u001b[0;34m:\u001b[0m\u001b[0;34m\u001b[0m\u001b[0;34m\u001b[0m\u001b[0m\n",
      "\u001b[0;32m/usr/local/lib/python3.9/site-packages/pandas/core/generic.py\u001b[0m in \u001b[0;36m_drop_axis\u001b[0;34m(self, labels, axis, level, errors)\u001b[0m\n\u001b[1;32m   4185\u001b[0m                 \u001b[0mnew_axis\u001b[0m \u001b[0;34m=\u001b[0m \u001b[0maxis\u001b[0m\u001b[0;34m.\u001b[0m\u001b[0mdrop\u001b[0m\u001b[0;34m(\u001b[0m\u001b[0mlabels\u001b[0m\u001b[0;34m,\u001b[0m \u001b[0mlevel\u001b[0m\u001b[0;34m=\u001b[0m\u001b[0mlevel\u001b[0m\u001b[0;34m,\u001b[0m \u001b[0merrors\u001b[0m\u001b[0;34m=\u001b[0m\u001b[0merrors\u001b[0m\u001b[0;34m)\u001b[0m\u001b[0;34m\u001b[0m\u001b[0;34m\u001b[0m\u001b[0m\n\u001b[1;32m   4186\u001b[0m             \u001b[0;32melse\u001b[0m\u001b[0;34m:\u001b[0m\u001b[0;34m\u001b[0m\u001b[0;34m\u001b[0m\u001b[0m\n\u001b[0;32m-> 4187\u001b[0;31m                 \u001b[0mnew_axis\u001b[0m \u001b[0;34m=\u001b[0m \u001b[0maxis\u001b[0m\u001b[0;34m.\u001b[0m\u001b[0mdrop\u001b[0m\u001b[0;34m(\u001b[0m\u001b[0mlabels\u001b[0m\u001b[0;34m,\u001b[0m \u001b[0merrors\u001b[0m\u001b[0;34m=\u001b[0m\u001b[0merrors\u001b[0m\u001b[0;34m)\u001b[0m\u001b[0;34m\u001b[0m\u001b[0;34m\u001b[0m\u001b[0m\n\u001b[0m\u001b[1;32m   4188\u001b[0m             \u001b[0mresult\u001b[0m \u001b[0;34m=\u001b[0m \u001b[0mself\u001b[0m\u001b[0;34m.\u001b[0m\u001b[0mreindex\u001b[0m\u001b[0;34m(\u001b[0m\u001b[0;34m**\u001b[0m\u001b[0;34m{\u001b[0m\u001b[0maxis_name\u001b[0m\u001b[0;34m:\u001b[0m \u001b[0mnew_axis\u001b[0m\u001b[0;34m}\u001b[0m\u001b[0;34m)\u001b[0m\u001b[0;34m\u001b[0m\u001b[0;34m\u001b[0m\u001b[0m\n\u001b[1;32m   4189\u001b[0m \u001b[0;34m\u001b[0m\u001b[0m\n",
      "\u001b[0;32m/usr/local/lib/python3.9/site-packages/pandas/core/indexes/base.py\u001b[0m in \u001b[0;36mdrop\u001b[0;34m(self, labels, errors)\u001b[0m\n\u001b[1;32m   5589\u001b[0m         \u001b[0;32mif\u001b[0m \u001b[0mmask\u001b[0m\u001b[0;34m.\u001b[0m\u001b[0many\u001b[0m\u001b[0;34m(\u001b[0m\u001b[0;34m)\u001b[0m\u001b[0;34m:\u001b[0m\u001b[0;34m\u001b[0m\u001b[0;34m\u001b[0m\u001b[0m\n\u001b[1;32m   5590\u001b[0m             \u001b[0;32mif\u001b[0m \u001b[0merrors\u001b[0m \u001b[0;34m!=\u001b[0m \u001b[0;34m\"ignore\"\u001b[0m\u001b[0;34m:\u001b[0m\u001b[0;34m\u001b[0m\u001b[0;34m\u001b[0m\u001b[0m\n\u001b[0;32m-> 5591\u001b[0;31m                 \u001b[0;32mraise\u001b[0m \u001b[0mKeyError\u001b[0m\u001b[0;34m(\u001b[0m\u001b[0;34mf\"{labels[mask]} not found in axis\"\u001b[0m\u001b[0;34m)\u001b[0m\u001b[0;34m\u001b[0m\u001b[0;34m\u001b[0m\u001b[0m\n\u001b[0m\u001b[1;32m   5592\u001b[0m             \u001b[0mindexer\u001b[0m \u001b[0;34m=\u001b[0m \u001b[0mindexer\u001b[0m\u001b[0;34m[\u001b[0m\u001b[0;34m~\u001b[0m\u001b[0mmask\u001b[0m\u001b[0;34m]\u001b[0m\u001b[0;34m\u001b[0m\u001b[0;34m\u001b[0m\u001b[0m\n\u001b[1;32m   5593\u001b[0m         \u001b[0;32mreturn\u001b[0m \u001b[0mself\u001b[0m\u001b[0;34m.\u001b[0m\u001b[0mdelete\u001b[0m\u001b[0;34m(\u001b[0m\u001b[0mindexer\u001b[0m\u001b[0;34m)\u001b[0m\u001b[0;34m\u001b[0m\u001b[0;34m\u001b[0m\u001b[0m\n",
      "\u001b[0;31mKeyError\u001b[0m: \"['GRUPO'] not found in axis\""
     ]
    }
   ],
   "source": [
    "magnitudes_esp = magnitudes_esp.drop('GRUPO', axis= 'columns')"
   ]
  },
  {
   "cell_type": "code",
   "execution_count": 28,
   "metadata": {},
   "outputs": [],
   "source": [
    "magnitudes_esp.columns = ['Codigo', 'Magnitud', 'Abreviatura o fórmula', 'Unidad medida']"
   ]
  },
  {
   "cell_type": "code",
   "execution_count": 30,
   "metadata": {},
   "outputs": [],
   "source": [
    "magnitudes_esp['Magnitud'] = magnitudes_esp['Magnitud'].str.lower()\n",
    "magnitudes_esp['Magnitud'] = magnitudes_esp['Magnitud'].str.capitalize()"
   ]
  },
  {
   "cell_type": "code",
   "execution_count": 59,
   "metadata": {},
   "outputs": [
    {
     "data": {
      "text/html": [
       "<div>\n",
       "<style scoped>\n",
       "    .dataframe tbody tr th:only-of-type {\n",
       "        vertical-align: middle;\n",
       "    }\n",
       "\n",
       "    .dataframe tbody tr th {\n",
       "        vertical-align: top;\n",
       "    }\n",
       "\n",
       "    .dataframe thead th {\n",
       "        text-align: right;\n",
       "    }\n",
       "</style>\n",
       "<table border=\"1\" class=\"dataframe\">\n",
       "  <thead>\n",
       "    <tr style=\"text-align: right;\">\n",
       "      <th></th>\n",
       "      <th>Codigo</th>\n",
       "      <th>Magnitud</th>\n",
       "      <th>Abreviatura o fórmula</th>\n",
       "      <th>Unidad medida</th>\n",
       "    </tr>\n",
       "  </thead>\n",
       "  <tbody>\n",
       "    <tr>\n",
       "      <th>0</th>\n",
       "      <td>1</td>\n",
       "      <td>Dióxido de azufre</td>\n",
       "      <td>SO2</td>\n",
       "      <td>µg/m3</td>\n",
       "    </tr>\n",
       "    <tr>\n",
       "      <th>1</th>\n",
       "      <td>6</td>\n",
       "      <td>Monóxido de carbono</td>\n",
       "      <td>CO</td>\n",
       "      <td>mg/m3</td>\n",
       "    </tr>\n",
       "    <tr>\n",
       "      <th>2</th>\n",
       "      <td>7</td>\n",
       "      <td>Monóxido de nitrógeno</td>\n",
       "      <td>NO</td>\n",
       "      <td>µg/m3</td>\n",
       "    </tr>\n",
       "    <tr>\n",
       "      <th>3</th>\n",
       "      <td>8</td>\n",
       "      <td>Dióxido de nitrógeno</td>\n",
       "      <td>NO2</td>\n",
       "      <td>µg/m3</td>\n",
       "    </tr>\n",
       "    <tr>\n",
       "      <th>4</th>\n",
       "      <td>9</td>\n",
       "      <td>Partículas en suspensión &lt;2,5µm</td>\n",
       "      <td>PM2.5</td>\n",
       "      <td>µg/m3</td>\n",
       "    </tr>\n",
       "    <tr>\n",
       "      <th>5</th>\n",
       "      <td>10</td>\n",
       "      <td>Partículas en suspensión &lt;10µm</td>\n",
       "      <td>PM10</td>\n",
       "      <td>µg/m3</td>\n",
       "    </tr>\n",
       "    <tr>\n",
       "      <th>6</th>\n",
       "      <td>12</td>\n",
       "      <td>Óxidos de nitrógeno totales</td>\n",
       "      <td>NOX</td>\n",
       "      <td>µg/m3 NO2</td>\n",
       "    </tr>\n",
       "    <tr>\n",
       "      <th>7</th>\n",
       "      <td>14</td>\n",
       "      <td>Ozono</td>\n",
       "      <td>O3</td>\n",
       "      <td>µg/m3</td>\n",
       "    </tr>\n",
       "    <tr>\n",
       "      <th>8</th>\n",
       "      <td>17</td>\n",
       "      <td>Arsenico (pm10)</td>\n",
       "      <td>As</td>\n",
       "      <td>ng/m3</td>\n",
       "    </tr>\n",
       "    <tr>\n",
       "      <th>9</th>\n",
       "      <td>19</td>\n",
       "      <td>Plomo (pm10)</td>\n",
       "      <td>Pb</td>\n",
       "      <td>µg/m3</td>\n",
       "    </tr>\n",
       "    <tr>\n",
       "      <th>10</th>\n",
       "      <td>27</td>\n",
       "      <td>Benzo(a)pireno (pm10)</td>\n",
       "      <td>BAP</td>\n",
       "      <td>ng/m3</td>\n",
       "    </tr>\n",
       "    <tr>\n",
       "      <th>11</th>\n",
       "      <td>28</td>\n",
       "      <td>Cadmio (pm10)</td>\n",
       "      <td>Cd</td>\n",
       "      <td>ng/m3</td>\n",
       "    </tr>\n",
       "    <tr>\n",
       "      <th>12</th>\n",
       "      <td>30</td>\n",
       "      <td>Benceno</td>\n",
       "      <td>C6H6</td>\n",
       "      <td>µg/m3</td>\n",
       "    </tr>\n",
       "    <tr>\n",
       "      <th>13</th>\n",
       "      <td>62</td>\n",
       "      <td>Níquel (pm10)</td>\n",
       "      <td>NI</td>\n",
       "      <td>ng/m3</td>\n",
       "    </tr>\n",
       "  </tbody>\n",
       "</table>\n",
       "</div>"
      ],
      "text/plain": [
       "    Codigo                         Magnitud Abreviatura o fórmula  \\\n",
       "0        1                Dióxido de azufre                   SO2   \n",
       "1        6              Monóxido de carbono                    CO   \n",
       "2        7            Monóxido de nitrógeno                    NO   \n",
       "3        8             Dióxido de nitrógeno                   NO2   \n",
       "4        9  Partículas en suspensión <2,5µm                 PM2.5   \n",
       "5       10   Partículas en suspensión <10µm                  PM10   \n",
       "6       12      Óxidos de nitrógeno totales                   NOX   \n",
       "7       14                            Ozono                    O3   \n",
       "8       17                  Arsenico (pm10)                    As   \n",
       "9       19                     Plomo (pm10)                    Pb   \n",
       "10      27            Benzo(a)pireno (pm10)                   BAP   \n",
       "11      28                    Cadmio (pm10)                    Cd   \n",
       "12      30                          Benceno                  C6H6   \n",
       "13      62                    Níquel (pm10)                    NI   \n",
       "\n",
       "   Unidad medida  \n",
       "0          µg/m3  \n",
       "1          mg/m3  \n",
       "2          µg/m3  \n",
       "3          µg/m3  \n",
       "4          µg/m3  \n",
       "5          µg/m3  \n",
       "6      µg/m3 NO2  \n",
       "7          µg/m3  \n",
       "8          ng/m3  \n",
       "9          µg/m3  \n",
       "10         ng/m3  \n",
       "11         ng/m3  \n",
       "12         µg/m3  \n",
       "13         ng/m3  "
      ]
     },
     "execution_count": 59,
     "metadata": {},
     "output_type": "execute_result"
    }
   ],
   "source": [
    "magnitudes_esp"
   ]
  },
  {
   "cell_type": "code",
   "execution_count": 6,
   "metadata": {},
   "outputs": [
    {
     "data": {
      "text/html": [
       "<div>\n",
       "<style scoped>\n",
       "    .dataframe tbody tr th:only-of-type {\n",
       "        vertical-align: middle;\n",
       "    }\n",
       "\n",
       "    .dataframe tbody tr th {\n",
       "        vertical-align: top;\n",
       "    }\n",
       "\n",
       "    .dataframe thead th {\n",
       "        text-align: right;\n",
       "    }\n",
       "</style>\n",
       "<table border=\"1\" class=\"dataframe\">\n",
       "  <thead>\n",
       "    <tr style=\"text-align: right;\">\n",
       "      <th></th>\n",
       "      <th>Codigo</th>\n",
       "      <th>Magnitud</th>\n",
       "      <th>Abreviatura o fórmula</th>\n",
       "      <th>Unidad medida</th>\n",
       "      <th>Técnica de medida</th>\n",
       "    </tr>\n",
       "  </thead>\n",
       "  <tbody>\n",
       "    <tr>\n",
       "      <th>0</th>\n",
       "      <td>1</td>\n",
       "      <td>Dióxido de Azufre</td>\n",
       "      <td>SO2</td>\n",
       "      <td>μg/m 3</td>\n",
       "      <td>Fluorescencia ultravioleta</td>\n",
       "    </tr>\n",
       "    <tr>\n",
       "      <th>1</th>\n",
       "      <td>6</td>\n",
       "      <td>Monóxido de Carbono</td>\n",
       "      <td>CO</td>\n",
       "      <td>mg/m3</td>\n",
       "      <td>Absorción infrarroja</td>\n",
       "    </tr>\n",
       "    <tr>\n",
       "      <th>2</th>\n",
       "      <td>7</td>\n",
       "      <td>Monóxido de Nitrógeno</td>\n",
       "      <td>NO</td>\n",
       "      <td>μg/m3</td>\n",
       "      <td>Quimioluminiscencia</td>\n",
       "    </tr>\n",
       "    <tr>\n",
       "      <th>3</th>\n",
       "      <td>8</td>\n",
       "      <td>Dióxido de Nitrógeno</td>\n",
       "      <td>NO2</td>\n",
       "      <td>μg/m 3</td>\n",
       "      <td>Id.</td>\n",
       "    </tr>\n",
       "    <tr>\n",
       "      <th>4</th>\n",
       "      <td>9</td>\n",
       "      <td>Partículas &lt; 2.5 μm</td>\n",
       "      <td>PM2.5</td>\n",
       "      <td>μg/m3</td>\n",
       "      <td>Microbalanza</td>\n",
       "    </tr>\n",
       "  </tbody>\n",
       "</table>\n",
       "</div>"
      ],
      "text/plain": [
       "   Codigo                  Magnitud Abreviatura o fórmula  Unidad medida   \\\n",
       "0       1       Dióxido de Azufre                     SO2         μg/m 3    \n",
       "1       6     Monóxido de Carbono                      CO          mg/m3    \n",
       "2       7  Monóxido de Nitrógeno                      NO          μg/m3    \n",
       "3       8   Dióxido de Nitrógeno                     NO2         μg/m 3    \n",
       "4       9     Partículas < 2.5 μm                   PM2.5          μg/m3    \n",
       "\n",
       "           Técnica de medida   \n",
       "0  Fluorescencia ultravioleta   \n",
       "1       Absorción infrarroja   \n",
       "2         Quimioluminiscencia   \n",
       "3                         Id.   \n",
       "4                Microbalanza   "
      ]
     },
     "execution_count": 6,
     "metadata": {},
     "output_type": "execute_result"
    }
   ],
   "source": [
    "magnitudes_mad = pd.read_excel('./data/magnitudes_unidades_tecnicas.xlsx', header = 0)"
   ]
  },
  {
   "cell_type": "code",
   "execution_count": 34,
   "metadata": {},
   "outputs": [],
   "source": [
    "magnitudes_mad.columns = ['Codigo', 'Magnitud', 'Abreviatura o fórmula', 'Unidad medida', 'Técnica de medida']"
   ]
  },
  {
   "cell_type": "code",
   "execution_count": 35,
   "metadata": {},
   "outputs": [],
   "source": [
    "magnitudes_mad = magnitudes_mad.drop('Técnica de medida', axis= 'columns')"
   ]
  },
  {
   "cell_type": "code",
   "execution_count": 36,
   "metadata": {},
   "outputs": [
    {
     "data": {
      "text/html": [
       "<div>\n",
       "<style scoped>\n",
       "    .dataframe tbody tr th:only-of-type {\n",
       "        vertical-align: middle;\n",
       "    }\n",
       "\n",
       "    .dataframe tbody tr th {\n",
       "        vertical-align: top;\n",
       "    }\n",
       "\n",
       "    .dataframe thead th {\n",
       "        text-align: right;\n",
       "    }\n",
       "</style>\n",
       "<table border=\"1\" class=\"dataframe\">\n",
       "  <thead>\n",
       "    <tr style=\"text-align: right;\">\n",
       "      <th></th>\n",
       "      <th>Codigo</th>\n",
       "      <th>Magnitud</th>\n",
       "      <th>Abreviatura o fórmula</th>\n",
       "      <th>Unidad medida</th>\n",
       "    </tr>\n",
       "  </thead>\n",
       "  <tbody>\n",
       "    <tr>\n",
       "      <th>0</th>\n",
       "      <td>1</td>\n",
       "      <td>Dióxido de Azufre</td>\n",
       "      <td>SO2</td>\n",
       "      <td>μg/m 3</td>\n",
       "    </tr>\n",
       "    <tr>\n",
       "      <th>1</th>\n",
       "      <td>6</td>\n",
       "      <td>Monóxido de Carbono</td>\n",
       "      <td>CO</td>\n",
       "      <td>mg/m3</td>\n",
       "    </tr>\n",
       "    <tr>\n",
       "      <th>2</th>\n",
       "      <td>7</td>\n",
       "      <td>Monóxido de Nitrógeno</td>\n",
       "      <td>NO</td>\n",
       "      <td>μg/m3</td>\n",
       "    </tr>\n",
       "    <tr>\n",
       "      <th>3</th>\n",
       "      <td>8</td>\n",
       "      <td>Dióxido de Nitrógeno</td>\n",
       "      <td>NO2</td>\n",
       "      <td>μg/m 3</td>\n",
       "    </tr>\n",
       "    <tr>\n",
       "      <th>4</th>\n",
       "      <td>9</td>\n",
       "      <td>Partículas &lt; 2.5 μm</td>\n",
       "      <td>PM2.5</td>\n",
       "      <td>μg/m3</td>\n",
       "    </tr>\n",
       "  </tbody>\n",
       "</table>\n",
       "</div>"
      ],
      "text/plain": [
       "   Codigo                  Magnitud Abreviatura o fórmula Unidad medida\n",
       "0       1       Dióxido de Azufre                   SO2        μg/m 3 \n",
       "1       6     Monóxido de Carbono                    CO         mg/m3 \n",
       "2       7  Monóxido de Nitrógeno                    NO         μg/m3 \n",
       "3       8   Dióxido de Nitrógeno                   NO2        μg/m 3 \n",
       "4       9     Partículas < 2.5 μm                 PM2.5         μg/m3 "
      ]
     },
     "execution_count": 36,
     "metadata": {},
     "output_type": "execute_result"
    }
   ],
   "source": [
    "magnitudes_mad.head()"
   ]
  },
  {
   "cell_type": "code",
   "execution_count": 154,
   "metadata": {},
   "outputs": [
    {
     "data": {
      "text/html": [
       "<div>\n",
       "<style scoped>\n",
       "    .dataframe tbody tr th:only-of-type {\n",
       "        vertical-align: middle;\n",
       "    }\n",
       "\n",
       "    .dataframe tbody tr th {\n",
       "        vertical-align: top;\n",
       "    }\n",
       "\n",
       "    .dataframe thead th {\n",
       "        text-align: right;\n",
       "    }\n",
       "</style>\n",
       "<table border=\"1\" class=\"dataframe\">\n",
       "  <thead>\n",
       "    <tr style=\"text-align: right;\">\n",
       "      <th></th>\n",
       "      <th>Codigo</th>\n",
       "      <th>Magnitud</th>\n",
       "      <th>Abreviatura o fórmula</th>\n",
       "      <th>Unidad medida</th>\n",
       "    </tr>\n",
       "  </thead>\n",
       "  <tbody>\n",
       "    <tr>\n",
       "      <th>0</th>\n",
       "      <td>1</td>\n",
       "      <td>Dióxido de azufre</td>\n",
       "      <td>SO2</td>\n",
       "      <td>µg/m3</td>\n",
       "    </tr>\n",
       "    <tr>\n",
       "      <th>1</th>\n",
       "      <td>6</td>\n",
       "      <td>Monóxido de carbono</td>\n",
       "      <td>CO</td>\n",
       "      <td>mg/m3</td>\n",
       "    </tr>\n",
       "    <tr>\n",
       "      <th>2</th>\n",
       "      <td>7</td>\n",
       "      <td>Monóxido de nitrógeno</td>\n",
       "      <td>NO</td>\n",
       "      <td>µg/m3</td>\n",
       "    </tr>\n",
       "    <tr>\n",
       "      <th>3</th>\n",
       "      <td>8</td>\n",
       "      <td>Dióxido de nitrógeno</td>\n",
       "      <td>NO2</td>\n",
       "      <td>µg/m3</td>\n",
       "    </tr>\n",
       "    <tr>\n",
       "      <th>4</th>\n",
       "      <td>9</td>\n",
       "      <td>Partículas en suspensión &lt;2,5µm</td>\n",
       "      <td>PM2.5</td>\n",
       "      <td>µg/m3</td>\n",
       "    </tr>\n",
       "    <tr>\n",
       "      <th>5</th>\n",
       "      <td>10</td>\n",
       "      <td>Partículas en suspensión &lt;10µm</td>\n",
       "      <td>PM10</td>\n",
       "      <td>µg/m3</td>\n",
       "    </tr>\n",
       "    <tr>\n",
       "      <th>6</th>\n",
       "      <td>12</td>\n",
       "      <td>Óxidos de nitrógeno totales</td>\n",
       "      <td>NOX</td>\n",
       "      <td>µg/m3 NO2</td>\n",
       "    </tr>\n",
       "    <tr>\n",
       "      <th>7</th>\n",
       "      <td>14</td>\n",
       "      <td>Ozono</td>\n",
       "      <td>O3</td>\n",
       "      <td>µg/m3</td>\n",
       "    </tr>\n",
       "    <tr>\n",
       "      <th>8</th>\n",
       "      <td>17</td>\n",
       "      <td>Arsenico (pm10)</td>\n",
       "      <td>As</td>\n",
       "      <td>ng/m3</td>\n",
       "    </tr>\n",
       "    <tr>\n",
       "      <th>9</th>\n",
       "      <td>19</td>\n",
       "      <td>Plomo (pm10)</td>\n",
       "      <td>Pb</td>\n",
       "      <td>µg/m3</td>\n",
       "    </tr>\n",
       "    <tr>\n",
       "      <th>10</th>\n",
       "      <td>27</td>\n",
       "      <td>Benzo(a)pireno (pm10)</td>\n",
       "      <td>BAP</td>\n",
       "      <td>ng/m3</td>\n",
       "    </tr>\n",
       "    <tr>\n",
       "      <th>11</th>\n",
       "      <td>28</td>\n",
       "      <td>Cadmio (pm10)</td>\n",
       "      <td>Cd</td>\n",
       "      <td>ng/m3</td>\n",
       "    </tr>\n",
       "    <tr>\n",
       "      <th>12</th>\n",
       "      <td>30</td>\n",
       "      <td>Benceno</td>\n",
       "      <td>C6H6</td>\n",
       "      <td>µg/m3</td>\n",
       "    </tr>\n",
       "    <tr>\n",
       "      <th>13</th>\n",
       "      <td>62</td>\n",
       "      <td>Níquel (pm10)</td>\n",
       "      <td>NI</td>\n",
       "      <td>ng/m3</td>\n",
       "    </tr>\n",
       "    <tr>\n",
       "      <th>8</th>\n",
       "      <td>20</td>\n",
       "      <td>Tolueno</td>\n",
       "      <td>TOL</td>\n",
       "      <td>μg/m3</td>\n",
       "    </tr>\n",
       "    <tr>\n",
       "      <th>10</th>\n",
       "      <td>35</td>\n",
       "      <td>Etilbenceno</td>\n",
       "      <td>EBE</td>\n",
       "      <td>μg/m3</td>\n",
       "    </tr>\n",
       "    <tr>\n",
       "      <th>11</th>\n",
       "      <td>37</td>\n",
       "      <td>Metaxileno</td>\n",
       "      <td>MXY</td>\n",
       "      <td>μg/m3</td>\n",
       "    </tr>\n",
       "    <tr>\n",
       "      <th>12</th>\n",
       "      <td>38</td>\n",
       "      <td>Paraxileno</td>\n",
       "      <td>PXY</td>\n",
       "      <td>μg/m3</td>\n",
       "    </tr>\n",
       "    <tr>\n",
       "      <th>13</th>\n",
       "      <td>39</td>\n",
       "      <td>Ortoxileno</td>\n",
       "      <td>OXY</td>\n",
       "      <td>μg/m3</td>\n",
       "    </tr>\n",
       "    <tr>\n",
       "      <th>14</th>\n",
       "      <td>42</td>\n",
       "      <td>Hidrocarburos totales (hexano)</td>\n",
       "      <td>TCH</td>\n",
       "      <td>mg/m3</td>\n",
       "    </tr>\n",
       "    <tr>\n",
       "      <th>15</th>\n",
       "      <td>43</td>\n",
       "      <td>Metano</td>\n",
       "      <td>CH4</td>\n",
       "      <td>mg/m3</td>\n",
       "    </tr>\n",
       "    <tr>\n",
       "      <th>16</th>\n",
       "      <td>44</td>\n",
       "      <td>Hidrocarburos no metánicos (hexano)</td>\n",
       "      <td>NMHC</td>\n",
       "      <td>mg/m3</td>\n",
       "    </tr>\n",
       "  </tbody>\n",
       "</table>\n",
       "</div>"
      ],
      "text/plain": [
       "    Codigo                               Magnitud Abreviatura o fórmula  \\\n",
       "0        1                      Dióxido de azufre                   SO2   \n",
       "1        6                    Monóxido de carbono                    CO   \n",
       "2        7                  Monóxido de nitrógeno                    NO   \n",
       "3        8                   Dióxido de nitrógeno                   NO2   \n",
       "4        9        Partículas en suspensión <2,5µm                 PM2.5   \n",
       "5       10         Partículas en suspensión <10µm                  PM10   \n",
       "6       12            Óxidos de nitrógeno totales                   NOX   \n",
       "7       14                                  Ozono                    O3   \n",
       "8       17                        Arsenico (pm10)                    As   \n",
       "9       19                           Plomo (pm10)                    Pb   \n",
       "10      27                  Benzo(a)pireno (pm10)                   BAP   \n",
       "11      28                          Cadmio (pm10)                    Cd   \n",
       "12      30                                Benceno                  C6H6   \n",
       "13      62                          Níquel (pm10)                    NI   \n",
       "8       20                               Tolueno                   TOL    \n",
       "10      35                           Etilbenceno                   EBE    \n",
       "11      37                            Metaxileno                   MXY    \n",
       "12      38                            Paraxileno                   PXY    \n",
       "13      39                            Ortoxileno                   OXY    \n",
       "14      42        Hidrocarburos totales (hexano)                   TCH    \n",
       "15      43                                Metano                   CH4    \n",
       "16      44  Hidrocarburos no metánicos (hexano)                  NMHC    \n",
       "\n",
       "   Unidad medida  \n",
       "0          µg/m3  \n",
       "1          mg/m3  \n",
       "2          µg/m3  \n",
       "3          µg/m3  \n",
       "4          µg/m3  \n",
       "5          µg/m3  \n",
       "6      µg/m3 NO2  \n",
       "7          µg/m3  \n",
       "8          ng/m3  \n",
       "9          µg/m3  \n",
       "10         ng/m3  \n",
       "11         ng/m3  \n",
       "12         µg/m3  \n",
       "13         ng/m3  \n",
       "8         μg/m3   \n",
       "10        μg/m3   \n",
       "11        μg/m3   \n",
       "12        μg/m3   \n",
       "13        μg/m3   \n",
       "14        mg/m3   \n",
       "15        mg/m3   \n",
       "16        mg/m3   "
      ]
     },
     "execution_count": 154,
     "metadata": {},
     "output_type": "execute_result"
    }
   ],
   "source": [
    "magnitudes = [magnitudes_esp, magnitudes_mad]\n",
    "mags = pd.concat(magnitudes)\n",
    "mags = mags.drop_duplicates('Codigo')\n",
    "mags"
   ]
  },
  {
   "cell_type": "markdown",
   "metadata": {},
   "source": [
    "## DATA SPAIN"
   ]
  },
  {
   "cell_type": "markdown",
   "metadata": {},
   "source": [
    "This data comes from the Ministerio Para la Transición Ecológica.\n",
    "There is a dataset for each year and chemical element."
   ]
  },
  {
   "cell_type": "markdown",
   "metadata": {},
   "source": [
    "#### 2015 DATA"
   ]
  },
  {
   "cell_type": "code",
   "execution_count": 123,
   "metadata": {},
   "outputs": [],
   "source": [
    "As_15esp = pd.read_excel('./data/data_aire_esp/datos2015_tcm30-425989/As_DD_2015.xlsx')"
   ]
  },
  {
   "cell_type": "code",
   "execution_count": 124,
   "metadata": {},
   "outputs": [],
   "source": [
    "BaP_15esp = pd.read_excel('./data/data_aire_esp/datos2015_tcm30-425989/B(a)P_DD_2015.xlsx')"
   ]
  },
  {
   "cell_type": "code",
   "execution_count": 125,
   "metadata": {},
   "outputs": [],
   "source": [
    "Cd_15esp = pd.read_excel('./data/data_aire_esp/datos2015_tcm30-425989/Cd_DD_2015.xlsx')"
   ]
  },
  {
   "cell_type": "code",
   "execution_count": 126,
   "metadata": {},
   "outputs": [],
   "source": [
    "Ni_15esp = pd.read_excel('./data/data_aire_esp/datos2015_tcm30-425989/Ni_DD_2015.xlsx')"
   ]
  },
  {
   "cell_type": "code",
   "execution_count": 127,
   "metadata": {},
   "outputs": [],
   "source": [
    "Pb_15esp = pd.read_excel('./data/data_aire_esp/datos2015_tcm30-425989/Pb_DD_2015.xlsx')"
   ]
  },
  {
   "cell_type": "code",
   "execution_count": 128,
   "metadata": {},
   "outputs": [],
   "source": [
    "Pm25_15esp = pd.read_excel('./data/data_aire_esp/datos2015_tcm30-425989/PM2.5_DD_2015.xlsx')"
   ]
  },
  {
   "cell_type": "code",
   "execution_count": 129,
   "metadata": {},
   "outputs": [],
   "source": [
    "Pm10_15esp = pd.read_excel('./data/data_aire_esp/datos2015_tcm30-425989/PM10_DD_2015.xlsx')"
   ]
  },
  {
   "cell_type": "markdown",
   "metadata": {},
   "source": [
    "#### 2016 DATA"
   ]
  },
  {
   "cell_type": "code",
   "execution_count": 131,
   "metadata": {},
   "outputs": [],
   "source": [
    "As_16esp = pd.read_excel('./data/data_aire_esp/dd_2016_tcm30/As_DD_2016.xlsx')"
   ]
  },
  {
   "cell_type": "code",
   "execution_count": 132,
   "metadata": {},
   "outputs": [],
   "source": [
    "BaP_16esp = pd.read_excel('./data/data_aire_esp/dd_2016_tcm30/B(a)P_DD_2016.xlsx')"
   ]
  },
  {
   "cell_type": "code",
   "execution_count": 133,
   "metadata": {},
   "outputs": [],
   "source": [
    "Cd_16esp = pd.read_excel('./data/data_aire_esp/dd_2016_tcm30/Cd_DD_2016.xlsx')"
   ]
  },
  {
   "cell_type": "code",
   "execution_count": 134,
   "metadata": {},
   "outputs": [],
   "source": [
    "Ni_16esp = pd.read_excel('./data/data_aire_esp/dd_2016_tcm30/Ni_DD_2016.xlsx')"
   ]
  },
  {
   "cell_type": "code",
   "execution_count": 135,
   "metadata": {},
   "outputs": [],
   "source": [
    "Pb_16esp = pd.read_excel('./data/data_aire_esp/dd_2016_tcm30/Pb_DD_2016.xlsx')"
   ]
  },
  {
   "cell_type": "code",
   "execution_count": 136,
   "metadata": {},
   "outputs": [],
   "source": [
    "PM10_16esp = pd.read_excel('./data/data_aire_esp/dd_2016_tcm30/PM10_DD_2016.xlsx')"
   ]
  },
  {
   "cell_type": "code",
   "execution_count": 137,
   "metadata": {},
   "outputs": [],
   "source": [
    "PM25_16esp = pd.read_excel('./data/data_aire_esp/dd_2016_tcm30/PM25_DD_2016.xlsx')"
   ]
  },
  {
   "cell_type": "markdown",
   "metadata": {},
   "source": [
    "#### 2017 DATA"
   ]
  },
  {
   "cell_type": "code",
   "execution_count": 140,
   "metadata": {},
   "outputs": [],
   "source": [
    "As_15esp = pd.read_csv('./data/data_aire_esp/dd_2017_tcm30-481444/As_DD_2017.csv')"
   ]
  },
  {
   "cell_type": "code",
   "execution_count": 141,
   "metadata": {},
   "outputs": [],
   "source": [
    "BaP_17esp = pd.read_csv('./data/data_aire_esp/dd_2017_tcm30-481444/B(a)P_DD_2017.csv')"
   ]
  },
  {
   "cell_type": "code",
   "execution_count": 142,
   "metadata": {},
   "outputs": [],
   "source": [
    "Cd_17esp = pd.read_csv('./data/data_aire_esp/dd_2017_tcm30-481444/Cd_DD_2017.csv')"
   ]
  },
  {
   "cell_type": "code",
   "execution_count": 143,
   "metadata": {},
   "outputs": [],
   "source": [
    "Ni_17esp = pd.read_csv('./data/data_aire_esp/dd_2017_tcm30-481444/Ni_DD_2017.csv')"
   ]
  },
  {
   "cell_type": "code",
   "execution_count": 144,
   "metadata": {},
   "outputs": [],
   "source": [
    "Pb_17esp = pd.read_csv('./data/data_aire_esp/dd_2017_tcm30-481444/Pb_DD_2017.csv')"
   ]
  },
  {
   "cell_type": "code",
   "execution_count": 145,
   "metadata": {},
   "outputs": [],
   "source": [
    "PM25_17esp = pd.read_csv('./data/data_aire_esp/dd_2017_tcm30-481444/PM2.5_DD_2017.csv')"
   ]
  },
  {
   "cell_type": "code",
   "execution_count": 146,
   "metadata": {},
   "outputs": [],
   "source": [
    "PM10_17esp = pd.read_csv('./data/data_aire_esp/dd_2017_tcm30-481444/PM10_DD_2017.csv')"
   ]
  },
  {
   "cell_type": "markdown",
   "metadata": {},
   "source": [
    "#### 2018 DATA"
   ]
  },
  {
   "cell_type": "code",
   "execution_count": 55,
   "metadata": {},
   "outputs": [],
   "source": [
    "As_18esp = pd.read_csv('./data/data_aire_esp/dd_2018_tcm30-501405/As_DD_2018.csv', sep = ';')"
   ]
  },
  {
   "cell_type": "code",
   "execution_count": 58,
   "metadata": {},
   "outputs": [],
   "source": [
    "BAP_18esp = pd.read_csv('./data/data_aire_esp/dd_2018_tcm30-501405/B(a)P_DD_2018.csv', sep = ';')"
   ]
  },
  {
   "cell_type": "code",
   "execution_count": 60,
   "metadata": {},
   "outputs": [],
   "source": [
    "Cd_18esp = pd.read_csv('./data/data_aire_esp/dd_2018_tcm30-501405/Cd_DD_2018.csv', sep = ';')"
   ]
  },
  {
   "cell_type": "code",
   "execution_count": 65,
   "metadata": {},
   "outputs": [],
   "source": [
    "Ni_18esp = pd.read_csv('./data/data_aire_esp/dd_2018_tcm30-501405/Ni_DD_2018.csv', sep = ';')"
   ]
  },
  {
   "cell_type": "code",
   "execution_count": 66,
   "metadata": {},
   "outputs": [],
   "source": [
    "Pb_18esp = pd.read_csv('./data/data_aire_esp/dd_2018_tcm30-501405/Pb_DD_2018.csv', sep = ';')"
   ]
  },
  {
   "cell_type": "code",
   "execution_count": 67,
   "metadata": {},
   "outputs": [],
   "source": [
    "PM25_18esp = pd.read_csv('./data/data_aire_esp/dd_2018_tcm30-501405/PM2.5_DD_2018.csv', sep = ';')"
   ]
  },
  {
   "cell_type": "code",
   "execution_count": 68,
   "metadata": {},
   "outputs": [],
   "source": [
    "PM10_18esp = pd.read_csv('./data/data_aire_esp/dd_2018_tcm30-501405/PM10_DD_2018.csv', sep = ';')"
   ]
  },
  {
   "cell_type": "markdown",
   "metadata": {},
   "source": [
    "#### 2019 DATA"
   ]
  },
  {
   "cell_type": "code",
   "execution_count": 155,
   "metadata": {},
   "outputs": [],
   "source": [
    "As_19esp = pd.read_csv('./data/data_aire_esp/diarios_2019_tcm30-513558/As_DD_2019.csv', sep = ';')"
   ]
  },
  {
   "cell_type": "code",
   "execution_count": 156,
   "metadata": {},
   "outputs": [],
   "source": [
    "Bap_19esp = pd.read_csv('./data/data_aire_esp/diarios_2019_tcm30-513558/Bap_DD_2019.csv', sep = ';')"
   ]
  },
  {
   "cell_type": "code",
   "execution_count": 157,
   "metadata": {},
   "outputs": [],
   "source": [
    "C6H6_19esp = pd.read_csv('./data/data_aire_esp/diarios_2019_tcm30-513558/C6H6_DD_2019.csv', sep = ';')"
   ]
  },
  {
   "cell_type": "code",
   "execution_count": 158,
   "metadata": {},
   "outputs": [],
   "source": [
    "Cd_19esp = pd.read_csv('./data/data_aire_esp/diarios_2019_tcm30-513558/Cd_DD_2019.csv', sep = ';')"
   ]
  },
  {
   "cell_type": "code",
   "execution_count": 159,
   "metadata": {},
   "outputs": [],
   "source": [
    "Ni_19esp = pd.read_csv('./data/data_aire_esp/diarios_2019_tcm30-513558/Ni_DD_2019.csv', sep = ';')"
   ]
  },
  {
   "cell_type": "code",
   "execution_count": 160,
   "metadata": {},
   "outputs": [],
   "source": [
    "Pb_19esp = pd.read_csv('./data/data_aire_esp/diarios_2019_tcm30-513558/Pb_DD_2019.csv', sep = ';')"
   ]
  },
  {
   "cell_type": "code",
   "execution_count": 161,
   "metadata": {},
   "outputs": [],
   "source": [
    "PM10_19esp = pd.read_csv('./data/data_aire_esp/diarios_2019_tcm30-513558/PM10_DD_2019.csv', sep = ';')"
   ]
  },
  {
   "cell_type": "code",
   "execution_count": 162,
   "metadata": {},
   "outputs": [],
   "source": [
    "PM25_19esp = pd.read_csv('./data/data_aire_esp/diarios_2019_tcm30-513558/PM25_DD_2019.csv', sep = ';')"
   ]
  },
  {
   "cell_type": "markdown",
   "metadata": {},
   "source": [
    "## OBTAINING DATA WITH API OF QUALITY OF AIR"
   ]
  },
  {
   "cell_type": "code",
   "execution_count": 165,
   "metadata": {},
   "outputs": [
    {
     "name": "stdout",
     "output_type": "stream",
     "text": [
      "200\n"
     ]
    }
   ],
   "source": [
    "response = requests.get(\"https://datos.madrid.es/egob/catalogo/keyword/aire.json?_page=0\")\n",
    "print(response.status_code)"
   ]
  },
  {
   "cell_type": "code",
   "execution_count": 166,
   "metadata": {},
   "outputs": [
    {
     "name": "stdout",
     "output_type": "stream",
     "text": [
      "{'format': 'linked-data-api', 'version': '0.2', 'result': {'first': 'https://datos.madrid.es/egob/catalogo/keyword/aire.json?_page=0', 'items': [{'_about': 'https://datos.madrid.es/egob/catalogo/201410-0-calidad-aire-diario', 'description': [{'value': 'El Sistema Integral de la Calidad del Aire del Ayuntamiento de Madrid permite conocer en cada momento los niveles de contaminación atmosférica en el municipio. En este conjunto de datos puede obtener la información recogida por las estaciones de control de calidad del aire, con los datos diarios por anualidades de 2001 a 2021. (En el año en curso la información se actualizará mensualmente).   Los valores diarios publicados en el portal datos abiertos se calculan como media aritmética de los 24 valores horarios de cada día.   La legislación en materia de calidad del aire establece, para cada uno de los contaminantes regulados, distintos valore límite u objetivo expresados como medias horaria, diaria, octohoraria y anual.   En este portal tambien están disponibles otros conjuntos de datos relacionados con la calidad del aire:      Calidad del aire: Datos en tiempo real     Calidad del aire. Datos horarios años 2001 a 2021     Calidad del aire: Estaciones de control      Asímismo, puedes encontrar más información sobre estos datos en el  Portal de transparencia &gt; Aire .', '_lang': 'es'}], 'identifier': 'https://datos.madrid.es/egob/catalogo/201410-0-calidad-aire-diario', 'issued': '2014-01-10T09:11:13', 'modified': '2021-07-07T14:07:41', 'publisher': 'http://datos.gob.es/recurso/sector-publico/org/Organismo/L01280796', 'theme': 'http://datos.gob.es/kos/sector-publico/sector/medio-ambiente', 'title': 'Calidad del aire. Datos diarios años 2001 a 2021', 'keyword': ['Medio Ambiente', 'Salud ambiental', 'Impacto ambiental', 'Salud'], 'distribution': [{'title': '2021', 'accessURL': 'https://datos.madrid.es/egob/catalogo/201410-10306611-calidad-aire-diario.txt', 'byteSize': 229376, 'format': {'type': 'http://purl.org/dc/terms/IMT', 'value': 'text/plain'}, 'type': 'http://www.w3.org/ns/dcat#Distribution'}, {'title': '2021', 'accessURL': 'https://datos.madrid.es/egob/catalogo/201410-10306612-calidad-aire-diario.csv', 'byteSize': 232448, 'format': {'type': 'http://purl.org/dc/terms/IMT', 'value': 'text/csv'}, 'type': 'http://www.w3.org/ns/dcat#Distribution'}, {'title': '2021', 'accessURL': 'https://datos.madrid.es/egob/catalogo/201410-10306613-calidad-aire-diario.xml', 'byteSize': 1094656, 'format': {'type': 'http://purl.org/dc/terms/IMT', 'value': 'application/xml'}, 'type': 'http://www.w3.org/ns/dcat#Distribution'}, {'title': '2020', 'accessURL': 'https://datos.madrid.es/egob/catalogo/201410-10306608-calidad-aire-diario.txt', 'byteSize': 510976, 'format': {'type': 'http://purl.org/dc/terms/IMT', 'value': 'text/plain'}, 'type': 'http://www.w3.org/ns/dcat#Distribution'}, {'title': '2020', 'accessURL': 'https://datos.madrid.es/egob/catalogo/201410-10306609-calidad-aire-diario.csv', 'byteSize': 518144, 'format': {'type': 'http://purl.org/dc/terms/IMT', 'value': 'text/csv'}, 'type': 'http://www.w3.org/ns/dcat#Distribution'}, {'title': '2020', 'accessURL': 'https://datos.madrid.es/egob/catalogo/201410-10306610-calidad-aire-diario.xml', 'byteSize': 2568192, 'format': {'type': 'http://purl.org/dc/terms/IMT', 'value': 'application/xml'}, 'type': 'http://www.w3.org/ns/dcat#Distribution'}, {'title': '2019', 'accessURL': 'https://datos.madrid.es/egob/catalogo/201410-10306605-calidad-aire-diario.txt', 'byteSize': 507904, 'format': {'type': 'http://purl.org/dc/terms/IMT', 'value': 'text/plain'}, 'type': 'http://www.w3.org/ns/dcat#Distribution'}, {'title': '2019', 'accessURL': 'https://datos.madrid.es/egob/catalogo/201410-10306606-calidad-aire-diario.csv', 'byteSize': 518144, 'format': {'type': 'http://purl.org/dc/terms/IMT', 'value': 'text/csv'}, 'type': 'http://www.w3.org/ns/dcat#Distribution'}, {'title': '2019', 'accessURL': 'https://datos.madrid.es/egob/catalogo/201410-10306607-calidad-aire-diario.xml', 'byteSize': 2572288, 'format': {'type': 'http://purl.org/dc/terms/IMT', 'value': 'application/xml'}, 'type': 'http://www.w3.org/ns/dcat#Distribution'}, {'title': '2018', 'accessURL': 'https://datos.madrid.es/egob/catalogo/201410-7775094-calidad-aire-diario.txt', 'byteSize': 506880, 'format': {'type': 'http://purl.org/dc/terms/IMT', 'value': 'text/plain'}, 'type': 'http://www.w3.org/ns/dcat#Distribution'}, {'title': '2018', 'accessURL': 'https://datos.madrid.es/egob/catalogo/201410-7775095-calidad-aire-diario.xml', 'byteSize': 2530304, 'format': {'type': 'http://purl.org/dc/terms/IMT', 'value': 'application/xml'}, 'type': 'http://www.w3.org/ns/dcat#Distribution'}, {'title': '2018', 'accessURL': 'https://datos.madrid.es/egob/catalogo/201410-7775096-calidad-aire-diario.csv', 'byteSize': 509952, 'format': {'type': 'http://purl.org/dc/terms/IMT', 'value': 'text/csv'}, 'type': 'http://www.w3.org/ns/dcat#Distribution'}, {'title': '2017', 'accessURL': 'https://datos.madrid.es/egob/catalogo/201410-7775093-calidad-aire-diario.txt', 'byteSize': 501760, 'format': {'type': 'http://purl.org/dc/terms/IMT', 'value': 'text/plain'}, 'type': 'http://www.w3.org/ns/dcat#Distribution'}, {'title': '2017', 'accessURL': 'https://datos.madrid.es/egob/catalogo/201410-7775097-calidad-aire-diario.xml', 'byteSize': 2541568, 'format': {'type': 'http://purl.org/dc/terms/IMT', 'value': 'application/xml'}, 'type': 'http://www.w3.org/ns/dcat#Distribution'}, {'title': '2017', 'accessURL': 'https://datos.madrid.es/egob/catalogo/201410-7775098-calidad-aire-diario.csv', 'byteSize': 510976, 'format': {'type': 'http://purl.org/dc/terms/IMT', 'value': 'text/csv'}, 'type': 'http://www.w3.org/ns/dcat#Distribution'}, {'title': '2016', 'accessURL': 'https://datos.madrid.es/egob/catalogo/201410-13-calidad-aire-diario.txt', 'byteSize': 501760, 'format': {'type': 'http://purl.org/dc/terms/IMT', 'value': 'text/plain'}, 'type': 'http://www.w3.org/ns/dcat#Distribution'}, {'title': '2016', 'accessURL': 'https://datos.madrid.es/egob/catalogo/201410-10306573-calidad-aire-diario.xml', 'byteSize': 2540544, 'format': {'type': 'http://purl.org/dc/terms/IMT', 'value': 'application/xml'}, 'type': 'http://www.w3.org/ns/dcat#Distribution'}, {'title': '2016', 'accessURL': 'https://datos.madrid.es/egob/catalogo/201410-10306574-calidad-aire-diario.csv', 'byteSize': 510976, 'format': {'type': 'http://purl.org/dc/terms/IMT', 'value': 'text/csv'}, 'type': 'http://www.w3.org/ns/dcat#Distribution'}, {'title': '2015', 'accessURL': 'https://datos.madrid.es/egob/catalogo/201410-12-calidad-aire-diario.txt', 'byteSize': 501760, 'format': {'type': 'http://purl.org/dc/terms/IMT', 'value': 'text/plain'}, 'type': 'http://www.w3.org/ns/dcat#Distribution'}, {'title': '2015', 'accessURL': 'https://datos.madrid.es/egob/catalogo/201410-10306575-calidad-aire-diario.xml', 'byteSize': 2541568, 'format': {'type': 'http://purl.org/dc/terms/IMT', 'value': 'application/xml'}, 'type': 'http://www.w3.org/ns/dcat#Distribution'}, {'title': '2015', 'accessURL': 'https://datos.madrid.es/egob/catalogo/201410-10306576-calidad-aire-diario.csv', 'byteSize': 510976, 'format': {'type': 'http://purl.org/dc/terms/IMT', 'value': 'text/csv'}, 'type': 'http://www.w3.org/ns/dcat#Distribution'}, {'title': '2014', 'accessURL': 'https://datos.madrid.es/egob/catalogo/201410-11-calidad-aire-diario.txt', 'byteSize': 499712, 'format': {'type': 'http://purl.org/dc/terms/IMT', 'value': 'text/plain'}, 'type': 'http://www.w3.org/ns/dcat#Distribution'}, {'title': '2014', 'accessURL': 'https://datos.madrid.es/egob/catalogo/201410-10306577-calidad-aire-diario.xml', 'byteSize': 2530304, 'format': {'type': 'http://purl.org/dc/terms/IMT', 'value': 'application/xml'}, 'type': 'http://www.w3.org/ns/dcat#Distribution'}, {'title': '2014', 'accessURL': 'https://datos.madrid.es/egob/catalogo/201410-10306578-calidad-aire-diario.csv', 'byteSize': 508928, 'format': {'type': 'http://purl.org/dc/terms/IMT', 'value': 'text/csv'}, 'type': 'http://www.w3.org/ns/dcat#Distribution'}, {'title': '2013', 'accessURL': 'https://datos.madrid.es/egob/catalogo/201410-10-calidad-aire-diario.txt', 'byteSize': 501760, 'format': {'type': 'http://purl.org/dc/terms/IMT', 'value': 'text/plain'}, 'type': 'http://www.w3.org/ns/dcat#Distribution'}, {'title': '2013', 'accessURL': 'https://datos.madrid.es/egob/catalogo/201410-10306579-calidad-aire-diario.xml', 'byteSize': 2539520, 'format': {'type': 'http://purl.org/dc/terms/IMT', 'value': 'application/xml'}, 'type': 'http://www.w3.org/ns/dcat#Distribution'}, {'title': '2013', 'accessURL': 'https://datos.madrid.es/egob/catalogo/201410-10306580-calidad-aire-diario.csv', 'byteSize': 510976, 'format': {'type': 'http://purl.org/dc/terms/IMT', 'value': 'text/csv'}, 'type': 'http://www.w3.org/ns/dcat#Distribution'}, {'title': '2012', 'accessURL': 'https://datos.madrid.es/egob/catalogo/201410-9-calidad-aire-diario.txt', 'byteSize': 508928, 'format': {'type': 'http://purl.org/dc/terms/IMT', 'value': 'text/plain'}, 'type': 'http://www.w3.org/ns/dcat#Distribution'}, {'title': '2012', 'accessURL': 'https://datos.madrid.es/egob/catalogo/201410-10306581-calidad-aire-diario.xml', 'byteSize': 2567168, 'format': {'type': 'http://purl.org/dc/terms/IMT', 'value': 'application/xml'}, 'type': 'http://www.w3.org/ns/dcat#Distribution'}, {'title': '2012', 'accessURL': 'https://datos.madrid.es/egob/catalogo/201410-10306582-calidad-aire-diario.csv', 'byteSize': 516096, 'format': {'type': 'http://purl.org/dc/terms/IMT', 'value': 'text/csv'}, 'type': 'http://www.w3.org/ns/dcat#Distribution'}, {'title': '2011', 'accessURL': 'https://datos.madrid.es/egob/catalogo/201410-8-calidad-aire-diario.txt', 'byteSize': 521216, 'format': {'type': 'http://purl.org/dc/terms/IMT', 'value': 'text/plain'}, 'type': 'http://www.w3.org/ns/dcat#Distribution'}, {'title': '2011', 'accessURL': 'https://datos.madrid.es/egob/catalogo/201410-10306583-calidad-aire-diario.xml', 'byteSize': 2595840, 'format': {'type': 'http://purl.org/dc/terms/IMT', 'value': 'application/xml'}, 'type': 'http://www.w3.org/ns/dcat#Distribution'}, {'title': '2011', 'accessURL': 'https://datos.madrid.es/egob/catalogo/201410-10306584-calidad-aire-diario.csv', 'byteSize': 521216, 'format': {'type': 'http://purl.org/dc/terms/IMT', 'value': 'text/csv'}, 'type': 'http://www.w3.org/ns/dcat#Distribution'}, {'title': '2010', 'accessURL': 'https://datos.madrid.es/egob/catalogo/201410-7-calidad-aire-diario.txt', 'byteSize': 517120, 'format': {'type': 'http://purl.org/dc/terms/IMT', 'value': 'text/plain'}, 'type': 'http://www.w3.org/ns/dcat#Distribution'}, {'title': '2010', 'accessURL': 'https://datos.madrid.es/egob/catalogo/201410-10306585-calidad-aire-diario.xml', 'byteSize': 2539520, 'format': {'type': 'http://purl.org/dc/terms/IMT', 'value': 'application/xml'}, 'type': 'http://www.w3.org/ns/dcat#Distribution'}, {'title': '2010', 'accessURL': 'https://datos.madrid.es/egob/catalogo/201410-10306586-calidad-aire-diario.csv', 'byteSize': 509952, 'format': {'type': 'http://purl.org/dc/terms/IMT', 'value': 'text/csv'}, 'type': 'http://www.w3.org/ns/dcat#Distribution'}, {'title': '2009', 'accessURL': 'https://datos.madrid.es/egob/catalogo/201410-6-calidad-aire-diario.txt', 'byteSize': 717824, 'format': {'type': 'http://purl.org/dc/terms/IMT', 'value': 'text/plain'}, 'type': 'http://www.w3.org/ns/dcat#Distribution'}, {'title': '2009', 'accessURL': 'https://datos.madrid.es/egob/catalogo/201410-10306587-calidad-aire-diario.xml', 'byteSize': 1474560, 'format': {'type': 'http://purl.org/dc/terms/IMT', 'value': 'application/xml'}, 'type': 'http://www.w3.org/ns/dcat#Distribution'}, {'title': '2009', 'accessURL': 'https://datos.madrid.es/egob/catalogo/201410-10306588-calidad-aire-diario.csv', 'byteSize': 295936, 'format': {'type': 'http://purl.org/dc/terms/IMT', 'value': 'text/csv'}, 'type': 'http://www.w3.org/ns/dcat#Distribution'}, {'title': '2008', 'accessURL': 'https://datos.madrid.es/egob/catalogo/201410-5-calidad-aire-diario.txt', 'byteSize': 764928, 'format': {'type': 'http://purl.org/dc/terms/IMT', 'value': 'text/plain'}, 'type': 'http://www.w3.org/ns/dcat#Distribution'}, {'title': '2008', 'accessURL': 'https://datos.madrid.es/egob/catalogo/201410-10306589-calidad-aire-diario.xml', 'byteSize': 1367040, 'format': {'type': 'http://purl.org/dc/terms/IMT', 'value': 'application/xml'}, 'type': 'http://www.w3.org/ns/dcat#Distribution'}, {'title': '2008', 'accessURL': 'https://datos.madrid.es/egob/catalogo/201410-10306590-calidad-aire-diario.csv', 'byteSize': 274432, 'format': {'type': 'http://purl.org/dc/terms/IMT', 'value': 'text/csv'}, 'type': 'http://www.w3.org/ns/dcat#Distribution'}, {'title': '2007', 'accessURL': 'https://datos.madrid.es/egob/catalogo/201410-4-calidad-aire-diario.txt', 'byteSize': 770048, 'format': {'type': 'http://purl.org/dc/terms/IMT', 'value': 'text/plain'}, 'type': 'http://www.w3.org/ns/dcat#Distribution'}, {'title': '2007', 'accessURL': 'https://datos.madrid.es/egob/catalogo/201410-10306591-calidad-aire-diario.xml', 'byteSize': 1353728, 'format': {'type': 'http://purl.org/dc/terms/IMT', 'value': 'application/xml'}, 'type': 'http://www.w3.org/ns/dcat#Distribution'}, {'title': '2007', 'accessURL': 'https://datos.madrid.es/egob/catalogo/201410-10306592-calidad-aire-diario.csv', 'byteSize': 271360, 'format': {'type': 'http://purl.org/dc/terms/IMT', 'value': 'text/csv'}, 'type': 'http://www.w3.org/ns/dcat#Distribution'}, {'title': '2006', 'accessURL': 'https://datos.madrid.es/egob/catalogo/201410-3-calidad-aire-diario.txt', 'byteSize': 808960, 'format': {'type': 'http://purl.org/dc/terms/IMT', 'value': 'text/plain'}, 'type': 'http://www.w3.org/ns/dcat#Distribution'}, {'title': '2006', 'accessURL': 'https://datos.madrid.es/egob/catalogo/201410-10306593-calidad-aire-diario.xml', 'byteSize': 1348608, 'format': {'type': 'http://purl.org/dc/terms/IMT', 'value': 'application/xml'}, 'type': 'http://www.w3.org/ns/dcat#Distribution'}, {'title': '2006', 'accessURL': 'https://datos.madrid.es/egob/catalogo/201410-10306594-calidad-aire-diario.csv', 'byteSize': 270336, 'format': {'type': 'http://purl.org/dc/terms/IMT', 'value': 'text/csv'}, 'type': 'http://www.w3.org/ns/dcat#Distribution'}, {'title': '2005', 'accessURL': 'https://datos.madrid.es/egob/catalogo/201410-2-calidad-aire-diario.txt', 'byteSize': 825344, 'format': {'type': 'http://purl.org/dc/terms/IMT', 'value': 'text/plain'}, 'type': 'http://www.w3.org/ns/dcat#Distribution'}, {'title': '2005', 'accessURL': 'https://datos.madrid.es/egob/catalogo/201410-10306595-calidad-aire-diario.xml', 'byteSize': 1419264, 'format': {'type': 'http://purl.org/dc/terms/IMT', 'value': 'application/xml'}, 'type': 'http://www.w3.org/ns/dcat#Distribution'}, {'title': '2005', 'accessURL': 'https://datos.madrid.es/egob/catalogo/201410-10306596-calidad-aire-diario.csv', 'byteSize': 284672, 'format': {'type': 'http://purl.org/dc/terms/IMT', 'value': 'text/csv'}, 'type': 'http://www.w3.org/ns/dcat#Distribution'}, {'title': '2004', 'accessURL': 'https://datos.madrid.es/egob/catalogo/201410-1-calidad-aire-diario.txt', 'byteSize': 855040, 'format': {'type': 'http://purl.org/dc/terms/IMT', 'value': 'text/plain'}, 'type': 'http://www.w3.org/ns/dcat#Distribution'}, {'title': '2004', 'accessURL': 'https://datos.madrid.es/egob/catalogo/201410-10306597-calidad-aire-diario.xml', 'byteSize': 1420288, 'format': {'type': 'http://purl.org/dc/terms/IMT', 'value': 'application/xml'}, 'type': 'http://www.w3.org/ns/dcat#Distribution'}, {'title': '2004', 'accessURL': 'https://datos.madrid.es/egob/catalogo/201410-10306598-calidad-aire-diario.csv', 'byteSize': 284672, 'format': {'type': 'http://purl.org/dc/terms/IMT', 'value': 'text/csv'}, 'type': 'http://www.w3.org/ns/dcat#Distribution'}, {'title': '2003', 'accessURL': 'https://datos.madrid.es/egob/catalogo/201410-0-calidad-aire-diario.txt', 'byteSize': 864256, 'format': {'type': 'http://purl.org/dc/terms/IMT', 'value': 'text/plain'}, 'type': 'http://www.w3.org/ns/dcat#Distribution'}, {'title': '2003', 'accessURL': 'https://datos.madrid.es/egob/catalogo/201410-10306599-calidad-aire-diario.xml', 'byteSize': 1429504, 'format': {'type': 'http://purl.org/dc/terms/IMT', 'value': 'application/xml'}, 'type': 'http://www.w3.org/ns/dcat#Distribution'}, {'title': '2003', 'accessURL': 'https://datos.madrid.es/egob/catalogo/201410-10306600-calidad-aire-diario.csv', 'byteSize': 286720, 'format': {'type': 'http://purl.org/dc/terms/IMT', 'value': 'text/csv'}, 'type': 'http://www.w3.org/ns/dcat#Distribution'}, {'title': '2002', 'accessURL': 'https://datos.madrid.es/egob/catalogo/201410-15-calidad-aire-diario.txt', 'byteSize': 750592, 'format': {'type': 'http://purl.org/dc/terms/IMT', 'value': 'text/plain'}, 'type': 'http://www.w3.org/ns/dcat#Distribution'}, {'title': '2002', 'accessURL': 'https://datos.madrid.es/egob/catalogo/201410-10306601-calidad-aire-diario.xml', 'byteSize': 1122304, 'format': {'type': 'http://purl.org/dc/terms/IMT', 'value': 'application/xml'}, 'type': 'http://www.w3.org/ns/dcat#Distribution'}, {'title': '2002', 'accessURL': 'https://datos.madrid.es/egob/catalogo/201410-10306602-calidad-aire-diario.csv', 'byteSize': 225280, 'format': {'type': 'http://purl.org/dc/terms/IMT', 'value': 'text/csv'}, 'type': 'http://www.w3.org/ns/dcat#Distribution'}, {'title': '2001', 'accessURL': 'https://datos.madrid.es/egob/catalogo/201410-14-calidad-aire-diario.txt', 'byteSize': 756736, 'format': {'type': 'http://purl.org/dc/terms/IMT', 'value': 'text/plain'}, 'type': 'http://www.w3.org/ns/dcat#Distribution'}, {'title': '2001', 'accessURL': 'https://datos.madrid.es/egob/catalogo/201410-10306603-calidad-aire-diario.xml', 'byteSize': 1149952, 'format': {'type': 'http://purl.org/dc/terms/IMT', 'value': 'application/xml'}, 'type': 'http://www.w3.org/ns/dcat#Distribution'}, {'title': '2001', 'accessURL': 'https://datos.madrid.es/egob/catalogo/201410-10306604-calidad-aire-diario.csv', 'byteSize': 230400, 'format': {'type': 'http://purl.org/dc/terms/IMT', 'value': 'text/csv'}, 'type': 'http://www.w3.org/ns/dcat#Distribution'}], 'type': 'http://www.w3.org/ns/dcat#Dataset'}, {'_about': 'https://datos.madrid.es/egob/catalogo/212531-0-calidad-aire-tiempo-real', 'description': [{'value': \"El Sistema Integral de la Calidad del Aire del Ayuntamiento de Madrid permite conocer en cada momento los niveles de contaminación atmosférica en el municipio.   En este conjunto de datos puede obtener la información actualizada en tiempo real,  actualizándose estos datos cada hora, y esta actualización se realizará entre los minutos 20 y 30.     Importante: estos datos en tiempo real son los que salen automáticamente de las estaciones de medición y están pendientes de revisión y validación. Ver el fichero 'Interpretación de datos de calidad del aire' que se encuentra más abajo en la sección 'documentación asociada'.    En este portal tambien están disponibles otros conjuntos de datos relacionados con la calidad del aire:      Calidad del aire: Datos horarios años 2001 a 2021        Calidad del aire: Datos diarios años 2001 a 2021     Calidad del aire: Estaciones de control      Asímismo, puedes encontrar más información sobre estos datos en el  Portal de transparencia &gt; Aire .\", '_lang': 'es'}], 'identifier': 'https://datos.madrid.es/egob/catalogo/212531-0-calidad-aire-tiempo-real', 'issued': '2015-04-09T00:00:00', 'modified': '2015-10-01T00:00:00', 'publisher': 'http://datos.gob.es/recurso/sector-publico/org/Organismo/L01280796', 'theme': 'http://datos.gob.es/kos/sector-publico/sector/medio-ambiente', 'title': 'Calidad del aire. Datos en tiempo real', 'distribution': [{'title': 'Calidad del aire. Tiempo real xml', 'accessURL': 'https://datos.madrid.es/egob/catalogo/212531-10530806-calidad-aire-tiempo-real.csv', 'format': {'type': 'http://purl.org/dc/terms/IMT', 'value': 'text/csv'}, 'type': 'http://www.w3.org/ns/dcat#Distribution'}, {'title': 'Calidad del aire. Tiempo real csv', 'accessURL': 'https://datos.madrid.es/egob/catalogo/212531-10515086-calidad-aire-tiempo-real.csv', 'format': {'type': 'http://purl.org/dc/terms/IMT', 'value': 'text/csv'}, 'type': 'http://www.w3.org/ns/dcat#Distribution'}, {'title': 'Calidad del aire. Tiempo real txt', 'accessURL': 'https://datos.madrid.es/egob/catalogo/212531-7916318-calidad-aire-tiempo-real.csv', 'format': {'type': 'http://purl.org/dc/terms/IMT', 'value': 'text/csv'}, 'type': 'http://www.w3.org/ns/dcat#Distribution'}], 'type': 'http://www.w3.org/ns/dcat#Dataset'}, {'_about': 'https://datos.madrid.es/egob/catalogo/201200-0-calidad-aire-horario', 'description': [{'value': 'El Sistema Integral de la Calidad del Aire del Ayuntamiento de Madrid permite conocer en cada momento los niveles de contaminación atmosférica en el municipio. En este conjunto de datos puede obtener la información recogida por las estaciones de control de calidad del aire, con los datos horarios por anualidades de 2001 a 2021. (En el año en curso la información se actualizará mensualmente).   Los datos horarios de las magnitudes corresponden a la media aritmética de los valores diezminutales que se registran cada hora.   En este portal tambien están disponibles otros conjuntos de datos relacionados con la calidad del aire:      Calidad del aire: Datos en tiempo real     Calidad del aire. Datos diarios años 2001 a 2021     Calidad del aire: Estaciones de control      Asímismo, puedes encontrar más información sobre estos datos en el  Portal de transparencia &gt; Aire .', '_lang': 'es'}], 'identifier': 'https://datos.madrid.es/egob/catalogo/201200-0-calidad-aire-horario', 'issued': '2014-01-09T13:41:59', 'modified': '2021-07-07T14:00:46', 'publisher': 'http://datos.gob.es/recurso/sector-publico/org/Organismo/L01280796', 'theme': 'http://datos.gob.es/kos/sector-publico/sector/medio-ambiente', 'title': 'Calidad del aire. Datos horarios años 2001 a 2021', 'keyword': ['Salud Pública', 'Medio Ambiente', 'Impacto ambiental', 'Salud'], 'distribution': [{'title': '2021', 'accessURL': 'https://datos.madrid.es/egob/catalogo/201200-10306317-calidad-aire-horario.zip', 'byteSize': 3153920, 'format': {'type': 'http://purl.org/dc/terms/IMT', 'value': 'application/zip'}, 'type': 'http://www.w3.org/ns/dcat#Distribution'}, {'title': '2020', 'accessURL': 'https://datos.madrid.es/egob/catalogo/201200-10306316-calidad-aire-horario.zip', 'byteSize': 6117376, 'format': {'type': 'http://purl.org/dc/terms/IMT', 'value': 'application/zip'}, 'type': 'http://www.w3.org/ns/dcat#Distribution'}, {'title': '2019', 'accessURL': 'https://datos.madrid.es/egob/catalogo/201200-42-calidad-aire-horario.zip', 'byteSize': 7519232, 'format': {'type': 'http://purl.org/dc/terms/IMT', 'value': 'application/zip'}, 'type': 'http://www.w3.org/ns/dcat#Distribution'}, {'title': '2018', 'accessURL': 'https://datos.madrid.es/egob/catalogo/201200-10306314-calidad-aire-horario.zip', 'byteSize': 6321152, 'format': {'type': 'http://purl.org/dc/terms/IMT', 'value': 'application/zip'}, 'type': 'http://www.w3.org/ns/dcat#Distribution'}, {'title': '2017', 'accessURL': 'https://datos.madrid.es/egob/catalogo/201200-10306313-calidad-aire-horario.zip', 'byteSize': 6595584, 'format': {'type': 'http://purl.org/dc/terms/IMT', 'value': 'application/zip'}, 'type': 'http://www.w3.org/ns/dcat#Distribution'}, {'title': '2016', 'accessURL': 'https://datos.madrid.es/egob/catalogo/201200-28-calidad-aire-horario.zip', 'byteSize': 6529024, 'format': {'type': 'http://purl.org/dc/terms/IMT', 'value': 'application/zip'}, 'type': 'http://www.w3.org/ns/dcat#Distribution'}, {'title': '2015', 'accessURL': 'https://datos.madrid.es/egob/catalogo/201200-27-calidad-aire-horario.zip', 'byteSize': 6581248, 'format': {'type': 'http://purl.org/dc/terms/IMT', 'value': 'application/zip'}, 'type': 'http://www.w3.org/ns/dcat#Distribution'}, {'title': '2014', 'accessURL': 'https://datos.madrid.es/egob/catalogo/201200-26-calidad-aire-horario.zip', 'byteSize': 6406144, 'format': {'type': 'http://purl.org/dc/terms/IMT', 'value': 'application/zip'}, 'type': 'http://www.w3.org/ns/dcat#Distribution'}, {'title': '2013', 'accessURL': 'https://datos.madrid.es/egob/catalogo/201200-23-calidad-aire-horario.zip', 'byteSize': 6453248, 'format': {'type': 'http://purl.org/dc/terms/IMT', 'value': 'application/zip'}, 'type': 'http://www.w3.org/ns/dcat#Distribution'}, {'title': '2012', 'accessURL': 'https://datos.madrid.es/egob/catalogo/201200-22-calidad-aire-horario.zip', 'byteSize': 6717440, 'format': {'type': 'http://purl.org/dc/terms/IMT', 'value': 'application/zip'}, 'type': 'http://www.w3.org/ns/dcat#Distribution'}, {'title': '2011', 'accessURL': 'https://datos.madrid.es/egob/catalogo/201200-21-calidad-aire-horario.zip', 'byteSize': 6871040, 'format': {'type': 'http://purl.org/dc/terms/IMT', 'value': 'application/zip'}, 'type': 'http://www.w3.org/ns/dcat#Distribution'}, {'title': '2010', 'accessURL': 'https://datos.madrid.es/egob/catalogo/201200-20-calidad-aire-horario.zip', 'byteSize': 6620160, 'format': {'type': 'http://purl.org/dc/terms/IMT', 'value': 'application/zip'}, 'type': 'http://www.w3.org/ns/dcat#Distribution'}, {'title': '2009', 'accessURL': 'https://datos.madrid.es/egob/catalogo/201200-19-calidad-aire-horario.zip', 'byteSize': 5121024, 'format': {'type': 'http://purl.org/dc/terms/IMT', 'value': 'application/zip'}, 'type': 'http://www.w3.org/ns/dcat#Distribution'}, {'title': '2008', 'accessURL': 'https://datos.madrid.es/egob/catalogo/201200-18-calidad-aire-horario.zip', 'byteSize': 5167104, 'format': {'type': 'http://purl.org/dc/terms/IMT', 'value': 'application/zip'}, 'type': 'http://www.w3.org/ns/dcat#Distribution'}, {'title': '2007', 'accessURL': 'https://datos.madrid.es/egob/catalogo/201200-17-calidad-aire-horario.zip', 'byteSize': 5206016, 'format': {'type': 'http://purl.org/dc/terms/IMT', 'value': 'application/zip'}, 'type': 'http://www.w3.org/ns/dcat#Distribution'}, {'title': '2006', 'accessURL': 'https://datos.madrid.es/egob/catalogo/201200-16-calidad-aire-horario.zip', 'byteSize': 5379072, 'format': {'type': 'http://purl.org/dc/terms/IMT', 'value': 'application/zip'}, 'type': 'http://www.w3.org/ns/dcat#Distribution'}, {'title': '2005', 'accessURL': 'https://datos.madrid.es/egob/catalogo/201200-15-calidad-aire-horario.zip', 'byteSize': 5673984, 'format': {'type': 'http://purl.org/dc/terms/IMT', 'value': 'application/zip'}, 'type': 'http://www.w3.org/ns/dcat#Distribution'}, {'title': '2004', 'accessURL': 'https://datos.madrid.es/egob/catalogo/201200-14-calidad-aire-horario.zip', 'byteSize': 5926912, 'format': {'type': 'http://purl.org/dc/terms/IMT', 'value': 'application/zip'}, 'type': 'http://www.w3.org/ns/dcat#Distribution'}, {'title': '2003', 'accessURL': 'https://datos.madrid.es/egob/catalogo/201200-13-calidad-aire-horario.zip', 'byteSize': 5961728, 'format': {'type': 'http://purl.org/dc/terms/IMT', 'value': 'application/zip'}, 'type': 'http://www.w3.org/ns/dcat#Distribution'}, {'title': '2002', 'accessURL': 'https://datos.madrid.es/egob/catalogo/201200-30-calidad-aire-horario.zip', 'byteSize': 4963328, 'format': {'type': 'http://purl.org/dc/terms/IMT', 'value': 'application/zip'}, 'type': 'http://www.w3.org/ns/dcat#Distribution'}, {'title': '2001', 'accessURL': 'https://datos.madrid.es/egob/catalogo/201200-29-calidad-aire-horario.zip', 'byteSize': 5152768, 'format': {'type': 'http://purl.org/dc/terms/IMT', 'value': 'application/zip'}, 'type': 'http://www.w3.org/ns/dcat#Distribution'}], 'type': 'http://www.w3.org/ns/dcat#Dataset'}, {'_about': 'https://datos.madrid.es/egob/catalogo/300403-0-calidad-aire-episodios-no2', 'description': [{'value': \"El conjunto de datos incluye una línea por cada una de las medidas adoptadas en aplicación del  protocolo vigente  para episodios de alta contaminación del aire por dióxido de nitrógeno.   Cada línea detalla el período de aplicación, el escenario del protocolo que se aplica, la medida adoptada, así como su alcance (geográfico y, en caso de restricciones a la circulación y estacionamiento, los vehículos a los que afecta).   En este portal tambien están disponibles otros conjuntos de datos relacionados con la calidad del aire:      Calidad del aire: Datos horarios años 2001 a 2021     Calidad del aire: Datos diarios años 2001 a 2021     Calidad del aire: Estaciones de control     Calidad del aire: Datos en tiempo real     Conjuntos de datos de  'datos meteorológicos'     Calidad del aire. Episodios de alta contaminación atmosférica por ozono      Asímismo, puedes encontrar más información sobre estos datos en el  Portal de transparencia &gt; Aire .\", '_lang': 'es'}], 'identifier': 'https://datos.madrid.es/egob/catalogo/300403-0-calidad-aire-episodios-no2', 'issued': '2019-11-22T00:00:00', 'modified': '2019-11-22T00:00:00', 'publisher': 'http://datos.gob.es/recurso/sector-publico/org/Organismo/L01280796', 'theme': 'http://datos.gob.es/kos/sector-publico/sector/medio-ambiente', 'title': 'Calidad del aire. Episodios de alta contaminación atmosférica por dióxido de nitrógeno', 'keyword': ['Medio Ambiente', 'Impacto ambiental'], 'distribution': [{'accessURL': 'https://datos.madrid.es/egob/catalogo/300403-0-calidad-aire-episodios-no2.csv', 'format': {'type': 'http://purl.org/dc/terms/IMT', 'value': 'text/csv'}, 'type': 'http://www.w3.org/ns/dcat#Distribution'}], 'type': 'http://www.w3.org/ns/dcat#Dataset'}, {'_about': 'https://datos.madrid.es/egob/catalogo/300402-0-calidad-aire-episodios-ozono', 'description': [{'value': \"El conjunto de datos incluye una línea por cada una de las medidas adoptadas en aplicación del  protocolo vigente  para episodios de alta contaminación del aire por ozono.   Cada línea detalla el período de aplicación, el escenario previsto en el protocolo y la medida.   En este portal tambien están disponibles otros conjuntos de datos relacionados con la calidad del aire:      Calidad del aire: Datos horarios años 2001 a 2021     Calidad del aire: Datos diarios años 2001 a 2021     Calidad del aire: Estaciones de control     Calidad del aire: Datos en tiempo real     Conjuntos de datos de  'datos meteorológicos'     Calidad del aire. Episodios de alta contaminación atmosférica por dióxido de nitrógeno      Asímismo, puedes encontrar más información sobre estos datos en el  Portal de transparencia &gt; Aire .\", '_lang': 'es'}], 'identifier': 'https://datos.madrid.es/egob/catalogo/300402-0-calidad-aire-episodios-ozono', 'issued': '2019-11-22T00:00:00', 'modified': '2019-11-22T00:00:00', 'publisher': 'http://datos.gob.es/recurso/sector-publico/org/Organismo/L01280796', 'theme': 'http://datos.gob.es/kos/sector-publico/sector/medio-ambiente', 'title': 'Calidad del aire. Episodios de alta contaminación atmosférica por ozono', 'keyword': ['Medio Ambiente', 'Impacto ambiental'], 'distribution': [{'accessURL': 'https://datos.madrid.es/egob/catalogo/300402-0-calidad-aire-episodios-ozono.csv', 'format': {'type': 'http://purl.org/dc/terms/IMT', 'value': 'text/csv'}, 'type': 'http://www.w3.org/ns/dcat#Distribution'}], 'type': 'http://www.w3.org/ns/dcat#Dataset'}, {'_about': 'https://datos.madrid.es/egob/catalogo/212629-0-estaciones-control-aire', 'description': [{'value': 'El Sistema de Vigilancia está formado por 24 estaciones remotas automáticas que recogen la información básica para la vigilancia atmosférica. Poseen los analizadores necesarios para la medida correcta de los niveles de gases y de partículas.  Las estaciones remotas son de varios tipos:      Urbanas de fondo : Representativas de la exposición de la población urbana en general.    De tráfico : Situadas de tal manera que su nivel de contaminación está influido principalmente por las emisiones procedentes de una calle o carretera próxima, pero se ha de evitar que se midan microambientes muy pequeños en sus proximidades.    Suburbana s: Están situadas a las afueras de la ciudad, en los lugares donde se encuentran los mayores niveles de ozono.     En este portal tambien están disponibles otros conjuntos de datos relacionados con la calidad del aire:      Calidad del aire: Datos horarios años 2001 a 2021     Calidad del aire: Datos diarios años 2001 a 2021     Calidad del aire: Estaciones de control      Asímismo, puedes encontrar más información sobre estos datos en el  Portal de transparencia &gt; Aire .', '_lang': 'es'}], 'identifier': 'https://datos.madrid.es/egob/catalogo/212629-0-estaciones-control-aire', 'issued': '2015-03-04T08:35:10', 'modified': '2021-02-09T17:38:09', 'publisher': 'http://datos.gob.es/recurso/sector-publico/org/Organismo/L01280796', 'theme': 'http://datos.gob.es/kos/sector-publico/sector/medio-ambiente', 'title': 'Calidad del aire. Estaciones de control', 'keyword': ['Medio Ambiente', 'Impacto ambiental'], 'distribution': [{'title': 'Calidad del aire: estaciones de control', 'accessURL': 'https://datos.madrid.es/egob/catalogo/212629-0-estaciones-control-aire.xls', 'byteSize': 35840, 'format': {'type': 'http://purl.org/dc/terms/IMT', 'value': 'application/vnd.ms-excel'}, 'type': 'http://www.w3.org/ns/dcat#Distribution'}, {'title': 'Calidad del aire: estaciones de control', 'accessURL': 'https://datos.madrid.es/egob/catalogo/212629-1-estaciones-control-aire.csv', 'byteSize': 5120, 'format': {'type': 'http://purl.org/dc/terms/IMT', 'value': 'text/csv'}, 'type': 'http://www.w3.org/ns/dcat#Distribution'}, {'title': 'Calidad del aire: estaciones de control', 'accessURL': 'https://datos.madrid.es/egob/catalogo/212629-2-estaciones-control-aire.geo', 'byteSize': 6144, 'format': {'type': 'http://purl.org/dc/terms/IMT', 'value': 'application/rss+xml'}, 'type': 'http://www.w3.org/ns/dcat#Distribution'}], 'type': 'http://www.w3.org/ns/dcat#Dataset'}, {'_about': 'https://datos.madrid.es/egob/catalogo/300439-0-covid--calidad-aire-semanal', 'description': [{'value': 'Datos diarios de la calidad del aire de Madrid en el periodo de la pandemia COVID19.     AVISO:  Este conjunto de datos ya no se actualiza. Se ofrecen datos desde 1-03.2020  hasta el 28-06-2020.     Se muestran valores medios diarios registrados en las 24 estaciones automáticas que forman parte de la Red de Vigilancia de Calidad del Aire, de los siguientes contaminantes:        -  Dióxido de azufre (SO2)        -  Monoxido de carbono (CO)        -  Dióxido de nitrógeno (NO2)        -  Partículas en suspensión (PM2,5)        -  Partículas en suspensión (PM10)        -  Ozono (O3)     En este portal también están disponibles otros conjuntos de datos relacionados con la calidad del aire:       Calidad del aire. Datos en tiempo real     Calidad del aire. Datos diarios años 2001 a 2021     Calidad del aire. Datos horarios años 2001 a 2021     Calidad del aire. Episodios de alta contaminación atmosférica por dióxido de nitrógeno     Calidad del aire. Episodios de alta contaminación atmosférica por ozono     Calidad del aire. Estaciones de control      Asimismo, puedes encontrar más información sobre estos datos en el  Portal de transparencia &gt; Aire .', '_lang': 'es'}], 'identifier': 'https://datos.madrid.es/egob/catalogo/300439-0-covid--calidad-aire-semanal', 'issued': '2020-05-04T09:44:28', 'modified': '2020-06-30T12:49:50', 'publisher': 'http://datos.gob.es/recurso/sector-publico/org/Organismo/L01280796', 'theme': 'http://datos.gob.es/kos/sector-publico/sector/medio-ambiente', 'title': 'COVID-19. Calidad del aire (datos diarios)', 'keyword': ['Movilidad y Transportes', 'Circulación'], 'distribution': [{'title': 'Dióxido de azufre (SO2)', 'accessURL': 'https://datos.madrid.es/egob/catalogo/300439-0-covid--calidad-aire-semanal.csv', 'byteSize': 3072, 'format': {'type': 'http://purl.org/dc/terms/IMT', 'value': 'text/csv'}, 'type': 'http://www.w3.org/ns/dcat#Distribution'}, {'title': 'Dióxido de azufre (SO2)', 'accessURL': 'https://datos.madrid.es/egob/catalogo/300439-1-covid--calidad-aire-semanal.xlsx', 'byteSize': 15360, 'format': {'type': 'http://purl.org/dc/terms/IMT', 'value': 'application/vnd.ms-excel'}, 'type': 'http://www.w3.org/ns/dcat#Distribution'}, {'title': 'Monóxido de carbono (CO)', 'accessURL': 'https://datos.madrid.es/egob/catalogo/300439-2-covid--calidad-aire-semanal.csv', 'byteSize': 6144, 'format': {'type': 'http://purl.org/dc/terms/IMT', 'value': 'text/csv'}, 'type': 'http://www.w3.org/ns/dcat#Distribution'}, {'title': 'Monóxido de carbono (CO)', 'accessURL': 'https://datos.madrid.es/egob/catalogo/300439-3-covid--calidad-aire-semanal.xlsx', 'byteSize': 14336, 'format': {'type': 'http://purl.org/dc/terms/IMT', 'value': 'application/vnd.ms-excel'}, 'type': 'http://www.w3.org/ns/dcat#Distribution'}, {'title': 'Dióxido de nitrógeno (N02)', 'accessURL': 'https://datos.madrid.es/egob/catalogo/300439-10-covid--calidad-aire-semanal.csv', 'byteSize': 9216, 'format': {'type': 'http://purl.org/dc/terms/IMT', 'value': 'text/csv'}, 'type': 'http://www.w3.org/ns/dcat#Distribution'}, {'title': 'Dióxido de nitrógeno (N02)', 'accessURL': 'https://datos.madrid.es/egob/catalogo/300439-11-covid--calidad-aire-semanal.xlsx', 'byteSize': 22528, 'format': {'type': 'http://purl.org/dc/terms/IMT', 'value': 'application/vnd.ms-excel'}, 'type': 'http://www.w3.org/ns/dcat#Distribution'}, {'title': 'Partículas en suspensión 2.5 (PM2.5)', 'accessURL': 'https://datos.madrid.es/egob/catalogo/300439-4-covid--calidad-aire-semanal.csv', 'byteSize': 3072, 'format': {'type': 'http://purl.org/dc/terms/IMT', 'value': 'text/csv'}, 'type': 'http://www.w3.org/ns/dcat#Distribution'}, {'title': 'Partículas en suspensión 2.5 (PM2.5)', 'accessURL': 'https://datos.madrid.es/egob/catalogo/300439-5-covid--calidad-aire-semanal.xlsx', 'byteSize': 14336, 'format': {'type': 'http://purl.org/dc/terms/IMT', 'value': 'application/vnd.ms-excel'}, 'type': 'http://www.w3.org/ns/dcat#Distribution'}, {'title': 'Partículas en suspensión 10 (PM10)', 'accessURL': 'https://datos.madrid.es/egob/catalogo/300439-6-covid--calidad-aire-semanal.csv', 'byteSize': 5120, 'format': {'type': 'http://purl.org/dc/terms/IMT', 'value': 'text/csv'}, 'type': 'http://www.w3.org/ns/dcat#Distribution'}, {'title': 'Partículas en suspensión 10 (PM10)', 'accessURL': 'https://datos.madrid.es/egob/catalogo/300439-7-covid--calidad-aire-semanal.xlsx', 'byteSize': 16384, 'format': {'type': 'http://purl.org/dc/terms/IMT', 'value': 'application/vnd.ms-excel'}, 'type': 'http://www.w3.org/ns/dcat#Distribution'}, {'title': 'Ozono (O3) ', 'accessURL': 'https://datos.madrid.es/egob/catalogo/300439-8-covid--calidad-aire-semanal.csv', 'byteSize': 6144, 'format': {'type': 'http://purl.org/dc/terms/IMT', 'value': 'text/csv'}, 'type': 'http://www.w3.org/ns/dcat#Distribution'}, {'title': 'Ozono (O3) ', 'accessURL': 'https://datos.madrid.es/egob/catalogo/300439-9-covid--calidad-aire-semanal.xlsx', 'byteSize': 17408, 'format': {'type': 'http://purl.org/dc/terms/IMT', 'value': 'application/vnd.ms-excel'}, 'type': 'http://www.w3.org/ns/dcat#Distribution'}], 'type': 'http://www.w3.org/ns/dcat#Dataset'}, {'_about': 'https://datos.madrid.es/egob/catalogo/300351-0-meteorologicos-diarios', 'description': [{'value': 'El Sistema Integral de la Calidad del Aire del Ayuntamiento de Madrid incluye la red meteorológica municipal. En este conjunto de datos puede obtener la información recogida por las estaciones meteorológicas, con los datos diarios, horarios por anualidades desde enero de 2019.   Toda la información relacionada la puede revisar tambien en el  Portal Web de Calidad del Aire  así como también ver  el mapa de la red meteorológica .   La infraestructura de la red meteorológica se puso en marcha en 2018. El Ayuntamiento de Madrid no dispone de datos meteorológicos anteriores al 1 de enero de 2019.     En este portal tambien están disponibles otros conjuntos de datos relacionados con la calidad del aire:       Datos meteorológicos. Datos horarios desde 2019.     Datos meteorológicos. Estaciones de control.', '_lang': 'es'}], 'identifier': 'https://datos.madrid.es/egob/catalogo/300351-0-meteorologicos-diarios', 'issued': '2019-05-28T16:44:47', 'modified': '2021-07-07T13:54:41', 'publisher': 'http://datos.gob.es/recurso/sector-publico/org/Organismo/L01280796', 'theme': 'http://datos.gob.es/kos/sector-publico/sector/medio-ambiente', 'title': 'Datos meteorológicos. Datos diarios desde 2019', 'keyword': ['Medio Ambiente'], 'distribution': [{'title': '2021', 'accessURL': 'https://datos.madrid.es/egob/catalogo/300351-6-meteorologicos-diarios.csv', 'byteSize': 152576, 'format': {'type': 'http://purl.org/dc/terms/IMT', 'value': 'text/csv'}, 'type': 'http://www.w3.org/ns/dcat#Distribution'}, {'title': '2021', 'accessURL': 'https://datos.madrid.es/egob/catalogo/300351-7-meteorologicos-diarios.txt', 'byteSize': 148480, 'format': {'type': 'http://purl.org/dc/terms/IMT', 'value': 'text/plain'}, 'type': 'http://www.w3.org/ns/dcat#Distribution'}, {'title': '2021', 'accessURL': 'https://datos.madrid.es/egob/catalogo/300351-8-meteorologicos-diarios.xml', 'byteSize': 731136, 'format': {'type': 'http://purl.org/dc/terms/IMT', 'value': 'application/xml'}, 'type': 'http://www.w3.org/ns/dcat#Distribution'}, {'title': '2020', 'accessURL': 'https://datos.madrid.es/egob/catalogo/300351-3-meteorologicos-diarios.csv', 'byteSize': 310272, 'format': {'type': 'http://purl.org/dc/terms/IMT', 'value': 'text/csv'}, 'type': 'http://www.w3.org/ns/dcat#Distribution'}, {'title': '2020', 'accessURL': 'https://datos.madrid.es/egob/catalogo/300351-4-meteorologicos-diarios.txt', 'byteSize': 302080, 'format': {'type': 'http://purl.org/dc/terms/IMT', 'value': 'text/plain'}, 'type': 'http://www.w3.org/ns/dcat#Distribution'}, {'title': '2020', 'accessURL': 'https://datos.madrid.es/egob/catalogo/300351-5-meteorologicos-diarios.xml', 'byteSize': 1560576, 'format': {'type': 'http://purl.org/dc/terms/IMT', 'value': 'application/xml'}, 'type': 'http://www.w3.org/ns/dcat#Distribution'}, {'title': '2019', 'accessURL': 'https://datos.madrid.es/egob/catalogo/300351-0-meteorologicos-diarios.csv', 'byteSize': 321536, 'format': {'type': 'http://purl.org/dc/terms/IMT', 'value': 'text/csv'}, 'type': 'http://www.w3.org/ns/dcat#Distribution'}, {'title': '2019', 'accessURL': 'https://datos.madrid.es/egob/catalogo/300351-1-meteorologicos-diarios.txt', 'byteSize': 311296, 'format': {'type': 'http://purl.org/dc/terms/IMT', 'value': 'text/plain'}, 'type': 'http://www.w3.org/ns/dcat#Distribution'}, {'title': '2019', 'accessURL': 'https://datos.madrid.es/egob/catalogo/300351-2-meteorologicos-diarios.xml', 'byteSize': 1536000, 'format': {'type': 'http://purl.org/dc/terms/IMT', 'value': 'application/xml'}, 'type': 'http://www.w3.org/ns/dcat#Distribution'}], 'type': 'http://www.w3.org/ns/dcat#Dataset'}, {'_about': 'https://datos.madrid.es/egob/catalogo/300392-0-meteorologia-tiempo-real', 'description': [{'value': \"El  Ayuntamiento de Madrid permite conocer en cada momento los datos meteorológicos del municipio.   En este conjunto de datos puede obtener la información actualizada en tiempo real,  actualizándose estos datos cada hora, y esta actualización se realizará entre los minutos 20 y 30.     Importante: estos datos en tiempo real son los que salen automáticamente de las estaciones de medición y están pendientes de revisión y validación. Ver el fichero 'Interpretación de datos metereológicos' que se encuentra más abajo en la sección 'documentación asociada'.    Toda la información relacionada la puede revisar tambien en el  Portal Web de Calidad del Aire  así como también ver  el mapa de la red meteorológica .   En este portal tambien están disponibles otros conjuntos de datos relacionados con la calidad del aire:      Datos meteorológicos. Datos diarios desde 2019 .    Datos meteorológicos. Datos horarios desde 2019 .    Datos meteorológicos. Estaciones de control.\", '_lang': 'es'}], 'identifier': 'https://datos.madrid.es/egob/catalogo/300392-0-meteorologia-tiempo-real', 'issued': '2019-10-15T00:00:00', 'modified': '2019-10-15T00:00:00', 'publisher': 'http://datos.gob.es/recurso/sector-publico/org/Organismo/L01280796', 'theme': 'http://datos.gob.es/kos/sector-publico/sector/medio-ambiente', 'title': 'Datos meteorológicos. Datos en tiempo real', 'distribution': [{'title': 'Datos metereológicos. Tiempo real csv', 'accessURL': 'https://datos.madrid.es/egob/catalogo/300392-11041819-meteorologia-tiempo-real.csv', 'format': {'type': 'http://purl.org/dc/terms/IMT', 'value': 'text/csv'}, 'type': 'http://www.w3.org/ns/dcat#Distribution'}, {'title': 'Datos metereológicos. Tiempo real txt', 'accessURL': 'https://datos.madrid.es/egob/catalogo/300392-11041818-meteorologia-tiempo-real.csv', 'format': {'type': 'http://purl.org/dc/terms/IMT', 'value': 'text/csv'}, 'type': 'http://www.w3.org/ns/dcat#Distribution'}, {'title': 'Datos metereológicos. Tiempo real xml', 'accessURL': 'https://datos.madrid.es/egob/catalogo/300392-11041815-meteorologia-tiempo-real.csv', 'format': {'type': 'http://purl.org/dc/terms/IMT', 'value': 'text/csv'}, 'type': 'http://www.w3.org/ns/dcat#Distribution'}], 'type': 'http://www.w3.org/ns/dcat#Dataset'}, {'_about': 'https://datos.madrid.es/egob/catalogo/300352-0-meteorologicos-horarios', 'description': [{'value': 'El Sistema Integral de la Calidad del Aire del Ayuntamiento de Madrid incluye la red meteorológica municipal. En este conjunto de datos puede obtener la información recogida por las estaciones meteorológicas, con los datos horarios, horarios por anualidades desde enero de 2019.   Toda la información relacionada la puede revisar tambien en el  Portal Web de Calidad del Aire  así como también ver  el mapa de la red meteorológica .   La infraestructura de la red meteorológica se puso en marcha en 2018. El Ayuntamiento de Madrid no dispone de datos meteorológicos anteriores al 1 de enero de 2019.    En este portal tambien están disponibles otros conjuntos de datos relacionados con la calidad del aire:      Datos meteorológicos. Datos diarios desde 2019.     Datos meteorológicos. Estaciones de control.', '_lang': 'es'}], 'identifier': 'https://datos.madrid.es/egob/catalogo/300352-0-meteorologicos-horarios', 'issued': '2019-05-28T16:45:59', 'modified': '2021-07-07T13:51:31', 'publisher': 'http://datos.gob.es/recurso/sector-publico/org/Organismo/L01280796', 'theme': 'http://datos.gob.es/kos/sector-publico/sector/medio-ambiente', 'title': 'Datos meteorológicos. Datos horarios desde 2019', 'keyword': ['Medio Ambiente'], 'distribution': [{'title': '2021. Junio', 'accessURL': 'https://datos.madrid.es/egob/catalogo/300352-88-meteorologicos-horarios.csv', 'byteSize': 551936, 'format': {'type': 'http://purl.org/dc/terms/IMT', 'value': 'text/csv'}, 'type': 'http://www.w3.org/ns/dcat#Distribution'}, {'title': '2021. Junio', 'accessURL': 'https://datos.madrid.es/egob/catalogo/300352-89-meteorologicos-horarios.txt', 'byteSize': 531456, 'format': {'type': 'http://purl.org/dc/terms/IMT', 'value': 'text/plain'}, 'type': 'http://www.w3.org/ns/dcat#Distribution'}, {'title': '2021. Junio', 'accessURL': 'https://datos.madrid.es/egob/catalogo/300352-90-meteorologicos-horarios.xml', 'byteSize': 2689024, 'format': {'type': 'http://purl.org/dc/terms/IMT', 'value': 'application/xml'}, 'type': 'http://www.w3.org/ns/dcat#Distribution'}, {'title': '2021. Mayo', 'accessURL': 'https://datos.madrid.es/egob/catalogo/300352-85-meteorologicos-horarios.csv', 'byteSize': 644096, 'format': {'type': 'http://purl.org/dc/terms/IMT', 'value': 'text/csv'}, 'type': 'http://www.w3.org/ns/dcat#Distribution'}, {'title': '2021. Mayo', 'accessURL': 'https://datos.madrid.es/egob/catalogo/300352-86-meteorologicos-horarios.txt', 'byteSize': 620544, 'format': {'type': 'http://purl.org/dc/terms/IMT', 'value': 'text/plain'}, 'type': 'http://www.w3.org/ns/dcat#Distribution'}, {'title': '2021. Mayo', 'accessURL': 'https://datos.madrid.es/egob/catalogo/300352-87-meteorologicos-horarios.xml', 'byteSize': 3134464, 'format': {'type': 'http://purl.org/dc/terms/IMT', 'value': 'application/xml'}, 'type': 'http://www.w3.org/ns/dcat#Distribution'}, {'title': '2021. Abril', 'accessURL': 'https://datos.madrid.es/egob/catalogo/300352-82-meteorologicos-horarios.csv', 'byteSize': 624640, 'format': {'type': 'http://purl.org/dc/terms/IMT', 'value': 'text/csv'}, 'type': 'http://www.w3.org/ns/dcat#Distribution'}, {'title': '2021. Abril', 'accessURL': 'https://datos.madrid.es/egob/catalogo/300352-83-meteorologicos-horarios.txt', 'byteSize': 601088, 'format': {'type': 'http://purl.org/dc/terms/IMT', 'value': 'text/plain'}, 'type': 'http://www.w3.org/ns/dcat#Distribution'}, {'title': '2021. Abril', 'accessURL': 'https://datos.madrid.es/egob/catalogo/300352-84-meteorologicos-horarios.xml', 'byteSize': 3037184, 'format': {'type': 'http://purl.org/dc/terms/IMT', 'value': 'application/xml'}, 'type': 'http://www.w3.org/ns/dcat#Distribution'}, {'title': '2021. Marzo', 'accessURL': 'https://datos.madrid.es/egob/catalogo/300352-79-meteorologicos-horarios.csv', 'byteSize': 643072, 'format': {'type': 'http://purl.org/dc/terms/IMT', 'value': 'text/csv'}, 'type': 'http://www.w3.org/ns/dcat#Distribution'}, {'title': '2021. Marzo', 'accessURL': 'https://datos.madrid.es/egob/catalogo/300352-80-meteorologicos-horarios.txt', 'byteSize': 619520, 'format': {'type': 'http://purl.org/dc/terms/IMT', 'value': 'text/plain'}, 'type': 'http://www.w3.org/ns/dcat#Distribution'}, {'title': '2021. Marzo', 'accessURL': 'https://datos.madrid.es/egob/catalogo/300352-81-meteorologicos-horarios.xml', 'byteSize': 3121152, 'format': {'type': 'http://purl.org/dc/terms/IMT', 'value': 'application/xml'}, 'type': 'http://www.w3.org/ns/dcat#Distribution'}, {'title': '2021. Febrero', 'accessURL': 'https://datos.madrid.es/egob/catalogo/300352-76-meteorologicos-horarios.csv', 'byteSize': 582656, 'format': {'type': 'http://purl.org/dc/terms/IMT', 'value': 'text/csv'}, 'type': 'http://www.w3.org/ns/dcat#Distribution'}, {'title': '2021. Febrero', 'accessURL': 'https://datos.madrid.es/egob/catalogo/300352-77-meteorologicos-horarios.txt', 'byteSize': 561152, 'format': {'type': 'http://purl.org/dc/terms/IMT', 'value': 'text/plain'}, 'type': 'http://www.w3.org/ns/dcat#Distribution'}, {'title': '2021. Febrero', 'accessURL': 'https://datos.madrid.es/egob/catalogo/300352-78-meteorologicos-horarios.xml', 'byteSize': 2826240, 'format': {'type': 'http://purl.org/dc/terms/IMT', 'value': 'application/xml'}, 'type': 'http://www.w3.org/ns/dcat#Distribution'}, {'title': '2021. Enero', 'accessURL': 'https://datos.madrid.es/egob/catalogo/300352-73-meteorologicos-horarios.csv', 'byteSize': 651264, 'format': {'type': 'http://purl.org/dc/terms/IMT', 'value': 'text/csv'}, 'type': 'http://www.w3.org/ns/dcat#Distribution'}, {'title': '2021. Enero', 'accessURL': 'https://datos.madrid.es/egob/catalogo/300352-74-meteorologicos-horarios.txt', 'byteSize': 627712, 'format': {'type': 'http://purl.org/dc/terms/IMT', 'value': 'text/plain'}, 'type': 'http://www.w3.org/ns/dcat#Distribution'}, {'title': '2021. Enero', 'accessURL': 'https://datos.madrid.es/egob/catalogo/300352-75-meteorologicos-horarios.xml', 'byteSize': 3161088, 'format': {'type': 'http://purl.org/dc/terms/IMT', 'value': 'application/xml'}, 'type': 'http://www.w3.org/ns/dcat#Distribution'}, {'title': '2020. Diciembre', 'accessURL': 'https://datos.madrid.es/egob/catalogo/300352-70-meteorologicos-horarios.csv', 'byteSize': 657408, 'format': {'type': 'http://purl.org/dc/terms/IMT', 'value': 'text/csv'}, 'type': 'http://www.w3.org/ns/dcat#Distribution'}, {'title': '2020. Diciembre', 'accessURL': 'https://datos.madrid.es/egob/catalogo/300352-71-meteorologicos-horarios.txt', 'byteSize': 635904, 'format': {'type': 'http://purl.org/dc/terms/IMT', 'value': 'text/plain'}, 'type': 'http://www.w3.org/ns/dcat#Distribution'}, {'title': '2020. Diciembre', 'accessURL': 'https://datos.madrid.es/egob/catalogo/300352-72-meteorologicos-horarios.xml', 'byteSize': 3352576, 'format': {'type': 'http://purl.org/dc/terms/IMT', 'value': 'application/xml'}, 'type': 'http://www.w3.org/ns/dcat#Distribution'}, {'title': '2020. Noviembre', 'accessURL': 'https://datos.madrid.es/egob/catalogo/300352-67-meteorologicos-horarios.csv', 'byteSize': 637952, 'format': {'type': 'http://purl.org/dc/terms/IMT', 'value': 'text/csv'}, 'type': 'http://www.w3.org/ns/dcat#Distribution'}, {'title': '2020. Noviembre', 'accessURL': 'https://datos.madrid.es/egob/catalogo/300352-68-meteorologicos-horarios.txt', 'byteSize': 616448, 'format': {'type': 'http://purl.org/dc/terms/IMT', 'value': 'text/plain'}, 'type': 'http://www.w3.org/ns/dcat#Distribution'}, {'title': '2020. Noviembre', 'accessURL': 'https://datos.madrid.es/egob/catalogo/300352-69-meteorologicos-horarios.xml', 'byteSize': 3252224, 'format': {'type': 'http://purl.org/dc/terms/IMT', 'value': 'application/xml'}, 'type': 'http://www.w3.org/ns/dcat#Distribution'}, {'title': '2020. Octubre', 'accessURL': 'https://datos.madrid.es/egob/catalogo/300352-63-meteorologicos-horarios.csv', 'byteSize': 660480, 'format': {'type': 'http://purl.org/dc/terms/IMT', 'value': 'text/csv'}, 'type': 'http://www.w3.org/ns/dcat#Distribution'}, {'title': '2020. Octubre', 'accessURL': 'https://datos.madrid.es/egob/catalogo/300352-64-meteorologicos-horarios.txt', 'byteSize': 635904, 'format': {'type': 'http://purl.org/dc/terms/IMT', 'value': 'text/plain'}, 'type': 'http://www.w3.org/ns/dcat#Distribution'}, {'title': '2020. Octubre', 'accessURL': 'https://datos.madrid.es/egob/catalogo/300352-65-meteorologicos-horarios.xml', 'byteSize': 3207168, 'format': {'type': 'http://purl.org/dc/terms/IMT', 'value': 'application/xml'}, 'type': 'http://www.w3.org/ns/dcat#Distribution'}, {'title': '2020. Septiembre', 'accessURL': 'https://datos.madrid.es/egob/catalogo/300352-60-meteorologicos-horarios.csv', 'byteSize': 637952, 'format': {'type': 'http://purl.org/dc/terms/IMT', 'value': 'text/csv'}, 'type': 'http://www.w3.org/ns/dcat#Distribution'}, {'title': '2020. Septiembre', 'accessURL': 'https://datos.madrid.es/egob/catalogo/300352-61-meteorologicos-horarios.txt', 'byteSize': 616448, 'format': {'type': 'http://purl.org/dc/terms/IMT', 'value': 'text/plain'}, 'type': 'http://www.w3.org/ns/dcat#Distribution'}, {'title': '2020. Septiembre', 'accessURL': 'https://datos.madrid.es/egob/catalogo/300352-62-meteorologicos-horarios.xml', 'byteSize': 3263488, 'format': {'type': 'http://purl.org/dc/terms/IMT', 'value': 'application/xml'}, 'type': 'http://www.w3.org/ns/dcat#Distribution'}, {'title': '2020. Agosto', 'accessURL': 'https://datos.madrid.es/egob/catalogo/300352-57-meteorologicos-horarios.csv', 'byteSize': 653312, 'format': {'type': 'http://purl.org/dc/terms/IMT', 'value': 'text/csv'}, 'type': 'http://www.w3.org/ns/dcat#Distribution'}, {'title': '2020. Agosto', 'accessURL': 'https://datos.madrid.es/egob/catalogo/300352-58-meteorologicos-horarios.txt', 'byteSize': 631808, 'format': {'type': 'http://purl.org/dc/terms/IMT', 'value': 'text/plain'}, 'type': 'http://www.w3.org/ns/dcat#Distribution'}, {'title': '2020. Agosto', 'accessURL': 'https://datos.madrid.es/egob/catalogo/300352-66-meteorologicos-horarios.xml', 'byteSize': 3344384, 'format': {'type': 'http://purl.org/dc/terms/IMT', 'value': 'application/xml'}, 'type': 'http://www.w3.org/ns/dcat#Distribution'}, {'title': '2020. Julio', 'accessURL': 'https://datos.madrid.es/egob/catalogo/300352-54-meteorologicos-horarios.csv', 'byteSize': 594944, 'format': {'type': 'http://purl.org/dc/terms/IMT', 'value': 'text/csv'}, 'type': 'http://www.w3.org/ns/dcat#Distribution'}, {'title': '2020. Julio', 'accessURL': 'https://datos.madrid.es/egob/catalogo/300352-55-meteorologicos-horarios.txt', 'byteSize': 575488, 'format': {'type': 'http://purl.org/dc/terms/IMT', 'value': 'text/plain'}, 'type': 'http://www.w3.org/ns/dcat#Distribution'}, {'title': '2020. Julio', 'accessURL': 'https://datos.madrid.es/egob/catalogo/300352-56-meteorologicos-horarios.xml', 'byteSize': 3046400, 'format': {'type': 'http://purl.org/dc/terms/IMT', 'value': 'application/xml'}, 'type': 'http://www.w3.org/ns/dcat#Distribution'}, {'title': '2020. Junio', 'accessURL': 'https://datos.madrid.es/egob/catalogo/300352-51-meteorologicos-horarios.csv', 'byteSize': 581632, 'format': {'type': 'http://purl.org/dc/terms/IMT', 'value': 'text/csv'}, 'type': 'http://www.w3.org/ns/dcat#Distribution'}, {'title': '2020. Junio', 'accessURL': 'https://datos.madrid.es/egob/catalogo/300352-52-meteorologicos-horarios.txt', 'byteSize': 562176, 'format': {'type': 'http://purl.org/dc/terms/IMT', 'value': 'text/plain'}, 'type': 'http://www.w3.org/ns/dcat#Distribution'}, {'title': '2020. Junio', 'accessURL': 'https://datos.madrid.es/egob/catalogo/300352-53-meteorologicos-horarios.xml', 'byteSize': 2978816, 'format': {'type': 'http://purl.org/dc/terms/IMT', 'value': 'application/xml'}, 'type': 'http://www.w3.org/ns/dcat#Distribution'}, {'title': '2020. Mayo', 'accessURL': 'https://datos.madrid.es/egob/catalogo/300352-48-meteorologicos-horarios.csv', 'byteSize': 627712, 'format': {'type': 'http://purl.org/dc/terms/IMT', 'value': 'text/csv'}, 'type': 'http://www.w3.org/ns/dcat#Distribution'}, {'title': '2020. Mayo', 'accessURL': 'https://datos.madrid.es/egob/catalogo/300352-49-meteorologicos-horarios.txt', 'byteSize': 607232, 'format': {'type': 'http://purl.org/dc/terms/IMT', 'value': 'text/plain'}, 'type': 'http://www.w3.org/ns/dcat#Distribution'}, {'title': '2020. Mayo', 'accessURL': 'https://datos.madrid.es/egob/catalogo/300352-50-meteorologicos-horarios.xml', 'byteSize': 3214336, 'format': {'type': 'http://purl.org/dc/terms/IMT', 'value': 'application/xml'}, 'type': 'http://www.w3.org/ns/dcat#Distribution'}, {'title': '2020. Abril', 'accessURL': 'https://datos.madrid.es/egob/catalogo/300352-45-meteorologicos-horarios.csv', 'byteSize': 618496, 'format': {'type': 'http://purl.org/dc/terms/IMT', 'value': 'text/csv'}, 'type': 'http://www.w3.org/ns/dcat#Distribution'}, {'title': '2020. Abril', 'accessURL': 'https://datos.madrid.es/egob/catalogo/300352-46-meteorologicos-horarios.txt', 'byteSize': 594944, 'format': {'type': 'http://purl.org/dc/terms/IMT', 'value': 'text/plain'}, 'type': 'http://www.w3.org/ns/dcat#Distribution'}, {'title': '2020. Abril', 'accessURL': 'https://datos.madrid.es/egob/catalogo/300352-47-meteorologicos-horarios.xml', 'byteSize': 3005440, 'format': {'type': 'http://purl.org/dc/terms/IMT', 'value': 'application/xml'}, 'type': 'http://www.w3.org/ns/dcat#Distribution'}, {'title': '2020. Marzo', 'accessURL': 'https://datos.madrid.es/egob/catalogo/300352-42-meteorologicos-horarios.csv', 'byteSize': 638976, 'format': {'type': 'http://purl.org/dc/terms/IMT', 'value': 'text/csv'}, 'type': 'http://www.w3.org/ns/dcat#Distribution'}, {'title': '2020. Marzo', 'accessURL': 'https://datos.madrid.es/egob/catalogo/300352-43-meteorologicos-horarios.txt', 'byteSize': 615424, 'format': {'type': 'http://purl.org/dc/terms/IMT', 'value': 'text/plain'}, 'type': 'http://www.w3.org/ns/dcat#Distribution'}, {'title': '2020. Marzo', 'accessURL': 'https://datos.madrid.es/egob/catalogo/300352-44-meteorologicos-horarios.xml', 'byteSize': 3104768, 'format': {'type': 'http://purl.org/dc/terms/IMT', 'value': 'application/xml'}, 'type': 'http://www.w3.org/ns/dcat#Distribution'}, {'title': '2020. Febrero', 'accessURL': 'https://datos.madrid.es/egob/catalogo/300352-39-meteorologicos-horarios.csv', 'byteSize': 598016, 'format': {'type': 'http://purl.org/dc/terms/IMT', 'value': 'text/csv'}, 'type': 'http://www.w3.org/ns/dcat#Distribution'}, {'title': '2020. Febrero', 'accessURL': 'https://datos.madrid.es/egob/catalogo/300352-40-meteorologicos-horarios.txt', 'byteSize': 576512, 'format': {'type': 'http://purl.org/dc/terms/IMT', 'value': 'text/plain'}, 'type': 'http://www.w3.org/ns/dcat#Distribution'}, {'title': '2020. Febrero', 'accessURL': 'https://datos.madrid.es/egob/catalogo/300352-41-meteorologicos-horarios.xml', 'byteSize': 2906112, 'format': {'type': 'http://purl.org/dc/terms/IMT', 'value': 'application/xml'}, 'type': 'http://www.w3.org/ns/dcat#Distribution'}, {'title': '2020. Enero', 'accessURL': 'https://datos.madrid.es/egob/catalogo/300352-36-meteorologicos-horarios.csv', 'byteSize': 651264, 'format': {'type': 'http://purl.org/dc/terms/IMT', 'value': 'text/csv'}, 'type': 'http://www.w3.org/ns/dcat#Distribution'}, {'title': '2020. Enero', 'accessURL': 'https://datos.madrid.es/egob/catalogo/300352-37-meteorologicos-horarios.txt', 'byteSize': 627712, 'format': {'type': 'http://purl.org/dc/terms/IMT', 'value': 'text/plain'}, 'type': 'http://www.w3.org/ns/dcat#Distribution'}, {'title': '2020. Enero', 'accessURL': 'https://datos.madrid.es/egob/catalogo/300352-38-meteorologicos-horarios.xml', 'byteSize': 3158016, 'format': {'type': 'http://purl.org/dc/terms/IMT', 'value': 'application/xml'}, 'type': 'http://www.w3.org/ns/dcat#Distribution'}, {'title': '2019. Diciembre', 'accessURL': 'https://datos.madrid.es/egob/catalogo/300352-33-meteorologicos-horarios.csv', 'byteSize': 655360, 'format': {'type': 'http://purl.org/dc/terms/IMT', 'value': 'text/csv'}, 'type': 'http://www.w3.org/ns/dcat#Distribution'}, {'title': '2019. Diciembre', 'accessURL': 'https://datos.madrid.es/egob/catalogo/300352-34-meteorologicos-horarios.txt', 'byteSize': 630784, 'format': {'type': 'http://purl.org/dc/terms/IMT', 'value': 'text/plain'}, 'type': 'http://www.w3.org/ns/dcat#Distribution'}, {'title': '2019. Diciembre', 'accessURL': 'https://datos.madrid.es/egob/catalogo/300352-35-meteorologicos-horarios.xml', 'byteSize': 3179520, 'format': {'type': 'http://purl.org/dc/terms/IMT', 'value': 'application/xml'}, 'type': 'http://www.w3.org/ns/dcat#Distribution'}, {'title': '2019. Noviembre', 'accessURL': 'https://datos.madrid.es/egob/catalogo/300352-30-meteorologicos-horarios.csv', 'byteSize': 636928, 'format': {'type': 'http://purl.org/dc/terms/IMT', 'value': 'text/csv'}, 'type': 'http://www.w3.org/ns/dcat#Distribution'}, {'title': '2019. Noviembre', 'accessURL': 'https://datos.madrid.es/egob/catalogo/300352-31-meteorologicos-horarios.txt', 'byteSize': 613376, 'format': {'type': 'http://purl.org/dc/terms/IMT', 'value': 'text/plain'}, 'type': 'http://www.w3.org/ns/dcat#Distribution'}, {'title': '2019. Noviembre', 'accessURL': 'https://datos.madrid.es/egob/catalogo/300352-32-meteorologicos-horarios.xml', 'byteSize': 3092480, 'format': {'type': 'http://purl.org/dc/terms/IMT', 'value': 'application/xml'}, 'type': 'http://www.w3.org/ns/dcat#Distribution'}, {'title': '2019. Octubre', 'accessURL': 'https://datos.madrid.es/egob/catalogo/300352-27-meteorologicos-horarios.csv', 'byteSize': 658432, 'format': {'type': 'http://purl.org/dc/terms/IMT', 'value': 'text/csv'}, 'type': 'http://www.w3.org/ns/dcat#Distribution'}, {'title': '2019. Octubre', 'accessURL': 'https://datos.madrid.es/egob/catalogo/300352-28-meteorologicos-horarios.txt', 'byteSize': 633856, 'format': {'type': 'http://purl.org/dc/terms/IMT', 'value': 'text/plain'}, 'type': 'http://www.w3.org/ns/dcat#Distribution'}, {'title': '2019. Octubre', 'accessURL': 'https://datos.madrid.es/egob/catalogo/300352-29-meteorologicos-horarios.xml', 'byteSize': 3203072, 'format': {'type': 'http://purl.org/dc/terms/IMT', 'value': 'application/xml'}, 'type': 'http://www.w3.org/ns/dcat#Distribution'}, {'title': '2019. Septiembre', 'accessURL': 'https://datos.madrid.es/egob/catalogo/300352-24-meteorologicos-horarios.csv', 'byteSize': 637952, 'format': {'type': 'http://purl.org/dc/terms/IMT', 'value': 'text/csv'}, 'type': 'http://www.w3.org/ns/dcat#Distribution'}, {'title': '2019. Septiembre', 'accessURL': 'https://datos.madrid.es/egob/catalogo/300352-25-meteorologicos-horarios.txt', 'byteSize': 614400, 'format': {'type': 'http://purl.org/dc/terms/IMT', 'value': 'text/plain'}, 'type': 'http://www.w3.org/ns/dcat#Distribution'}, {'title': '2019. Septiembre', 'accessURL': 'https://datos.madrid.es/egob/catalogo/300352-26-meteorologicos-horarios.xml', 'byteSize': 3106816, 'format': {'type': 'http://purl.org/dc/terms/IMT', 'value': 'application/xml'}, 'type': 'http://www.w3.org/ns/dcat#Distribution'}, {'title': '2019. Agosto', 'accessURL': 'https://datos.madrid.es/egob/catalogo/300352-21-meteorologicos-horarios.csv', 'byteSize': 638976, 'format': {'type': 'http://purl.org/dc/terms/IMT', 'value': 'text/csv'}, 'type': 'http://www.w3.org/ns/dcat#Distribution'}, {'title': '2019. Agosto', 'accessURL': 'https://datos.madrid.es/egob/catalogo/300352-22-meteorologicos-horarios.txt', 'byteSize': 615424, 'format': {'type': 'http://purl.org/dc/terms/IMT', 'value': 'text/plain'}, 'type': 'http://www.w3.org/ns/dcat#Distribution'}, {'title': '2019. Agosto', 'accessURL': 'https://datos.madrid.es/egob/catalogo/300352-23-meteorologicos-horarios.xml', 'byteSize': 3110912, 'format': {'type': 'http://purl.org/dc/terms/IMT', 'value': 'application/xml'}, 'type': 'http://www.w3.org/ns/dcat#Distribution'}, {'title': '2019. Julio', 'accessURL': 'https://datos.madrid.es/egob/catalogo/300352-18-meteorologicos-horarios.csv', 'byteSize': 618496, 'format': {'type': 'http://purl.org/dc/terms/IMT', 'value': 'text/csv'}, 'type': 'http://www.w3.org/ns/dcat#Distribution'}, {'title': '2019. Julio', 'accessURL': 'https://datos.madrid.es/egob/catalogo/300352-19-meteorologicos-horarios.txt', 'byteSize': 594944, 'format': {'type': 'http://purl.org/dc/terms/IMT', 'value': 'text/plain'}, 'type': 'http://www.w3.org/ns/dcat#Distribution'}, {'title': '2019. Julio', 'accessURL': 'https://datos.madrid.es/egob/catalogo/300352-20-meteorologicos-horarios.xml', 'byteSize': 3011584, 'format': {'type': 'http://purl.org/dc/terms/IMT', 'value': 'application/xml'}, 'type': 'http://www.w3.org/ns/dcat#Distribution'}, {'title': '2019. Junio', 'accessURL': 'https://datos.madrid.es/egob/catalogo/300352-15-meteorologicos-horarios.csv', 'byteSize': 621568, 'format': {'type': 'http://purl.org/dc/terms/IMT', 'value': 'text/csv'}, 'type': 'http://www.w3.org/ns/dcat#Distribution'}, {'title': '2019. Junio', 'accessURL': 'https://datos.madrid.es/egob/catalogo/300352-16-meteorologicos-horarios.txt', 'byteSize': 598016, 'format': {'type': 'http://purl.org/dc/terms/IMT', 'value': 'text/plain'}, 'type': 'http://www.w3.org/ns/dcat#Distribution'}, {'title': '2019. Junio', 'accessURL': 'https://datos.madrid.es/egob/catalogo/300352-17-meteorologicos-horarios.xml', 'byteSize': 3025920, 'format': {'type': 'http://purl.org/dc/terms/IMT', 'value': 'application/xml'}, 'type': 'http://www.w3.org/ns/dcat#Distribution'}, {'title': '2019. Mayo', 'accessURL': 'https://datos.madrid.es/egob/catalogo/300352-12-meteorologicos-horarios.csv', 'byteSize': 669696, 'format': {'type': 'http://purl.org/dc/terms/IMT', 'value': 'text/csv'}, 'type': 'http://www.w3.org/ns/dcat#Distribution'}, {'title': '2019. Mayo', 'accessURL': 'https://datos.madrid.es/egob/catalogo/300352-13-meteorologicos-horarios.txt', 'byteSize': 645120, 'format': {'type': 'http://purl.org/dc/terms/IMT', 'value': 'text/plain'}, 'type': 'http://www.w3.org/ns/dcat#Distribution'}, {'title': '2019. Mayo', 'accessURL': 'https://datos.madrid.es/egob/catalogo/300352-14-meteorologicos-horarios.xml', 'byteSize': 3257344, 'format': {'type': 'http://purl.org/dc/terms/IMT', 'value': 'application/xml'}, 'type': 'http://www.w3.org/ns/dcat#Distribution'}, {'title': '2019. Abril', 'accessURL': 'https://datos.madrid.es/egob/catalogo/300352-0-meteorologicos-horarios.csv', 'byteSize': 656384, 'format': {'type': 'http://purl.org/dc/terms/IMT', 'value': 'text/csv'}, 'type': 'http://www.w3.org/ns/dcat#Distribution'}, {'title': '2019. Abril', 'accessURL': 'https://datos.madrid.es/egob/catalogo/300352-1-meteorologicos-horarios.txt', 'byteSize': 631808, 'format': {'type': 'http://purl.org/dc/terms/IMT', 'value': 'text/plain'}, 'type': 'http://www.w3.org/ns/dcat#Distribution'}, {'title': '2019. Abril', 'accessURL': 'https://datos.madrid.es/egob/catalogo/300352-2-meteorologicos-horarios.xml', 'byteSize': 3186688, 'format': {'type': 'http://purl.org/dc/terms/IMT', 'value': 'application/xml'}, 'type': 'http://www.w3.org/ns/dcat#Distribution'}, {'title': '2019. Marzo', 'accessURL': 'https://datos.madrid.es/egob/catalogo/300352-3-meteorologicos-horarios.csv', 'byteSize': 703488, 'format': {'type': 'http://purl.org/dc/terms/IMT', 'value': 'text/csv'}, 'type': 'http://www.w3.org/ns/dcat#Distribution'}, {'title': '2019. Marzo', 'accessURL': 'https://datos.madrid.es/egob/catalogo/300352-4-meteorologicos-horarios.txt', 'byteSize': 676864, 'format': {'type': 'http://purl.org/dc/terms/IMT', 'value': 'text/plain'}, 'type': 'http://www.w3.org/ns/dcat#Distribution'}, {'title': '2019. Marzo', 'accessURL': 'https://datos.madrid.es/egob/catalogo/300352-5-meteorologicos-horarios.xml', 'byteSize': 3411968, 'format': {'type': 'http://purl.org/dc/terms/IMT', 'value': 'application/xml'}, 'type': 'http://www.w3.org/ns/dcat#Distribution'}, {'title': '2019. Febrero', 'accessURL': 'https://datos.madrid.es/egob/catalogo/300352-6-meteorologicos-horarios.csv', 'byteSize': 648192, 'format': {'type': 'http://purl.org/dc/terms/IMT', 'value': 'text/csv'}, 'type': 'http://www.w3.org/ns/dcat#Distribution'}, {'title': '2019. Febrero', 'accessURL': 'https://datos.madrid.es/egob/catalogo/300352-7-meteorologicos-horarios.txt', 'byteSize': 623616, 'format': {'type': 'http://purl.org/dc/terms/IMT', 'value': 'text/plain'}, 'type': 'http://www.w3.org/ns/dcat#Distribution'}, {'title': '2019. Febrero', 'accessURL': 'https://datos.madrid.es/egob/catalogo/300352-8-meteorologicos-horarios.xml', 'byteSize': 3141632, 'format': {'type': 'http://purl.org/dc/terms/IMT', 'value': 'application/xml'}, 'type': 'http://www.w3.org/ns/dcat#Distribution'}, {'title': '2019. Enero', 'accessURL': 'https://datos.madrid.es/egob/catalogo/300352-9-meteorologicos-horarios.csv', 'byteSize': 714752, 'format': {'type': 'http://purl.org/dc/terms/IMT', 'value': 'text/csv'}, 'type': 'http://www.w3.org/ns/dcat#Distribution'}, {'title': '2019. Enero', 'accessURL': 'https://datos.madrid.es/egob/catalogo/300352-10-meteorologicos-horarios.txt', 'byteSize': 688128, 'format': {'type': 'http://purl.org/dc/terms/IMT', 'value': 'text/plain'}, 'type': 'http://www.w3.org/ns/dcat#Distribution'}, {'title': '2019. Enero', 'accessURL': 'https://datos.madrid.es/egob/catalogo/300352-11-meteorologicos-horarios.xml', 'byteSize': 3461120, 'format': {'type': 'http://purl.org/dc/terms/IMT', 'value': 'application/xml'}, 'type': 'http://www.w3.org/ns/dcat#Distribution'}], 'type': 'http://www.w3.org/ns/dcat#Dataset'}, {'_about': 'https://datos.madrid.es/egob/catalogo/300360-0-meteorologicos-estaciones', 'description': [{'value': 'El Sistema Integral de la Calidad del Aire del Ayuntamiento de Madrid incluye la red meteorológica municipal. En este conjunto de datos puede obtener la ubicación de todas las estaciones de control que pueden medir lo siguientes parametros:     81 - VELOCIDAD VIENTO 82 - DIR. DE VIENTO  83 - TEMPERATURA  86 - HUMEDAD RELATIVA  87 - PRESION BARIOMETRICA  88 - RADIACION SOLAR  89 - PRECIPITACIÓN         En este portal tambien están disponibles otros conjuntos de datos relacionados con la calidad del aire:      Datos meteorológicos. Datos diarios desde 2019 .    Datos meteorológicos. Datos horarios desde 2019 .', '_lang': 'es'}], 'identifier': 'https://datos.madrid.es/egob/catalogo/300360-0-meteorologicos-estaciones', 'issued': '2019-06-07T12:57:03', 'modified': '2020-05-12T16:26:32', 'publisher': 'http://datos.gob.es/recurso/sector-publico/org/Organismo/L01280796', 'theme': 'http://datos.gob.es/kos/sector-publico/sector/medio-ambiente', 'title': 'Datos meteorológicos. Estaciones de control', 'keyword': ['Medio Ambiente'], 'distribution': [{'title': 'Estaciones control datos meteorológicos', 'accessURL': 'https://datos.madrid.es/egob/catalogo/300360-0-meteorologicos-estaciones.xls', 'byteSize': 40960, 'format': {'type': 'http://purl.org/dc/terms/IMT', 'value': 'application/vnd.ms-excel'}, 'type': 'http://www.w3.org/ns/dcat#Distribution'}, {'title': 'Estaciones control datos meteorológicos', 'accessURL': 'https://datos.madrid.es/egob/catalogo/300360-1-meteorologicos-estaciones.csv', 'byteSize': 5120, 'format': {'type': 'http://purl.org/dc/terms/IMT', 'value': 'text/csv'}, 'type': 'http://www.w3.org/ns/dcat#Distribution'}, {'title': 'Estaciones control datos meteorológicos', 'accessURL': 'https://datos.madrid.es/egob/catalogo/300360-2-meteorologicos-estaciones.geo', 'byteSize': 6144, 'format': {'type': 'http://purl.org/dc/terms/IMT', 'value': 'application/rss+xml'}, 'type': 'http://www.w3.org/ns/dcat#Distribution'}], 'type': 'http://www.w3.org/ns/dcat#Dataset'}, {'_about': 'https://datos.madrid.es/egob/catalogo/210227-0-piscinas-publicas', 'description': [{'value': \"La información proporcionada se refiere al centro deportivo municipal (o instalaciones deportivas que cuentan con participación municipal) donde exista piscina, indicando adicionalmente el resto de instalaciones deportivas o deportes practicables en dicho centro.   Tenga en cuenta, que algunas pueden ser cubiertas y otras al aire libre. Esta información la puede revisar en el campo 'Descripción', en el cual se refleja las 'Unidades deportivas al aire libre' y las 'Unidades deportivas cubiertas'.\", '_lang': 'es'}], 'identifier': 'https://datos.madrid.es/egob/catalogo/210227-0-piscinas-publicas', 'issued': '2014-11-25T00:00:00', 'modified': '2021-07-07T14:09:50', 'publisher': 'http://datos.gob.es/recurso/sector-publico/org/Organismo/L01280796', 'theme': 'http://datos.gob.es/kos/sector-publico/sector/deporte', 'title': 'Deportes: Piscinas municipales en la ciudad de Madrid.', 'distribution': [{'accessURL': 'https://datos.madrid.es/egob/catalogo/210227-0-piscinas-publicas.csv', 'format': {'type': 'http://purl.org/dc/terms/IMT', 'value': 'text/csv'}, 'type': 'http://www.w3.org/ns/dcat#Distribution'}, {'accessURL': 'https://datos.madrid.es/egob/catalogo/210227-0-piscinas-publicas.geo', 'format': {'type': 'http://purl.org/dc/terms/IMT', 'value': 'application/rss+xml'}, 'type': 'http://www.w3.org/ns/dcat#Distribution'}, {'accessURL': 'https://datos.madrid.es/egob/catalogo/210227-0-piscinas-publicas.json', 'format': {'type': 'http://purl.org/dc/terms/IMT', 'value': 'application/json'}, 'type': 'http://www.w3.org/ns/dcat#Distribution'}, {'accessURL': 'https://datos.madrid.es/egob/catalogo/210227-0-piscinas-publicas.rdf', 'format': {'type': 'http://purl.org/dc/terms/IMT', 'value': 'application/rdf+xml'}, 'type': 'http://www.w3.org/ns/dcat#Distribution'}, {'accessURL': 'https://datos.madrid.es/egob/catalogo/210227-0-piscinas-publicas.xml', 'format': {'type': 'http://purl.org/dc/terms/IMT', 'value': 'application/xml'}, 'type': 'http://www.w3.org/ns/dcat#Distribution'}, {'title': 'Consulta el API de datos.madrid.es', 'accessURL': 'https://datos.madrid.es/egob/catalogo/api', 'format': {'type': 'http://purl.org/dc/terms/IMT', 'value': 'text/html'}, 'type': 'http://www.w3.org/ns/dcat#Distribution'}], 'type': 'http://www.w3.org/ns/dcat#Dataset'}, {'_about': 'https://datos.madrid.es/egob/catalogo/300422-0-encuesta-ejercicio-aire', 'description': [{'value': 'Encuesta de satisfacción de personas usuarias del Programa de Ejercicio al Aire Libre .    La finalidad de esta encuesta es conocer el grado de satisfacción de las personas usuarias con el Programa de Ejercicio al Aire Libre, así como recibir sus sugerencias, con el fin de establecer un plan de mejora.', '_lang': 'es'}], 'identifier': 'https://datos.madrid.es/egob/catalogo/300422-0-encuesta-ejercicio-aire', 'issued': '2020-03-02T12:52:51', 'modified': '2020-03-02T12:53:28', 'publisher': 'http://datos.gob.es/recurso/sector-publico/org/Organismo/L01280796', 'theme': 'http://datos.gob.es/kos/sector-publico/sector/sociedad-bienestar', 'title': 'Estudio de satisfacción con el Programa de Ejercicio al Aire Libre', 'distribution': [{'title': '2017', 'accessURL': 'https://datos.madrid.es/egob/catalogo/300422-0-encuesta-ejercicio-aire.xlsx', 'byteSize': 142336, 'format': {'type': 'http://purl.org/dc/terms/IMT', 'value': 'application/vnd.ms-excel'}, 'type': 'http://www.w3.org/ns/dcat#Distribution'}], 'type': 'http://www.w3.org/ns/dcat#Dataset'}, {'_about': 'https://datos.madrid.es/egob/catalogo/300382-0-inspecciones-salud-publica', 'description': [{'value': 'Las inspecciones de los establecimientos con incidencia en la salud pública, tienen por objeto garantizar la salud de sus usuarios/as y el cumplimiento de la legislación que en cada caso les sea de aplicación.   Las actuaciones inspectoras pueden ser programadas y no programadas. Las primeras se realizan de acuerdo a los diferentes programas de actuación que, con carácter anual, aprueba el Ayuntamiento de Madrid.   Las inspecciones son realizadas, de forma coordinada, por los servicios de inspección de los 21 Distritos y de Madrid Salud.   Los establecimientos inspeccionados corresponden a las actividades que se establecen en los programas de actuación anuales, y que son:     Programa de control de establecimientos de estética y gimnasios. Incluye las actividades de: centros de tatuaje, piercing y micropigmentación, centros de bronceado, peluquerías, institutos de belleza, centros de estética, centros de fotodepilación y gimnasios.   Programa de control de centros infantiles. Incluye las actividades de: escuelas infantiles de primer ciclo, centros de cuidado infantil y centros recreo y celebración de fiestas infantiles.   Programa de control de instalaciones de aguas recreativas. Incluye las actividades de: piscinas, tanto de titularidad pública como privada, piscinas de comunidades de vecinos y balnearios urbanos. Las instalaciones pueden ser de temporada o climatizadas. Los balnearios y spas urbanos son instalaciones con vasos de hidromasaje con recirculación de agua y con chorros de aire y agua.', '_lang': 'es'}], 'identifier': 'https://datos.madrid.es/egob/catalogo/300382-0-inspecciones-salud-publica', 'issued': '2019-08-20T13:04:22', 'modified': '2021-05-24T12:14:44', 'publisher': 'http://datos.gob.es/recurso/sector-publico/org/Organismo/L01280796', 'theme': 'http://datos.gob.es/kos/sector-publico/sector/salud', 'title': 'Madrid Salud. Inspecciones en establecimientos con incidencia en la salud pública', 'distribution': [{'title': '2021', 'accessURL': 'https://datos.madrid.es/egob/catalogo/300382-9-inspecciones-salud-publica.csv', 'byteSize': 144384, 'format': {'type': 'http://purl.org/dc/terms/IMT', 'value': 'text/csv'}, 'type': 'http://www.w3.org/ns/dcat#Distribution'}, {'title': '2021', 'accessURL': 'https://datos.madrid.es/egob/catalogo/300382-10-inspecciones-salud-publica.xlsx', 'byteSize': 51200, 'format': {'type': 'http://purl.org/dc/terms/IMT', 'value': 'application/vnd.ms-excel'}, 'type': 'http://www.w3.org/ns/dcat#Distribution'}, {'title': '2020', 'accessURL': 'https://datos.madrid.es/egob/catalogo/300382-7-inspecciones-salud-publica.csv', 'byteSize': 508928, 'format': {'type': 'http://purl.org/dc/terms/IMT', 'value': 'text/csv'}, 'type': 'http://www.w3.org/ns/dcat#Distribution'}, {'title': '2020', 'accessURL': 'https://datos.madrid.es/egob/catalogo/300382-8-inspecciones-salud-publica.xlsx', 'byteSize': 147456, 'format': {'type': 'http://purl.org/dc/terms/IMT', 'value': 'application/vnd.ms-excel'}, 'type': 'http://www.w3.org/ns/dcat#Distribution'}, {'title': '2019', 'accessURL': 'https://datos.madrid.es/egob/catalogo/300382-0-inspecciones-salud-publica.csv', 'byteSize': 633856, 'format': {'type': 'http://purl.org/dc/terms/IMT', 'value': 'text/csv'}, 'type': 'http://www.w3.org/ns/dcat#Distribution'}, {'title': '2019', 'accessURL': 'https://datos.madrid.es/egob/catalogo/300382-6-inspecciones-salud-publica.xlsx', 'byteSize': 183296, 'format': {'type': 'http://purl.org/dc/terms/IMT', 'value': 'application/vnd.ms-excel'}, 'type': 'http://www.w3.org/ns/dcat#Distribution'}, {'title': '2018', 'accessURL': 'https://datos.madrid.es/egob/catalogo/300382-2-inspecciones-salud-publica.csv', 'byteSize': 521216, 'format': {'type': 'http://purl.org/dc/terms/IMT', 'value': 'text/csv'}, 'type': 'http://www.w3.org/ns/dcat#Distribution'}, {'title': '2018', 'accessURL': 'https://datos.madrid.es/egob/catalogo/300382-3-inspecciones-salud-publica.xlsx', 'byteSize': 158720, 'format': {'type': 'http://purl.org/dc/terms/IMT', 'value': 'application/vnd.ms-excel'}, 'type': 'http://www.w3.org/ns/dcat#Distribution'}, {'title': '2017', 'accessURL': 'https://datos.madrid.es/egob/catalogo/300382-4-inspecciones-salud-publica.csv', 'byteSize': 428032, 'format': {'type': 'http://purl.org/dc/terms/IMT', 'value': 'text/csv'}, 'type': 'http://www.w3.org/ns/dcat#Distribution'}, {'title': '2017', 'accessURL': 'https://datos.madrid.es/egob/catalogo/300382-5-inspecciones-salud-publica.xlsx', 'byteSize': 134144, 'format': {'type': 'http://purl.org/dc/terms/IMT', 'value': 'application/vnd.ms-excel'}, 'type': 'http://www.w3.org/ns/dcat#Distribution'}], 'type': 'http://www.w3.org/ns/dcat#Dataset'}, {'_about': 'https://datos.madrid.es/egob/catalogo/208862-0-ocio_salas', 'description': [{'value': 'Relación de salas de espectáculos artísticos en la ciudad de Madrid. Se incluyen tanto las de titularidad pública como las de titularidad privada.   Se incluyen salas de proyección cinematográfica, filmotecas, salas de teatro, salas de concierto y auditorios, tanto al aire libre como cubiertos.   La información proporcionada es la existente en  http://www.madrid.es/', '_lang': 'es'}], 'identifier': 'https://datos.madrid.es/egob/catalogo/208862-0-ocio_salas', 'issued': '2014-09-26T00:00:00', 'modified': '2021-07-06T20:09:50', 'publisher': 'http://datos.gob.es/recurso/sector-publico/org/Organismo/L01280796', 'theme': 'http://datos.gob.es/kos/sector-publico/sector/cultura-ocio', 'title': 'Salas de espectáculos artísticos: teatros, cines, filmotecas, auditorios y salas de conciertos', 'distribution': [{'title': 'DS Teatros', 'accessURL': 'https://datos.madrid.es/egob/catalogo/208862-7650046-ocio_salas.csv', 'format': {'type': 'http://purl.org/dc/terms/IMT', 'value': 'text/csv'}, 'type': 'http://www.w3.org/ns/dcat#Distribution'}, {'title': 'DS Teatros', 'accessURL': 'https://datos.madrid.es/egob/catalogo/208862-7650046-ocio_salas.geo', 'format': {'type': 'http://purl.org/dc/terms/IMT', 'value': 'application/rss+xml'}, 'type': 'http://www.w3.org/ns/dcat#Distribution'}, {'title': 'DS Teatros', 'accessURL': 'https://datos.madrid.es/egob/catalogo/208862-7650046-ocio_salas.json', 'format': {'type': 'http://purl.org/dc/terms/IMT', 'value': 'application/json'}, 'type': 'http://www.w3.org/ns/dcat#Distribution'}, {'title': 'DS Teatros', 'accessURL': 'https://datos.madrid.es/egob/catalogo/208862-7650046-ocio_salas.rdf', 'format': {'type': 'http://purl.org/dc/terms/IMT', 'value': 'application/rdf+xml'}, 'type': 'http://www.w3.org/ns/dcat#Distribution'}, {'title': 'DS Teatros', 'accessURL': 'https://datos.madrid.es/egob/catalogo/208862-7650046-ocio_salas.xml', 'format': {'type': 'http://purl.org/dc/terms/IMT', 'value': 'application/xml'}, 'type': 'http://www.w3.org/ns/dcat#Distribution'}, {'title': 'DS Cines y Filmotecas', 'accessURL': 'https://datos.madrid.es/egob/catalogo/208862-7650164-ocio_salas.csv', 'format': {'type': 'http://purl.org/dc/terms/IMT', 'value': 'text/csv'}, 'type': 'http://www.w3.org/ns/dcat#Distribution'}, {'title': 'DS Cines y Filmotecas', 'accessURL': 'https://datos.madrid.es/egob/catalogo/208862-7650164-ocio_salas.geo', 'format': {'type': 'http://purl.org/dc/terms/IMT', 'value': 'application/rss+xml'}, 'type': 'http://www.w3.org/ns/dcat#Distribution'}, {'title': 'DS Cines y Filmotecas', 'accessURL': 'https://datos.madrid.es/egob/catalogo/208862-7650164-ocio_salas.json', 'format': {'type': 'http://purl.org/dc/terms/IMT', 'value': 'application/json'}, 'type': 'http://www.w3.org/ns/dcat#Distribution'}, {'title': 'DS Cines y Filmotecas', 'accessURL': 'https://datos.madrid.es/egob/catalogo/208862-7650164-ocio_salas.rdf', 'format': {'type': 'http://purl.org/dc/terms/IMT', 'value': 'application/rdf+xml'}, 'type': 'http://www.w3.org/ns/dcat#Distribution'}, {'title': 'DS Cines y Filmotecas', 'accessURL': 'https://datos.madrid.es/egob/catalogo/208862-7650164-ocio_salas.xml', 'format': {'type': 'http://purl.org/dc/terms/IMT', 'value': 'application/xml'}, 'type': 'http://www.w3.org/ns/dcat#Distribution'}, {'title': 'DS Auditorios y Salas de Conciertos', 'accessURL': 'https://datos.madrid.es/egob/catalogo/208862-7650180-ocio_salas.csv', 'format': {'type': 'http://purl.org/dc/terms/IMT', 'value': 'text/csv'}, 'type': 'http://www.w3.org/ns/dcat#Distribution'}, {'title': 'DS Auditorios y Salas de Conciertos', 'accessURL': 'https://datos.madrid.es/egob/catalogo/208862-7650180-ocio_salas.geo', 'format': {'type': 'http://purl.org/dc/terms/IMT', 'value': 'application/rss+xml'}, 'type': 'http://www.w3.org/ns/dcat#Distribution'}, {'title': 'DS Auditorios y Salas de Conciertos', 'accessURL': 'https://datos.madrid.es/egob/catalogo/208862-7650180-ocio_salas.json', 'format': {'type': 'http://purl.org/dc/terms/IMT', 'value': 'application/json'}, 'type': 'http://www.w3.org/ns/dcat#Distribution'}, {'title': 'DS Auditorios y Salas de Conciertos', 'accessURL': 'https://datos.madrid.es/egob/catalogo/208862-7650180-ocio_salas.rdf', 'format': {'type': 'http://purl.org/dc/terms/IMT', 'value': 'application/rdf+xml'}, 'type': 'http://www.w3.org/ns/dcat#Distribution'}, {'title': 'DS Auditorios y Salas de Conciertos', 'accessURL': 'https://datos.madrid.es/egob/catalogo/208862-7650180-ocio_salas.xml', 'format': {'type': 'http://purl.org/dc/terms/IMT', 'value': 'application/xml'}, 'type': 'http://www.w3.org/ns/dcat#Distribution'}, {'title': 'Consulta el API de datos.madrid.es', 'accessURL': 'https://datos.madrid.es/egob/catalogo/api', 'format': {'type': 'http://purl.org/dc/terms/IMT', 'value': 'text/html'}, 'type': 'http://www.w3.org/ns/dcat#Distribution'}], 'type': 'http://www.w3.org/ns/dcat#Dataset'}, {'_about': 'https://datos.madrid.es/egob/catalogo/300446-0-tenis-mesa', 'description': [{'value': 'Datos de unidades de tenis de mesa al aire disponibles en las instalaciones y centros deportivos municipales.   La información que se ofrece en este conjunto de datos se ha extraido del  Censo de Equipamientos Deportivos Municipales.    En este portal también están disponibles otros  conjuntos de datos relacionados con deporte .', '_lang': 'es'}], 'identifier': 'https://datos.madrid.es/egob/catalogo/300446-0-tenis-mesa', 'issued': '2021-04-15T08:11:07', 'modified': '2021-04-15T08:12:09', 'publisher': 'http://datos.gob.es/recurso/sector-publico/org/Organismo/L01280796', 'theme': 'http://datos.gob.es/kos/sector-publico/sector/deporte', 'title': 'Unidades deportivas de tenis de mesa al aire libre', 'distribution': [{'title': '2020', 'accessURL': 'https://datos.madrid.es/egob/catalogo/300446-2-tenis-mesa.csv', 'byteSize': 5120, 'format': {'type': 'http://purl.org/dc/terms/IMT', 'value': 'text/csv'}, 'type': 'http://www.w3.org/ns/dcat#Distribution'}, {'title': '2020', 'accessURL': 'https://datos.madrid.es/egob/catalogo/300446-3-tenis-mesa.xlsx', 'byteSize': 18432, 'format': {'type': 'http://purl.org/dc/terms/IMT', 'value': 'application/vnd.ms-excel'}, 'type': 'http://www.w3.org/ns/dcat#Distribution'}, {'title': '2019', 'accessURL': 'https://datos.madrid.es/egob/catalogo/300446-0-tenis-mesa.csv', 'byteSize': 5120, 'format': {'type': 'http://purl.org/dc/terms/IMT', 'value': 'text/csv'}, 'type': 'http://www.w3.org/ns/dcat#Distribution'}, {'title': '2019', 'accessURL': 'https://datos.madrid.es/egob/catalogo/300446-1-tenis-mesa.xlsx', 'byteSize': 13312, 'format': {'type': 'http://purl.org/dc/terms/IMT', 'value': 'application/vnd.ms-excel'}, 'type': 'http://www.w3.org/ns/dcat#Distribution'}], 'type': 'http://www.w3.org/ns/dcat#Dataset'}], 'itemsPerPage': 50, 'page': 0, 'startIndex': 1, 'total': 16, 'type': ['http://purl.org/linked-data/api/vocab#ListEndpoint', 'http://purl.org/linked-data/api/vocab#Page']}}\n"
     ]
    }
   ],
   "source": [
    "print(response.json())"
   ]
  },
  {
   "cell_type": "code",
   "execution_count": 167,
   "metadata": {},
   "outputs": [],
   "source": [
    "urlcomp = 'https://datos.madrid.es/egob/catalogo/201410-10306612-calidad-aire-diario.csv'\n",
    "headers = {'authorization': \"Basic API Key Ommitted\", 'accept': \"application/json\", 'accept': \"text/csv\"}"
   ]
  },
  {
   "cell_type": "code",
   "execution_count": 181,
   "metadata": {},
   "outputs": [],
   "source": [
    "rcomp = requests.get(urlcomp, headers=headers)\n",
    "data_21 = rcomp.text"
   ]
  },
  {
   "cell_type": "code",
   "execution_count": 183,
   "metadata": {},
   "outputs": [
    {
     "data": {
      "text/html": [
       "<div>\n",
       "<style scoped>\n",
       "    .dataframe tbody tr th:only-of-type {\n",
       "        vertical-align: middle;\n",
       "    }\n",
       "\n",
       "    .dataframe tbody tr th {\n",
       "        vertical-align: top;\n",
       "    }\n",
       "\n",
       "    .dataframe thead th {\n",
       "        text-align: right;\n",
       "    }\n",
       "</style>\n",
       "<table border=\"1\" class=\"dataframe\">\n",
       "  <thead>\n",
       "    <tr style=\"text-align: right;\">\n",
       "      <th></th>\n",
       "      <th>0</th>\n",
       "      <th>1</th>\n",
       "      <th>2</th>\n",
       "      <th>3</th>\n",
       "      <th>4</th>\n",
       "      <th>5</th>\n",
       "      <th>6</th>\n",
       "      <th>7</th>\n",
       "      <th>8</th>\n",
       "      <th>9</th>\n",
       "      <th>...</th>\n",
       "      <th>59</th>\n",
       "      <th>60</th>\n",
       "      <th>61</th>\n",
       "      <th>62</th>\n",
       "      <th>63</th>\n",
       "      <th>64</th>\n",
       "      <th>65</th>\n",
       "      <th>66</th>\n",
       "      <th>67</th>\n",
       "      <th>68</th>\n",
       "    </tr>\n",
       "  </thead>\n",
       "  <tbody>\n",
       "    <tr>\n",
       "      <th>0</th>\n",
       "      <td>PROVINCIA</td>\n",
       "      <td>MUNICIPIO</td>\n",
       "      <td>ESTACION</td>\n",
       "      <td>MAGNITUD</td>\n",
       "      <td>PUNTO_MUESTREO</td>\n",
       "      <td>ANO</td>\n",
       "      <td>MES</td>\n",
       "      <td>D01</td>\n",
       "      <td>V01</td>\n",
       "      <td>D02</td>\n",
       "      <td>...</td>\n",
       "      <td>D27</td>\n",
       "      <td>V27</td>\n",
       "      <td>D28</td>\n",
       "      <td>V28</td>\n",
       "      <td>D29</td>\n",
       "      <td>V29</td>\n",
       "      <td>D30</td>\n",
       "      <td>V30</td>\n",
       "      <td>D31</td>\n",
       "      <td>V31</td>\n",
       "    </tr>\n",
       "    <tr>\n",
       "      <th>1</th>\n",
       "      <td>28</td>\n",
       "      <td>079</td>\n",
       "      <td>4</td>\n",
       "      <td>1</td>\n",
       "      <td>28079004_1_38</td>\n",
       "      <td>2021</td>\n",
       "      <td>01</td>\n",
       "      <td>00005</td>\n",
       "      <td>V</td>\n",
       "      <td>00005</td>\n",
       "      <td>...</td>\n",
       "      <td>00003</td>\n",
       "      <td>N</td>\n",
       "      <td>00000</td>\n",
       "      <td>N</td>\n",
       "      <td>00000</td>\n",
       "      <td>N</td>\n",
       "      <td>00000</td>\n",
       "      <td>N</td>\n",
       "      <td>00000</td>\n",
       "      <td>N</td>\n",
       "    </tr>\n",
       "    <tr>\n",
       "      <th>2</th>\n",
       "      <td>28</td>\n",
       "      <td>079</td>\n",
       "      <td>4</td>\n",
       "      <td>1</td>\n",
       "      <td>28079004_1_38</td>\n",
       "      <td>2021</td>\n",
       "      <td>02</td>\n",
       "      <td>00010</td>\n",
       "      <td>N</td>\n",
       "      <td>00011</td>\n",
       "      <td>...</td>\n",
       "      <td>00009</td>\n",
       "      <td>V</td>\n",
       "      <td>00009</td>\n",
       "      <td>V</td>\n",
       "      <td>00000</td>\n",
       "      <td>N</td>\n",
       "      <td>00000</td>\n",
       "      <td>N</td>\n",
       "      <td>00000</td>\n",
       "      <td>N</td>\n",
       "    </tr>\n",
       "    <tr>\n",
       "      <th>3</th>\n",
       "      <td>28</td>\n",
       "      <td>079</td>\n",
       "      <td>4</td>\n",
       "      <td>1</td>\n",
       "      <td>28079004_1_38</td>\n",
       "      <td>2021</td>\n",
       "      <td>03</td>\n",
       "      <td>00010</td>\n",
       "      <td>V</td>\n",
       "      <td>00010</td>\n",
       "      <td>...</td>\n",
       "      <td>00009</td>\n",
       "      <td>V</td>\n",
       "      <td>00009</td>\n",
       "      <td>V</td>\n",
       "      <td>00010</td>\n",
       "      <td>V</td>\n",
       "      <td>00010</td>\n",
       "      <td>V</td>\n",
       "      <td>00010</td>\n",
       "      <td>V</td>\n",
       "    </tr>\n",
       "    <tr>\n",
       "      <th>4</th>\n",
       "      <td>28</td>\n",
       "      <td>079</td>\n",
       "      <td>4</td>\n",
       "      <td>1</td>\n",
       "      <td>28079004_1_38</td>\n",
       "      <td>2021</td>\n",
       "      <td>04</td>\n",
       "      <td>00009</td>\n",
       "      <td>V</td>\n",
       "      <td>00010</td>\n",
       "      <td>...</td>\n",
       "      <td>00012</td>\n",
       "      <td>V</td>\n",
       "      <td>00012</td>\n",
       "      <td>V</td>\n",
       "      <td>00011</td>\n",
       "      <td>V</td>\n",
       "      <td>00011</td>\n",
       "      <td>V</td>\n",
       "      <td>00000</td>\n",
       "      <td>N</td>\n",
       "    </tr>\n",
       "  </tbody>\n",
       "</table>\n",
       "<p>5 rows × 69 columns</p>\n",
       "</div>"
      ],
      "text/plain": [
       "          0          1         2         3               4     5    6      7   \\\n",
       "0  PROVINCIA  MUNICIPIO  ESTACION  MAGNITUD  PUNTO_MUESTREO   ANO  MES    D01   \n",
       "1         28        079         4         1   28079004_1_38  2021   01  00005   \n",
       "2         28        079         4         1   28079004_1_38  2021   02  00010   \n",
       "3         28        079         4         1   28079004_1_38  2021   03  00010   \n",
       "4         28        079         4         1   28079004_1_38  2021   04  00009   \n",
       "\n",
       "    8      9   ...     59   60     61   62     63   64     65   66     67   68  \n",
       "0  V01    D02  ...    D27  V27    D28  V28    D29  V29    D30  V30    D31  V31  \n",
       "1    V  00005  ...  00003    N  00000    N  00000    N  00000    N  00000    N  \n",
       "2    N  00011  ...  00009    V  00009    V  00000    N  00000    N  00000    N  \n",
       "3    V  00010  ...  00009    V  00009    V  00010    V  00010    V  00010    V  \n",
       "4    V  00010  ...  00012    V  00012    V  00011    V  00011    V  00000    N  \n",
       "\n",
       "[5 rows x 69 columns]"
      ]
     },
     "execution_count": 183,
     "metadata": {},
     "output_type": "execute_result"
    }
   ],
   "source": [
    "AirQ_21_Mad = pd.DataFrame([x.split(';') for x in data_21.split('\\n')])\n",
    "AirQ_21_Mad.head()"
   ]
  },
  {
   "cell_type": "code",
   "execution_count": 189,
   "metadata": {},
   "outputs": [
    {
     "data": {
      "text/html": [
       "<div>\n",
       "<style scoped>\n",
       "    .dataframe tbody tr th:only-of-type {\n",
       "        vertical-align: middle;\n",
       "    }\n",
       "\n",
       "    .dataframe tbody tr th {\n",
       "        vertical-align: top;\n",
       "    }\n",
       "\n",
       "    .dataframe thead th {\n",
       "        text-align: right;\n",
       "    }\n",
       "</style>\n",
       "<table border=\"1\" class=\"dataframe\">\n",
       "  <thead>\n",
       "    <tr style=\"text-align: right;\">\n",
       "      <th></th>\n",
       "      <th>PROVINCIA</th>\n",
       "      <th>MUNICIPIO</th>\n",
       "      <th>ESTACION</th>\n",
       "      <th>MAGNITUD</th>\n",
       "      <th>PUNTO_MUESTREO</th>\n",
       "      <th>ANO</th>\n",
       "      <th>MES</th>\n",
       "      <th>D01</th>\n",
       "      <th>V01</th>\n",
       "      <th>D02</th>\n",
       "      <th>...</th>\n",
       "      <th>D27</th>\n",
       "      <th>V27</th>\n",
       "      <th>D28</th>\n",
       "      <th>V28</th>\n",
       "      <th>D29</th>\n",
       "      <th>V29</th>\n",
       "      <th>D30</th>\n",
       "      <th>V30</th>\n",
       "      <th>D31</th>\n",
       "      <th>V31</th>\n",
       "    </tr>\n",
       "  </thead>\n",
       "  <tbody>\n",
       "    <tr>\n",
       "      <th>1</th>\n",
       "      <td>28</td>\n",
       "      <td>079</td>\n",
       "      <td>4</td>\n",
       "      <td>1</td>\n",
       "      <td>28079004_1_38</td>\n",
       "      <td>2021</td>\n",
       "      <td>01</td>\n",
       "      <td>00005</td>\n",
       "      <td>V</td>\n",
       "      <td>00005</td>\n",
       "      <td>...</td>\n",
       "      <td>00003</td>\n",
       "      <td>N</td>\n",
       "      <td>00000</td>\n",
       "      <td>N</td>\n",
       "      <td>00000</td>\n",
       "      <td>N</td>\n",
       "      <td>00000</td>\n",
       "      <td>N</td>\n",
       "      <td>00000</td>\n",
       "      <td>N</td>\n",
       "    </tr>\n",
       "    <tr>\n",
       "      <th>2</th>\n",
       "      <td>28</td>\n",
       "      <td>079</td>\n",
       "      <td>4</td>\n",
       "      <td>1</td>\n",
       "      <td>28079004_1_38</td>\n",
       "      <td>2021</td>\n",
       "      <td>02</td>\n",
       "      <td>00010</td>\n",
       "      <td>N</td>\n",
       "      <td>00011</td>\n",
       "      <td>...</td>\n",
       "      <td>00009</td>\n",
       "      <td>V</td>\n",
       "      <td>00009</td>\n",
       "      <td>V</td>\n",
       "      <td>00000</td>\n",
       "      <td>N</td>\n",
       "      <td>00000</td>\n",
       "      <td>N</td>\n",
       "      <td>00000</td>\n",
       "      <td>N</td>\n",
       "    </tr>\n",
       "    <tr>\n",
       "      <th>3</th>\n",
       "      <td>28</td>\n",
       "      <td>079</td>\n",
       "      <td>4</td>\n",
       "      <td>1</td>\n",
       "      <td>28079004_1_38</td>\n",
       "      <td>2021</td>\n",
       "      <td>03</td>\n",
       "      <td>00010</td>\n",
       "      <td>V</td>\n",
       "      <td>00010</td>\n",
       "      <td>...</td>\n",
       "      <td>00009</td>\n",
       "      <td>V</td>\n",
       "      <td>00009</td>\n",
       "      <td>V</td>\n",
       "      <td>00010</td>\n",
       "      <td>V</td>\n",
       "      <td>00010</td>\n",
       "      <td>V</td>\n",
       "      <td>00010</td>\n",
       "      <td>V</td>\n",
       "    </tr>\n",
       "    <tr>\n",
       "      <th>4</th>\n",
       "      <td>28</td>\n",
       "      <td>079</td>\n",
       "      <td>4</td>\n",
       "      <td>1</td>\n",
       "      <td>28079004_1_38</td>\n",
       "      <td>2021</td>\n",
       "      <td>04</td>\n",
       "      <td>00009</td>\n",
       "      <td>V</td>\n",
       "      <td>00010</td>\n",
       "      <td>...</td>\n",
       "      <td>00012</td>\n",
       "      <td>V</td>\n",
       "      <td>00012</td>\n",
       "      <td>V</td>\n",
       "      <td>00011</td>\n",
       "      <td>V</td>\n",
       "      <td>00011</td>\n",
       "      <td>V</td>\n",
       "      <td>00000</td>\n",
       "      <td>N</td>\n",
       "    </tr>\n",
       "    <tr>\n",
       "      <th>5</th>\n",
       "      <td>28</td>\n",
       "      <td>079</td>\n",
       "      <td>4</td>\n",
       "      <td>1</td>\n",
       "      <td>28079004_1_38</td>\n",
       "      <td>2021</td>\n",
       "      <td>05</td>\n",
       "      <td>00011</td>\n",
       "      <td>V</td>\n",
       "      <td>00011</td>\n",
       "      <td>...</td>\n",
       "      <td>00010</td>\n",
       "      <td>V</td>\n",
       "      <td>00009</td>\n",
       "      <td>V</td>\n",
       "      <td>00009</td>\n",
       "      <td>V</td>\n",
       "      <td>00009</td>\n",
       "      <td>V</td>\n",
       "      <td>00009</td>\n",
       "      <td>V</td>\n",
       "    </tr>\n",
       "  </tbody>\n",
       "</table>\n",
       "<p>5 rows × 69 columns</p>\n",
       "</div>"
      ],
      "text/plain": [
       "0 PROVINCIA MUNICIPIO ESTACION MAGNITUD PUNTO_MUESTREO   ANO MES    D01 V01  \\\n",
       "1        28       079        4        1  28079004_1_38  2021  01  00005   V   \n",
       "2        28       079        4        1  28079004_1_38  2021  02  00010   N   \n",
       "3        28       079        4        1  28079004_1_38  2021  03  00010   V   \n",
       "4        28       079        4        1  28079004_1_38  2021  04  00009   V   \n",
       "5        28       079        4        1  28079004_1_38  2021  05  00011   V   \n",
       "\n",
       "0    D02  ...    D27 V27    D28 V28    D29 V29    D30 V30    D31 V31  \n",
       "1  00005  ...  00003   N  00000   N  00000   N  00000   N  00000   N  \n",
       "2  00011  ...  00009   V  00009   V  00000   N  00000   N  00000   N  \n",
       "3  00010  ...  00009   V  00009   V  00010   V  00010   V  00010   V  \n",
       "4  00010  ...  00012   V  00012   V  00011   V  00011   V  00000   N  \n",
       "5  00011  ...  00010   V  00009   V  00009   V  00009   V  00009   V  \n",
       "\n",
       "[5 rows x 69 columns]"
      ]
     },
     "execution_count": 189,
     "metadata": {},
     "output_type": "execute_result"
    }
   ],
   "source": [
    "new_header = AirQ_21_Mad.iloc[0]\n",
    "AirQ_21_Mad = AirQ_21_Mad[1:]\n",
    "AirQ_21_Mad.columns = new_header\n",
    "AirQ_21_Mad.head()"
   ]
  },
  {
   "cell_type": "code",
   "execution_count": 174,
   "metadata": {},
   "outputs": [
    {
     "name": "stdout",
     "output_type": "stream",
     "text": [
      "<class 'pandas.core.frame.DataFrame'>\n",
      "RangeIndex: 827 entries, 1 to 827\n",
      "Data columns (total 69 columns):\n",
      " #   Column          Non-Null Count  Dtype \n",
      "---  ------          --------------  ----- \n",
      " 0   PROVINCIA       827 non-null    object\n",
      " 1   MUNICIPIO       826 non-null    object\n",
      " 2   ESTACION        826 non-null    object\n",
      " 3   MAGNITUD        826 non-null    object\n",
      " 4   PUNTO_MUESTREO  826 non-null    object\n",
      " 5   ANO             826 non-null    object\n",
      " 6   MES             826 non-null    object\n",
      " 7   D01             826 non-null    object\n",
      " 8   V01             826 non-null    object\n",
      " 9   D02             826 non-null    object\n",
      " 10  V02             826 non-null    object\n",
      " 11  D03             826 non-null    object\n",
      " 12  V03             826 non-null    object\n",
      " 13  D04             826 non-null    object\n",
      " 14  V04             826 non-null    object\n",
      " 15  D05             826 non-null    object\n",
      " 16  V05             826 non-null    object\n",
      " 17  D06             826 non-null    object\n",
      " 18  V06             826 non-null    object\n",
      " 19  D07             826 non-null    object\n",
      " 20  V07             826 non-null    object\n",
      " 21  D08             826 non-null    object\n",
      " 22  V08             826 non-null    object\n",
      " 23  D09             826 non-null    object\n",
      " 24  V09             826 non-null    object\n",
      " 25  D10             826 non-null    object\n",
      " 26  V10             826 non-null    object\n",
      " 27  D11             826 non-null    object\n",
      " 28  V11             826 non-null    object\n",
      " 29  D12             826 non-null    object\n",
      " 30  V12             826 non-null    object\n",
      " 31  D13             826 non-null    object\n",
      " 32  V13             826 non-null    object\n",
      " 33  D14             826 non-null    object\n",
      " 34  V14             826 non-null    object\n",
      " 35  D15             826 non-null    object\n",
      " 36  V15             826 non-null    object\n",
      " 37  D16             826 non-null    object\n",
      " 38  V16             826 non-null    object\n",
      " 39  D17             826 non-null    object\n",
      " 40  V17             826 non-null    object\n",
      " 41  D18             826 non-null    object\n",
      " 42  V18             826 non-null    object\n",
      " 43  D19             826 non-null    object\n",
      " 44  V19             826 non-null    object\n",
      " 45  D20             826 non-null    object\n",
      " 46  V20             826 non-null    object\n",
      " 47  D21             826 non-null    object\n",
      " 48  V21             826 non-null    object\n",
      " 49  D22             826 non-null    object\n",
      " 50  V22             826 non-null    object\n",
      " 51  D23             826 non-null    object\n",
      " 52  V23             826 non-null    object\n",
      " 53  D24             826 non-null    object\n",
      " 54  V24             826 non-null    object\n",
      " 55  D25             826 non-null    object\n",
      " 56  V25             826 non-null    object\n",
      " 57  D26             826 non-null    object\n",
      " 58  V26             826 non-null    object\n",
      " 59  D27             826 non-null    object\n",
      " 60  V27             826 non-null    object\n",
      " 61  D28             826 non-null    object\n",
      " 62  V28             826 non-null    object\n",
      " 63  D29             826 non-null    object\n",
      " 64  V29             826 non-null    object\n",
      " 65  D30             826 non-null    object\n",
      " 66  V30             826 non-null    object\n",
      " 67  D31             826 non-null    object\n",
      " 68  V31             826 non-null    object\n",
      "dtypes: object(69)\n",
      "memory usage: 445.9+ KB\n"
     ]
    }
   ],
   "source": [
    "AirQ_21_Mad.info()"
   ]
  },
  {
   "cell_type": "code",
   "execution_count": 184,
   "metadata": {
    "scrolled": true
   },
   "outputs": [],
   "source": [
    "urlcomp = 'https://datos.madrid.es/egob/catalogo/201410-10306609-calidad-aire-diario.csv'\n",
    "headers = {'authorization': \"Basic API Key Ommitted\", 'accept': \"application/json\", 'accept': \"text/csv\"}"
   ]
  },
  {
   "cell_type": "code",
   "execution_count": 185,
   "metadata": {},
   "outputs": [],
   "source": [
    "rcomp = requests.get(urlcomp, headers=headers)\n",
    "data_20 = rcomp.text"
   ]
  },
  {
   "cell_type": "code",
   "execution_count": 191,
   "metadata": {},
   "outputs": [
    {
     "data": {
      "text/html": [
       "<div>\n",
       "<style scoped>\n",
       "    .dataframe tbody tr th:only-of-type {\n",
       "        vertical-align: middle;\n",
       "    }\n",
       "\n",
       "    .dataframe tbody tr th {\n",
       "        vertical-align: top;\n",
       "    }\n",
       "\n",
       "    .dataframe thead th {\n",
       "        text-align: right;\n",
       "    }\n",
       "</style>\n",
       "<table border=\"1\" class=\"dataframe\">\n",
       "  <thead>\n",
       "    <tr style=\"text-align: right;\">\n",
       "      <th></th>\n",
       "      <th>0</th>\n",
       "      <th>1</th>\n",
       "      <th>2</th>\n",
       "      <th>3</th>\n",
       "      <th>4</th>\n",
       "      <th>5</th>\n",
       "      <th>6</th>\n",
       "      <th>7</th>\n",
       "      <th>8</th>\n",
       "      <th>9</th>\n",
       "      <th>...</th>\n",
       "      <th>59</th>\n",
       "      <th>60</th>\n",
       "      <th>61</th>\n",
       "      <th>62</th>\n",
       "      <th>63</th>\n",
       "      <th>64</th>\n",
       "      <th>65</th>\n",
       "      <th>66</th>\n",
       "      <th>67</th>\n",
       "      <th>68</th>\n",
       "    </tr>\n",
       "  </thead>\n",
       "  <tbody>\n",
       "    <tr>\n",
       "      <th>0</th>\n",
       "      <td>PROVINCIA</td>\n",
       "      <td>MUNICIPIO</td>\n",
       "      <td>ESTACION</td>\n",
       "      <td>MAGNITUD</td>\n",
       "      <td>PUNTO_MUESTREO</td>\n",
       "      <td>ANO</td>\n",
       "      <td>MES</td>\n",
       "      <td>D01</td>\n",
       "      <td>V01</td>\n",
       "      <td>D02</td>\n",
       "      <td>...</td>\n",
       "      <td>D27</td>\n",
       "      <td>V27</td>\n",
       "      <td>D28</td>\n",
       "      <td>V28</td>\n",
       "      <td>D29</td>\n",
       "      <td>V29</td>\n",
       "      <td>D30</td>\n",
       "      <td>V30</td>\n",
       "      <td>D31</td>\n",
       "      <td>V31</td>\n",
       "    </tr>\n",
       "    <tr>\n",
       "      <th>1</th>\n",
       "      <td>28</td>\n",
       "      <td>079</td>\n",
       "      <td>4</td>\n",
       "      <td>1</td>\n",
       "      <td>28079004_1_38</td>\n",
       "      <td>2020</td>\n",
       "      <td>01</td>\n",
       "      <td>00009</td>\n",
       "      <td>V</td>\n",
       "      <td>00010</td>\n",
       "      <td>...</td>\n",
       "      <td>00000</td>\n",
       "      <td>N</td>\n",
       "      <td>00000</td>\n",
       "      <td>N</td>\n",
       "      <td>00000</td>\n",
       "      <td>N</td>\n",
       "      <td>00006</td>\n",
       "      <td>N</td>\n",
       "      <td>00007</td>\n",
       "      <td>V</td>\n",
       "    </tr>\n",
       "    <tr>\n",
       "      <th>2</th>\n",
       "      <td>28</td>\n",
       "      <td>079</td>\n",
       "      <td>4</td>\n",
       "      <td>1</td>\n",
       "      <td>28079004_1_38</td>\n",
       "      <td>2020</td>\n",
       "      <td>02</td>\n",
       "      <td>00008</td>\n",
       "      <td>V</td>\n",
       "      <td>00009</td>\n",
       "      <td>...</td>\n",
       "      <td>00009</td>\n",
       "      <td>V</td>\n",
       "      <td>00011</td>\n",
       "      <td>V</td>\n",
       "      <td>00001</td>\n",
       "      <td>N</td>\n",
       "      <td>00000</td>\n",
       "      <td>N</td>\n",
       "      <td>00000</td>\n",
       "      <td>N</td>\n",
       "    </tr>\n",
       "    <tr>\n",
       "      <th>3</th>\n",
       "      <td>28</td>\n",
       "      <td>079</td>\n",
       "      <td>4</td>\n",
       "      <td>1</td>\n",
       "      <td>28079004_1_38</td>\n",
       "      <td>2020</td>\n",
       "      <td>03</td>\n",
       "      <td>00000</td>\n",
       "      <td>N</td>\n",
       "      <td>00003</td>\n",
       "      <td>...</td>\n",
       "      <td>00000</td>\n",
       "      <td>N</td>\n",
       "      <td>00000</td>\n",
       "      <td>N</td>\n",
       "      <td>00000</td>\n",
       "      <td>N</td>\n",
       "      <td>00000</td>\n",
       "      <td>N</td>\n",
       "      <td>00000</td>\n",
       "      <td>N</td>\n",
       "    </tr>\n",
       "    <tr>\n",
       "      <th>4</th>\n",
       "      <td>28</td>\n",
       "      <td>079</td>\n",
       "      <td>4</td>\n",
       "      <td>1</td>\n",
       "      <td>28079004_1_38</td>\n",
       "      <td>2020</td>\n",
       "      <td>04</td>\n",
       "      <td>00000</td>\n",
       "      <td>N</td>\n",
       "      <td>00000</td>\n",
       "      <td>...</td>\n",
       "      <td>00000</td>\n",
       "      <td>N</td>\n",
       "      <td>00000</td>\n",
       "      <td>N</td>\n",
       "      <td>00014</td>\n",
       "      <td>N</td>\n",
       "      <td>00008</td>\n",
       "      <td>V</td>\n",
       "      <td>00000</td>\n",
       "      <td>N</td>\n",
       "    </tr>\n",
       "  </tbody>\n",
       "</table>\n",
       "<p>5 rows × 69 columns</p>\n",
       "</div>"
      ],
      "text/plain": [
       "          0          1         2         3               4     5    6      7   \\\n",
       "0  PROVINCIA  MUNICIPIO  ESTACION  MAGNITUD  PUNTO_MUESTREO   ANO  MES    D01   \n",
       "1         28        079         4         1   28079004_1_38  2020   01  00009   \n",
       "2         28        079         4         1   28079004_1_38  2020   02  00008   \n",
       "3         28        079         4         1   28079004_1_38  2020   03  00000   \n",
       "4         28        079         4         1   28079004_1_38  2020   04  00000   \n",
       "\n",
       "    8      9   ...     59   60     61   62     63   64     65   66     67   68  \n",
       "0  V01    D02  ...    D27  V27    D28  V28    D29  V29    D30  V30    D31  V31  \n",
       "1    V  00010  ...  00000    N  00000    N  00000    N  00006    N  00007    V  \n",
       "2    V  00009  ...  00009    V  00011    V  00001    N  00000    N  00000    N  \n",
       "3    N  00003  ...  00000    N  00000    N  00000    N  00000    N  00000    N  \n",
       "4    N  00000  ...  00000    N  00000    N  00014    N  00008    V  00000    N  \n",
       "\n",
       "[5 rows x 69 columns]"
      ]
     },
     "execution_count": 191,
     "metadata": {},
     "output_type": "execute_result"
    }
   ],
   "source": [
    "AirQ_20_Mad = pd.DataFrame([x.split(';') for x in data_20.split('\\n')])\n",
    "AirQ_20_Mad.head()"
   ]
  },
  {
   "cell_type": "code",
   "execution_count": 192,
   "metadata": {},
   "outputs": [
    {
     "data": {
      "text/html": [
       "<div>\n",
       "<style scoped>\n",
       "    .dataframe tbody tr th:only-of-type {\n",
       "        vertical-align: middle;\n",
       "    }\n",
       "\n",
       "    .dataframe tbody tr th {\n",
       "        vertical-align: top;\n",
       "    }\n",
       "\n",
       "    .dataframe thead th {\n",
       "        text-align: right;\n",
       "    }\n",
       "</style>\n",
       "<table border=\"1\" class=\"dataframe\">\n",
       "  <thead>\n",
       "    <tr style=\"text-align: right;\">\n",
       "      <th></th>\n",
       "      <th>PROVINCIA</th>\n",
       "      <th>MUNICIPIO</th>\n",
       "      <th>ESTACION</th>\n",
       "      <th>MAGNITUD</th>\n",
       "      <th>PUNTO_MUESTREO</th>\n",
       "      <th>ANO</th>\n",
       "      <th>MES</th>\n",
       "      <th>D01</th>\n",
       "      <th>V01</th>\n",
       "      <th>D02</th>\n",
       "      <th>...</th>\n",
       "      <th>D27</th>\n",
       "      <th>V27</th>\n",
       "      <th>D28</th>\n",
       "      <th>V28</th>\n",
       "      <th>D29</th>\n",
       "      <th>V29</th>\n",
       "      <th>D30</th>\n",
       "      <th>V30</th>\n",
       "      <th>D31</th>\n",
       "      <th>V31</th>\n",
       "    </tr>\n",
       "  </thead>\n",
       "  <tbody>\n",
       "    <tr>\n",
       "      <th>1</th>\n",
       "      <td>28</td>\n",
       "      <td>079</td>\n",
       "      <td>4</td>\n",
       "      <td>1</td>\n",
       "      <td>28079004_1_38</td>\n",
       "      <td>2020</td>\n",
       "      <td>01</td>\n",
       "      <td>00009</td>\n",
       "      <td>V</td>\n",
       "      <td>00010</td>\n",
       "      <td>...</td>\n",
       "      <td>00000</td>\n",
       "      <td>N</td>\n",
       "      <td>00000</td>\n",
       "      <td>N</td>\n",
       "      <td>00000</td>\n",
       "      <td>N</td>\n",
       "      <td>00006</td>\n",
       "      <td>N</td>\n",
       "      <td>00007</td>\n",
       "      <td>V</td>\n",
       "    </tr>\n",
       "    <tr>\n",
       "      <th>2</th>\n",
       "      <td>28</td>\n",
       "      <td>079</td>\n",
       "      <td>4</td>\n",
       "      <td>1</td>\n",
       "      <td>28079004_1_38</td>\n",
       "      <td>2020</td>\n",
       "      <td>02</td>\n",
       "      <td>00008</td>\n",
       "      <td>V</td>\n",
       "      <td>00009</td>\n",
       "      <td>...</td>\n",
       "      <td>00009</td>\n",
       "      <td>V</td>\n",
       "      <td>00011</td>\n",
       "      <td>V</td>\n",
       "      <td>00001</td>\n",
       "      <td>N</td>\n",
       "      <td>00000</td>\n",
       "      <td>N</td>\n",
       "      <td>00000</td>\n",
       "      <td>N</td>\n",
       "    </tr>\n",
       "    <tr>\n",
       "      <th>3</th>\n",
       "      <td>28</td>\n",
       "      <td>079</td>\n",
       "      <td>4</td>\n",
       "      <td>1</td>\n",
       "      <td>28079004_1_38</td>\n",
       "      <td>2020</td>\n",
       "      <td>03</td>\n",
       "      <td>00000</td>\n",
       "      <td>N</td>\n",
       "      <td>00003</td>\n",
       "      <td>...</td>\n",
       "      <td>00000</td>\n",
       "      <td>N</td>\n",
       "      <td>00000</td>\n",
       "      <td>N</td>\n",
       "      <td>00000</td>\n",
       "      <td>N</td>\n",
       "      <td>00000</td>\n",
       "      <td>N</td>\n",
       "      <td>00000</td>\n",
       "      <td>N</td>\n",
       "    </tr>\n",
       "    <tr>\n",
       "      <th>4</th>\n",
       "      <td>28</td>\n",
       "      <td>079</td>\n",
       "      <td>4</td>\n",
       "      <td>1</td>\n",
       "      <td>28079004_1_38</td>\n",
       "      <td>2020</td>\n",
       "      <td>04</td>\n",
       "      <td>00000</td>\n",
       "      <td>N</td>\n",
       "      <td>00000</td>\n",
       "      <td>...</td>\n",
       "      <td>00000</td>\n",
       "      <td>N</td>\n",
       "      <td>00000</td>\n",
       "      <td>N</td>\n",
       "      <td>00014</td>\n",
       "      <td>N</td>\n",
       "      <td>00008</td>\n",
       "      <td>V</td>\n",
       "      <td>00000</td>\n",
       "      <td>N</td>\n",
       "    </tr>\n",
       "    <tr>\n",
       "      <th>5</th>\n",
       "      <td>28</td>\n",
       "      <td>079</td>\n",
       "      <td>4</td>\n",
       "      <td>1</td>\n",
       "      <td>28079004_1_38</td>\n",
       "      <td>2020</td>\n",
       "      <td>05</td>\n",
       "      <td>00005</td>\n",
       "      <td>V</td>\n",
       "      <td>00004</td>\n",
       "      <td>...</td>\n",
       "      <td>00004</td>\n",
       "      <td>V</td>\n",
       "      <td>00004</td>\n",
       "      <td>V</td>\n",
       "      <td>00004</td>\n",
       "      <td>V</td>\n",
       "      <td>00004</td>\n",
       "      <td>V</td>\n",
       "      <td>00004</td>\n",
       "      <td>V</td>\n",
       "    </tr>\n",
       "  </tbody>\n",
       "</table>\n",
       "<p>5 rows × 69 columns</p>\n",
       "</div>"
      ],
      "text/plain": [
       "0 PROVINCIA MUNICIPIO ESTACION MAGNITUD PUNTO_MUESTREO   ANO MES    D01 V01  \\\n",
       "1        28       079        4        1  28079004_1_38  2020  01  00009   V   \n",
       "2        28       079        4        1  28079004_1_38  2020  02  00008   V   \n",
       "3        28       079        4        1  28079004_1_38  2020  03  00000   N   \n",
       "4        28       079        4        1  28079004_1_38  2020  04  00000   N   \n",
       "5        28       079        4        1  28079004_1_38  2020  05  00005   V   \n",
       "\n",
       "0    D02  ...    D27 V27    D28 V28    D29 V29    D30 V30    D31 V31  \n",
       "1  00010  ...  00000   N  00000   N  00000   N  00006   N  00007   V  \n",
       "2  00009  ...  00009   V  00011   V  00001   N  00000   N  00000   N  \n",
       "3  00003  ...  00000   N  00000   N  00000   N  00000   N  00000   N  \n",
       "4  00000  ...  00000   N  00000   N  00014   N  00008   V  00000   N  \n",
       "5  00004  ...  00004   V  00004   V  00004   V  00004   V  00004   V  \n",
       "\n",
       "[5 rows x 69 columns]"
      ]
     },
     "execution_count": 192,
     "metadata": {},
     "output_type": "execute_result"
    }
   ],
   "source": [
    "new_header = AirQ_20_Mad.iloc[0]\n",
    "AirQ_20_Mad = AirQ_20_Mad[1:]\n",
    "AirQ_20_Mad.columns = new_header\n",
    "AirQ_20_Mad.head()"
   ]
  },
  {
   "cell_type": "code",
   "execution_count": null,
   "metadata": {},
   "outputs": [],
   "source": []
  },
  {
   "cell_type": "markdown",
   "metadata": {},
   "source": [
    "## DATA MADRID"
   ]
  },
  {
   "cell_type": "markdown",
   "metadata": {},
   "source": [
    "## DATA ANALISIS AND DATA CLEANING"
   ]
  },
  {
   "cell_type": "code",
   "execution_count": null,
   "metadata": {},
   "outputs": [],
   "source": [
    "p_19 = pd.read_csv('./data/Indicadores_2019.csv', sep = ';')"
   ]
  },
  {
   "cell_type": "code",
   "execution_count": null,
   "metadata": {},
   "outputs": [],
   "source": [
    "p_20 = pd.read_csv('./data/Indicadores_2020.csv', sep = ';')"
   ]
  },
  {
   "cell_type": "code",
   "execution_count": null,
   "metadata": {},
   "outputs": [],
   "source": [
    "p_21 = pd.read_csv('./data/Indicadores_2021.csv', sep = ';')"
   ]
  },
  {
   "cell_type": "code",
   "execution_count": null,
   "metadata": {
    "scrolled": false
   },
   "outputs": [],
   "source": [
    "p_19.head()"
   ]
  },
  {
   "cell_type": "code",
   "execution_count": null,
   "metadata": {},
   "outputs": [],
   "source": [
    "p_20.head()"
   ]
  },
  {
   "cell_type": "code",
   "execution_count": null,
   "metadata": {},
   "outputs": [],
   "source": [
    "p_21.head()"
   ]
  },
  {
   "cell_type": "code",
   "execution_count": null,
   "metadata": {},
   "outputs": [],
   "source": [
    "p_19.columns"
   ]
  },
  {
   "cell_type": "code",
   "execution_count": null,
   "metadata": {},
   "outputs": [],
   "source": [
    "p_19.MAGNITUD.unique()"
   ]
  },
  {
   "cell_type": "code",
   "execution_count": null,
   "metadata": {},
   "outputs": [],
   "source": [
    "p_19.PROVINCIA.unique()"
   ]
  },
  {
   "cell_type": "code",
   "execution_count": null,
   "metadata": {
    "scrolled": true
   },
   "outputs": [],
   "source": [
    "p_19.ESTACION.unique()"
   ]
  },
  {
   "cell_type": "code",
   "execution_count": null,
   "metadata": {
    "scrolled": true
   },
   "outputs": [],
   "source": [
    "m_t_e_19 = pd.read_excel('./data/matriculaciones_2019_anuario.xlsx', sheet_name = 'M_TUR_MEDIO', header = 2)\n",
    "m_t_e_19.head()"
   ]
  },
  {
   "cell_type": "code",
   "execution_count": null,
   "metadata": {},
   "outputs": [],
   "source": [
    "m_t_e_18 = pd.read_excel('./data/matriculaciones_2018_anuario.xlsx', sheet_name = 'M_TUR_MEDIO', header = 2)\n",
    "m_t_e_18.head()"
   ]
  },
  {
   "cell_type": "code",
   "execution_count": null,
   "metadata": {},
   "outputs": [],
   "source": [
    "m_t_e_17 = pd.read_excel('./data/matriculaciones_2017_anuario.xlsx', sheet_name = 'M_TUR_MEDIO', header = 2)\n",
    "m_t_e_17.head()"
   ]
  },
  {
   "cell_type": "code",
   "execution_count": null,
   "metadata": {},
   "outputs": [],
   "source": [
    "m_m_e_19 = pd.read_excel('./data/matriculaciones_2019_anuario.xlsx', sheet_name = 'M_MOTO_MEDIO', header = 2)\n",
    "m_m_e_19.head()"
   ]
  },
  {
   "cell_type": "code",
   "execution_count": null,
   "metadata": {},
   "outputs": [],
   "source": [
    "m_m_e_18 = pd.read_excel('./data/matriculaciones_2018_anuario.xlsx', sheet_name = 'M_MOTO_MEDIO', header = 2)\n",
    "m_m_e_18.head()"
   ]
  },
  {
   "cell_type": "code",
   "execution_count": null,
   "metadata": {},
   "outputs": [],
   "source": [
    "m_m_e_17 = pd.read_excel('./data/matriculaciones_2017_anuario.xlsx', sheet_name = 'M_MOTO_MEDIO', header = 2)\n",
    "m_m_e_17.head()"
   ]
  },
  {
   "cell_type": "markdown",
   "metadata": {},
   "source": [
    "### Explicación Magnitudes:\n",
    "Abreviatura o fórmula\n",
    "Unidad medida\n",
    "Técnica de medida\n",
    "- 01 Dióxido de Azufre (SO2) μg/m 3 Fluorescencia ultravioleta\n",
    "- 06 Monóxido de Carbono (CO) mg/m3 48 Absorción infrarroja\n",
    "- 07 Monóxido de Nitrógeno (NO) μg/m3 08 Quimioluminiscencia\n",
    "- 08 Dióxido de Nitrógeno (NO2) μg/m 3 08 Id.\n",
    "- 09 Partículas < 2.5 μm PM2.5 μg/m3 47 Microbalanza\n",
    "- 10 Partículas < 10 μm PM10 μg/m3 47 Id.\n",
    "- 12 Óxidos de Nitrógeno NOx μg/m3 08 Quimioluminiscencia\n",
    "- 14 Ozono O3μg/m 3 06 Absorción ultravioleta\n",
    "- 20 Tolueno TOL μg/m3 59 Cromatografía de gases\n",
    "- 30 Benceno BEN μg/m3 59 Id.\n",
    "- 35 // Etilbenceno // EBE\n",
    "μg/m3\n",
    "59\n",
    "Id.\n",
    "37\n",
    "Metaxileno\n",
    "MXY\n",
    "μg/m3\n",
    "59\n",
    "Id.\n",
    "38\n",
    "Paraxileno\n",
    "PXY\n",
    "μg/m3\n",
    "59\n",
    "Id.\n",
    "39\n",
    "Ortoxileno\n",
    "OXY\n",
    "μg/m3\n",
    "59\n",
    "Id.\n",
    "42\n",
    "Hidrocarburos totales (hexano)\n",
    "TCH\n",
    "mg/m3\n",
    "02\n",
    "Ionización de llama\n",
    "43\n",
    "Metano\n",
    "CH4\n",
    "mg/m3\n",
    "02\n",
    "Id."
   ]
  },
  {
   "cell_type": "code",
   "execution_count": null,
   "metadata": {},
   "outputs": [],
   "source": []
  }
 ],
 "metadata": {
  "kernelspec": {
   "display_name": "Python 3",
   "language": "python",
   "name": "python3"
  },
  "language_info": {
   "codemirror_mode": {
    "name": "ipython",
    "version": 3
   },
   "file_extension": ".py",
   "mimetype": "text/x-python",
   "name": "python",
   "nbconvert_exporter": "python",
   "pygments_lexer": "ipython3",
   "version": "3.9.1"
  }
 },
 "nbformat": 4,
 "nbformat_minor": 4
}
