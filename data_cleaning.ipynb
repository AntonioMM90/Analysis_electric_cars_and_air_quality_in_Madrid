{
 "cells": [
  {
   "cell_type": "markdown",
   "metadata": {},
   "source": [
    "## IMPORTING NECCESARY LIBRARIES"
   ]
  },
  {
   "cell_type": "code",
   "execution_count": 1,
   "metadata": {},
   "outputs": [],
   "source": [
    "import pandas as pd\n",
    "import requests\n",
    "import json\n",
    "import re\n",
    "import numpy as np\n",
    "import seaborn as sns\n",
    "import matplotlib.pyplot as plt"
   ]
  },
  {
   "cell_type": "code",
   "execution_count": 2,
   "metadata": {},
   "outputs": [],
   "source": [
    "#def concatenar():"
   ]
  },
  {
   "cell_type": "markdown",
   "metadata": {},
   "source": [
    "### MEASURED MAGNITUDES"
   ]
  },
  {
   "cell_type": "markdown",
   "metadata": {},
   "source": [
    "To interpret the data of air quality, obtained from the Ministry for the Ecological Transition, we first have download some explanatory tables."
   ]
  },
  {
   "cell_type": "code",
   "execution_count": 3,
   "metadata": {
    "scrolled": true
   },
   "outputs": [],
   "source": [
    "magnitudes_esp = pd.read_excel('./data/data_aire_esp/estacionesymagnitudes_2018_tcm30-501408.xlsx',sheet_name=\"Magnitudes\",  header = 0)"
   ]
  },
  {
   "cell_type": "code",
   "execution_count": 4,
   "metadata": {},
   "outputs": [],
   "source": [
    "magnitudes_esp.columns = ['Codigo', 'Magnitud', 'Abreviatura o fórmula', 'Unidad medida', 'Técnica de medida']"
   ]
  },
  {
   "cell_type": "code",
   "execution_count": 5,
   "metadata": {},
   "outputs": [],
   "source": [
    "magnitudes_esp = magnitudes_esp.drop('Técnica de medida', axis= 'columns')"
   ]
  },
  {
   "cell_type": "code",
   "execution_count": 6,
   "metadata": {},
   "outputs": [],
   "source": [
    "magnitudes_esp['Magnitud'] = magnitudes_esp['Magnitud'].str.lower()\n",
    "magnitudes_esp['Magnitud'] = magnitudes_esp['Magnitud'].str.capitalize()"
   ]
  },
  {
   "cell_type": "code",
   "execution_count": 7,
   "metadata": {
    "scrolled": true
   },
   "outputs": [
    {
     "data": {
      "text/plain": [
       "(14, 4)"
      ]
     },
     "execution_count": 7,
     "metadata": {},
     "output_type": "execute_result"
    }
   ],
   "source": [
    "magnitudes_esp.shape"
   ]
  },
  {
   "cell_type": "code",
   "execution_count": 8,
   "metadata": {},
   "outputs": [],
   "source": [
    "magnitudes_mad = pd.read_excel('./data/magnitudes_unidades_tecnicas.xlsx', header = 0)"
   ]
  },
  {
   "cell_type": "code",
   "execution_count": 9,
   "metadata": {},
   "outputs": [],
   "source": [
    "magnitudes_mad.columns = ['Codigo', 'Magnitud', 'Abreviatura o fórmula', 'Unidad medida', 'Técnica de medida']"
   ]
  },
  {
   "cell_type": "code",
   "execution_count": 10,
   "metadata": {},
   "outputs": [],
   "source": [
    "magnitudes_mad = magnitudes_mad.drop('Técnica de medida', axis= 'columns')"
   ]
  },
  {
   "cell_type": "code",
   "execution_count": 11,
   "metadata": {
    "scrolled": true
   },
   "outputs": [
    {
     "data": {
      "text/plain": [
       "(17, 4)"
      ]
     },
     "execution_count": 11,
     "metadata": {},
     "output_type": "execute_result"
    }
   ],
   "source": [
    "magnitudes_mad.shape"
   ]
  },
  {
   "cell_type": "code",
   "execution_count": 12,
   "metadata": {},
   "outputs": [],
   "source": [
    "magnitudes = [magnitudes_esp, magnitudes_mad]\n",
    "mags = pd.concat(magnitudes)\n",
    "mags = mags.drop_duplicates('Codigo')"
   ]
  },
  {
   "cell_type": "code",
   "execution_count": 13,
   "metadata": {},
   "outputs": [
    {
     "data": {
      "text/plain": [
       "(22, 4)"
      ]
     },
     "execution_count": 13,
     "metadata": {},
     "output_type": "execute_result"
    }
   ],
   "source": [
    "mags.shape"
   ]
  },
  {
   "cell_type": "markdown",
   "metadata": {},
   "source": [
    "## DATA SPAIN"
   ]
  },
  {
   "cell_type": "markdown",
   "metadata": {},
   "source": [
    "This data comes from the Ministerio Para la Transición Ecológica.\n",
    "There is a dataset for each year and chemical element."
   ]
  },
  {
   "cell_type": "markdown",
   "metadata": {},
   "source": [
    "#### 2015 DATA"
   ]
  },
  {
   "cell_type": "code",
   "execution_count": 14,
   "metadata": {},
   "outputs": [],
   "source": [
    "As_15esp = pd.read_excel('./data/data_aire_esp/datos2015_tcm30-425989/As_DD_2015.xlsx')"
   ]
  },
  {
   "cell_type": "code",
   "execution_count": 15,
   "metadata": {},
   "outputs": [],
   "source": [
    "BaP_15esp = pd.read_excel('./data/data_aire_esp/datos2015_tcm30-425989/B(a)P_DD_2015.xlsx')"
   ]
  },
  {
   "cell_type": "code",
   "execution_count": 16,
   "metadata": {},
   "outputs": [],
   "source": [
    "Cd_15esp = pd.read_excel('./data/data_aire_esp/datos2015_tcm30-425989/Cd_DD_2015.xlsx')"
   ]
  },
  {
   "cell_type": "code",
   "execution_count": 17,
   "metadata": {},
   "outputs": [],
   "source": [
    "Ni_15esp = pd.read_excel('./data/data_aire_esp/datos2015_tcm30-425989/Ni_DD_2015.xlsx')"
   ]
  },
  {
   "cell_type": "code",
   "execution_count": 18,
   "metadata": {},
   "outputs": [],
   "source": [
    "Pb_15esp = pd.read_excel('./data/data_aire_esp/datos2015_tcm30-425989/Pb_DD_2015.xlsx')"
   ]
  },
  {
   "cell_type": "code",
   "execution_count": 19,
   "metadata": {},
   "outputs": [],
   "source": [
    "Pm25_15esp = pd.read_excel('./data/data_aire_esp/datos2015_tcm30-425989/PM2.5_DD_2015.xlsx')"
   ]
  },
  {
   "cell_type": "code",
   "execution_count": 20,
   "metadata": {},
   "outputs": [],
   "source": [
    "Pm10_15esp = pd.read_excel('./data/data_aire_esp/datos2015_tcm30-425989/PM10_DD_2015.xlsx')"
   ]
  },
  {
   "cell_type": "code",
   "execution_count": 21,
   "metadata": {},
   "outputs": [],
   "source": [
    "to_concat_15 = [As_15esp, BaP_15esp, Cd_15esp, Ni_15esp, Pb_15esp, Pm10_15esp, Pm25_15esp]\n",
    "data_15_esp = pd.concat(to_concat_15, ignore_index = True)"
   ]
  },
  {
   "cell_type": "code",
   "execution_count": 22,
   "metadata": {},
   "outputs": [
    {
     "data": {
      "text/plain": [
       "(9399, 38)"
      ]
     },
     "execution_count": 22,
     "metadata": {},
     "output_type": "execute_result"
    }
   ],
   "source": [
    "data_15_esp.shape"
   ]
  },
  {
   "cell_type": "markdown",
   "metadata": {},
   "source": [
    "#### 2016 DATA"
   ]
  },
  {
   "cell_type": "code",
   "execution_count": 23,
   "metadata": {},
   "outputs": [],
   "source": [
    "As_16esp = pd.read_excel('./data/data_aire_esp/dd_2016_tcm30/As_DD_2016.xlsx')"
   ]
  },
  {
   "cell_type": "code",
   "execution_count": 24,
   "metadata": {},
   "outputs": [],
   "source": [
    "BaP_16esp = pd.read_excel('./data/data_aire_esp/dd_2016_tcm30/B(a)P_DD_2016.xlsx')"
   ]
  },
  {
   "cell_type": "code",
   "execution_count": 25,
   "metadata": {},
   "outputs": [],
   "source": [
    "Cd_16esp = pd.read_excel('./data/data_aire_esp/dd_2016_tcm30/Cd_DD_2016.xlsx')"
   ]
  },
  {
   "cell_type": "code",
   "execution_count": 26,
   "metadata": {},
   "outputs": [],
   "source": [
    "Ni_16esp = pd.read_excel('./data/data_aire_esp/dd_2016_tcm30/Ni_DD_2016.xlsx')"
   ]
  },
  {
   "cell_type": "code",
   "execution_count": 27,
   "metadata": {},
   "outputs": [],
   "source": [
    "Pb_16esp = pd.read_excel('./data/data_aire_esp/dd_2016_tcm30/Pb_DD_2016.xlsx')"
   ]
  },
  {
   "cell_type": "code",
   "execution_count": 28,
   "metadata": {},
   "outputs": [],
   "source": [
    "PM10_16esp = pd.read_excel('./data/data_aire_esp/dd_2016_tcm30/PM10_DD_2016.xlsx')"
   ]
  },
  {
   "cell_type": "code",
   "execution_count": 29,
   "metadata": {},
   "outputs": [],
   "source": [
    "PM25_16esp = pd.read_excel('./data/data_aire_esp/dd_2016_tcm30/PM25_DD_2016.xlsx')"
   ]
  },
  {
   "cell_type": "code",
   "execution_count": 30,
   "metadata": {},
   "outputs": [],
   "source": [
    "to_concat_16 = [As_16esp, BaP_16esp, Cd_16esp, Ni_16esp, Pb_16esp, PM10_16esp, PM25_16esp]\n",
    "data_16_esp = pd.concat(to_concat_16, ignore_index = True)"
   ]
  },
  {
   "cell_type": "code",
   "execution_count": 31,
   "metadata": {},
   "outputs": [
    {
     "data": {
      "text/plain": [
       "(8708, 38)"
      ]
     },
     "execution_count": 31,
     "metadata": {},
     "output_type": "execute_result"
    }
   ],
   "source": [
    "data_16_esp.shape"
   ]
  },
  {
   "cell_type": "markdown",
   "metadata": {},
   "source": [
    "#### 2017 DATA"
   ]
  },
  {
   "cell_type": "code",
   "execution_count": 32,
   "metadata": {},
   "outputs": [],
   "source": [
    "As_17esp = pd.read_csv('./data/data_aire_esp/dd_2017_tcm30-481444/As_DD_2017.csv', sep = ';')"
   ]
  },
  {
   "cell_type": "code",
   "execution_count": 33,
   "metadata": {},
   "outputs": [],
   "source": [
    "BaP_17esp = pd.read_csv('./data/data_aire_esp/dd_2017_tcm30-481444/B(a)P_DD_2017.csv', sep = ';')"
   ]
  },
  {
   "cell_type": "code",
   "execution_count": 34,
   "metadata": {},
   "outputs": [],
   "source": [
    "Cd_17esp = pd.read_csv('./data/data_aire_esp/dd_2017_tcm30-481444/Cd_DD_2017.csv', sep = ';')"
   ]
  },
  {
   "cell_type": "code",
   "execution_count": 35,
   "metadata": {},
   "outputs": [],
   "source": [
    "Ni_17esp = pd.read_csv('./data/data_aire_esp/dd_2017_tcm30-481444/Ni_DD_2017.csv', sep = ';')"
   ]
  },
  {
   "cell_type": "code",
   "execution_count": 36,
   "metadata": {},
   "outputs": [],
   "source": [
    "Pb_17esp = pd.read_csv('./data/data_aire_esp/dd_2017_tcm30-481444/Pb_DD_2017.csv', sep = ';')"
   ]
  },
  {
   "cell_type": "code",
   "execution_count": 37,
   "metadata": {},
   "outputs": [],
   "source": [
    "PM25_17esp = pd.read_csv('./data/data_aire_esp/dd_2017_tcm30-481444/PM2.5_DD_2017.csv', sep = ';')"
   ]
  },
  {
   "cell_type": "code",
   "execution_count": 38,
   "metadata": {},
   "outputs": [],
   "source": [
    "PM10_17esp = pd.read_csv('./data/data_aire_esp/dd_2017_tcm30-481444/PM10_DD_2017.csv', sep = ';')"
   ]
  },
  {
   "cell_type": "code",
   "execution_count": 39,
   "metadata": {},
   "outputs": [],
   "source": [
    "to_concat_17 = [As_17esp, BaP_17esp, Cd_17esp, Ni_17esp, Pb_17esp, PM10_17esp, PM25_17esp]\n",
    "data_17_esp = pd.concat(to_concat_17, ignore_index = True)"
   ]
  },
  {
   "cell_type": "code",
   "execution_count": 40,
   "metadata": {},
   "outputs": [
    {
     "data": {
      "text/plain": [
       "(14653, 38)"
      ]
     },
     "execution_count": 40,
     "metadata": {},
     "output_type": "execute_result"
    }
   ],
   "source": [
    "data_17_esp.shape"
   ]
  },
  {
   "cell_type": "markdown",
   "metadata": {},
   "source": [
    "#### 2018 DATA"
   ]
  },
  {
   "cell_type": "code",
   "execution_count": 41,
   "metadata": {},
   "outputs": [],
   "source": [
    "As_18esp = pd.read_csv('./data/data_aire_esp/dd_2018_tcm30-501405/As_DD_2018.csv', sep = ';')"
   ]
  },
  {
   "cell_type": "code",
   "execution_count": 42,
   "metadata": {},
   "outputs": [],
   "source": [
    "BAP_18esp = pd.read_csv('./data/data_aire_esp/dd_2018_tcm30-501405/B(a)P_DD_2018.csv', sep = ';')"
   ]
  },
  {
   "cell_type": "code",
   "execution_count": 43,
   "metadata": {},
   "outputs": [],
   "source": [
    "Cd_18esp = pd.read_csv('./data/data_aire_esp/dd_2018_tcm30-501405/Cd_DD_2018.csv', sep = ';')"
   ]
  },
  {
   "cell_type": "code",
   "execution_count": 44,
   "metadata": {},
   "outputs": [],
   "source": [
    "Ni_18esp = pd.read_csv('./data/data_aire_esp/dd_2018_tcm30-501405/Ni_DD_2018.csv', sep = ';')"
   ]
  },
  {
   "cell_type": "code",
   "execution_count": 45,
   "metadata": {},
   "outputs": [],
   "source": [
    "Pb_18esp = pd.read_csv('./data/data_aire_esp/dd_2018_tcm30-501405/Pb_DD_2018.csv', sep = ';')"
   ]
  },
  {
   "cell_type": "code",
   "execution_count": 46,
   "metadata": {},
   "outputs": [],
   "source": [
    "PM25_18esp = pd.read_csv('./data/data_aire_esp/dd_2018_tcm30-501405/PM2.5_DD_2018.csv', sep = ';')"
   ]
  },
  {
   "cell_type": "code",
   "execution_count": 47,
   "metadata": {},
   "outputs": [],
   "source": [
    "PM10_18esp = pd.read_csv('./data/data_aire_esp/dd_2018_tcm30-501405/PM10_DD_2018.csv', sep = ';')"
   ]
  },
  {
   "cell_type": "code",
   "execution_count": 48,
   "metadata": {},
   "outputs": [],
   "source": [
    "to_concat_18 = [As_18esp, BAP_18esp, Cd_18esp, Ni_18esp, Pb_18esp, PM10_18esp, PM25_18esp]\n",
    "data_18_esp = pd.concat(to_concat_18, ignore_index = True)"
   ]
  },
  {
   "cell_type": "code",
   "execution_count": 49,
   "metadata": {},
   "outputs": [
    {
     "data": {
      "text/plain": [
       "(15058, 38)"
      ]
     },
     "execution_count": 49,
     "metadata": {},
     "output_type": "execute_result"
    }
   ],
   "source": [
    "data_18_esp.shape"
   ]
  },
  {
   "cell_type": "markdown",
   "metadata": {},
   "source": [
    "#### 2019 DATA"
   ]
  },
  {
   "cell_type": "code",
   "execution_count": 50,
   "metadata": {},
   "outputs": [],
   "source": [
    "As_19esp = pd.read_csv('./data/data_aire_esp/diarios_2019_tcm30-513558/As_DD_2019.csv', sep = ';')"
   ]
  },
  {
   "cell_type": "code",
   "execution_count": 51,
   "metadata": {},
   "outputs": [],
   "source": [
    "Bap_19esp = pd.read_csv('./data/data_aire_esp/diarios_2019_tcm30-513558/Bap_DD_2019.csv', sep = ';')"
   ]
  },
  {
   "cell_type": "code",
   "execution_count": 52,
   "metadata": {},
   "outputs": [],
   "source": [
    "C6H6_19esp = pd.read_csv('./data/data_aire_esp/diarios_2019_tcm30-513558/C6H6_DD_2019.csv', sep = ';')"
   ]
  },
  {
   "cell_type": "code",
   "execution_count": 53,
   "metadata": {},
   "outputs": [],
   "source": [
    "Cd_19esp = pd.read_csv('./data/data_aire_esp/diarios_2019_tcm30-513558/Cd_DD_2019.csv', sep = ';')"
   ]
  },
  {
   "cell_type": "code",
   "execution_count": 54,
   "metadata": {},
   "outputs": [],
   "source": [
    "Ni_19esp = pd.read_csv('./data/data_aire_esp/diarios_2019_tcm30-513558/Ni_DD_2019.csv', sep = ';')"
   ]
  },
  {
   "cell_type": "code",
   "execution_count": 55,
   "metadata": {},
   "outputs": [],
   "source": [
    "Pb_19esp = pd.read_csv('./data/data_aire_esp/diarios_2019_tcm30-513558/Pb_DD_2019.csv', sep = ';')"
   ]
  },
  {
   "cell_type": "code",
   "execution_count": 56,
   "metadata": {},
   "outputs": [],
   "source": [
    "PM10_19esp = pd.read_csv('./data/data_aire_esp/diarios_2019_tcm30-513558/PM10_DD_2019.csv', sep = ';')"
   ]
  },
  {
   "cell_type": "code",
   "execution_count": 57,
   "metadata": {},
   "outputs": [],
   "source": [
    "PM25_19esp = pd.read_csv('./data/data_aire_esp/diarios_2019_tcm30-513558/PM25_DD_2019.csv', sep = ';')"
   ]
  },
  {
   "cell_type": "code",
   "execution_count": 58,
   "metadata": {},
   "outputs": [],
   "source": [
    "to_concat_19 = [As_19esp, Bap_19esp, C6H6_19esp, Cd_19esp, Ni_19esp, Pb_19esp, PM10_19esp, PM25_19esp]"
   ]
  },
  {
   "cell_type": "code",
   "execution_count": 59,
   "metadata": {},
   "outputs": [],
   "source": [
    "data_19_esp = pd.concat(to_concat_19, ignore_index = True)"
   ]
  },
  {
   "cell_type": "code",
   "execution_count": 60,
   "metadata": {},
   "outputs": [
    {
     "data": {
      "text/plain": [
       "(9892, 38)"
      ]
     },
     "execution_count": 60,
     "metadata": {},
     "output_type": "execute_result"
    }
   ],
   "source": [
    "data_19_esp.shape"
   ]
  },
  {
   "cell_type": "markdown",
   "metadata": {},
   "source": [
    "We concatenate first the tables from 2017, 2018, and 2019 since it is from were we have data of matriculations.\n",
    "Then we concatenate all tables to visualize the evolution of pollution."
   ]
  },
  {
   "cell_type": "code",
   "execution_count": 61,
   "metadata": {},
   "outputs": [
    {
     "name": "stdout",
     "output_type": "stream",
     "text": [
      "<class 'pandas.core.frame.DataFrame'>\n",
      "RangeIndex: 39603 entries, 0 to 39602\n",
      "Data columns (total 38 columns):\n",
      " #   Column          Non-Null Count  Dtype  \n",
      "---  ------          --------------  -----  \n",
      " 0   PROVINCIA       39603 non-null  int64  \n",
      " 1   MUNICIPIO       39603 non-null  int64  \n",
      " 2   ESTACION        39603 non-null  int64  \n",
      " 3   MAGNITUD        39603 non-null  int64  \n",
      " 4   PUNTO_MUESTREO  39603 non-null  object \n",
      " 5   ANNO            39603 non-null  int64  \n",
      " 6   MES             39603 non-null  int64  \n",
      " 7   D01             19543 non-null  float64\n",
      " 8   D02             20065 non-null  float64\n",
      " 9   D03             20328 non-null  float64\n",
      " 10  D04             20336 non-null  float64\n",
      " 11  D05             20286 non-null  float64\n",
      " 12  D06             19762 non-null  float64\n",
      " 13  D07             20298 non-null  float64\n",
      " 14  D08             20097 non-null  float64\n",
      " 15  D09             20325 non-null  float64\n",
      " 16  D10             20725 non-null  float64\n",
      " 17  D11             20772 non-null  float64\n",
      " 18  D12             20665 non-null  float64\n",
      " 19  D13             20644 non-null  float64\n",
      " 20  D14             20762 non-null  float64\n",
      " 21  D15             20659 non-null  float64\n",
      " 22  D16             20950 non-null  float64\n",
      " 23  D17             20761 non-null  float64\n",
      " 24  D18             20314 non-null  float64\n",
      " 25  D19             20757 non-null  float64\n",
      " 26  D20             20821 non-null  float64\n",
      " 27  D21             20572 non-null  float64\n",
      " 28  D22             20742 non-null  float64\n",
      " 29  D23             20757 non-null  float64\n",
      " 30  D24             20119 non-null  float64\n",
      " 31  D25             19918 non-null  float64\n",
      " 32  D26             20539 non-null  float64\n",
      " 33  D27             20178 non-null  float64\n",
      " 34  D28             20175 non-null  float64\n",
      " 35  D29             18684 non-null  float64\n",
      " 36  D30             18238 non-null  float64\n",
      " 37  D31             11199 non-null  float64\n",
      "dtypes: float64(31), int64(6), object(1)\n",
      "memory usage: 11.5+ MB\n"
     ]
    }
   ],
   "source": [
    "to_concat = [data_17_esp, data_18_esp, data_19_esp]\n",
    "data_esp_ana = pd.concat(to_concat, ignore_index = True)\n",
    "data_esp_ana.info()"
   ]
  },
  {
   "cell_type": "code",
   "execution_count": 62,
   "metadata": {},
   "outputs": [
    {
     "data": {
      "text/html": [
       "<div>\n",
       "<style scoped>\n",
       "    .dataframe tbody tr th:only-of-type {\n",
       "        vertical-align: middle;\n",
       "    }\n",
       "\n",
       "    .dataframe tbody tr th {\n",
       "        vertical-align: top;\n",
       "    }\n",
       "\n",
       "    .dataframe thead th {\n",
       "        text-align: right;\n",
       "    }\n",
       "</style>\n",
       "<table border=\"1\" class=\"dataframe\">\n",
       "  <thead>\n",
       "    <tr style=\"text-align: right;\">\n",
       "      <th></th>\n",
       "      <th>column_name</th>\n",
       "      <th>percent_missing</th>\n",
       "    </tr>\n",
       "  </thead>\n",
       "  <tbody>\n",
       "    <tr>\n",
       "      <th>D31</th>\n",
       "      <td>D31</td>\n",
       "      <td>71.721839</td>\n",
       "    </tr>\n",
       "    <tr>\n",
       "      <th>D30</th>\n",
       "      <td>D30</td>\n",
       "      <td>53.947933</td>\n",
       "    </tr>\n",
       "    <tr>\n",
       "      <th>D29</th>\n",
       "      <td>D29</td>\n",
       "      <td>52.821756</td>\n",
       "    </tr>\n",
       "    <tr>\n",
       "      <th>D01</th>\n",
       "      <td>D01</td>\n",
       "      <td>50.652728</td>\n",
       "    </tr>\n",
       "    <tr>\n",
       "      <th>D06</th>\n",
       "      <td>D06</td>\n",
       "      <td>50.099740</td>\n",
       "    </tr>\n",
       "    <tr>\n",
       "      <th>D25</th>\n",
       "      <td>D25</td>\n",
       "      <td>49.705830</td>\n",
       "    </tr>\n",
       "    <tr>\n",
       "      <th>D02</th>\n",
       "      <td>D02</td>\n",
       "      <td>49.334646</td>\n",
       "    </tr>\n",
       "    <tr>\n",
       "      <th>D08</th>\n",
       "      <td>D08</td>\n",
       "      <td>49.253844</td>\n",
       "    </tr>\n",
       "    <tr>\n",
       "      <th>D24</th>\n",
       "      <td>D24</td>\n",
       "      <td>49.198293</td>\n",
       "    </tr>\n",
       "    <tr>\n",
       "      <th>D28</th>\n",
       "      <td>D28</td>\n",
       "      <td>49.056890</td>\n",
       "    </tr>\n",
       "    <tr>\n",
       "      <th>D27</th>\n",
       "      <td>D27</td>\n",
       "      <td>49.049314</td>\n",
       "    </tr>\n",
       "    <tr>\n",
       "      <th>D05</th>\n",
       "      <td>D05</td>\n",
       "      <td>48.776608</td>\n",
       "    </tr>\n",
       "    <tr>\n",
       "      <th>D07</th>\n",
       "      <td>D07</td>\n",
       "      <td>48.746307</td>\n",
       "    </tr>\n",
       "    <tr>\n",
       "      <th>D18</th>\n",
       "      <td>D18</td>\n",
       "      <td>48.705906</td>\n",
       "    </tr>\n",
       "    <tr>\n",
       "      <th>D09</th>\n",
       "      <td>D09</td>\n",
       "      <td>48.678130</td>\n",
       "    </tr>\n",
       "    <tr>\n",
       "      <th>D03</th>\n",
       "      <td>D03</td>\n",
       "      <td>48.670555</td>\n",
       "    </tr>\n",
       "    <tr>\n",
       "      <th>D04</th>\n",
       "      <td>D04</td>\n",
       "      <td>48.650355</td>\n",
       "    </tr>\n",
       "    <tr>\n",
       "      <th>D26</th>\n",
       "      <td>D26</td>\n",
       "      <td>48.137767</td>\n",
       "    </tr>\n",
       "    <tr>\n",
       "      <th>D21</th>\n",
       "      <td>D21</td>\n",
       "      <td>48.054440</td>\n",
       "    </tr>\n",
       "    <tr>\n",
       "      <th>D13</th>\n",
       "      <td>D13</td>\n",
       "      <td>47.872636</td>\n",
       "    </tr>\n",
       "    <tr>\n",
       "      <th>D15</th>\n",
       "      <td>D15</td>\n",
       "      <td>47.834760</td>\n",
       "    </tr>\n",
       "    <tr>\n",
       "      <th>D12</th>\n",
       "      <td>D12</td>\n",
       "      <td>47.819610</td>\n",
       "    </tr>\n",
       "    <tr>\n",
       "      <th>D10</th>\n",
       "      <td>D10</td>\n",
       "      <td>47.668106</td>\n",
       "    </tr>\n",
       "    <tr>\n",
       "      <th>D22</th>\n",
       "      <td>D22</td>\n",
       "      <td>47.625180</td>\n",
       "    </tr>\n",
       "    <tr>\n",
       "      <th>D23</th>\n",
       "      <td>D23</td>\n",
       "      <td>47.587304</td>\n",
       "    </tr>\n",
       "    <tr>\n",
       "      <th>D19</th>\n",
       "      <td>D19</td>\n",
       "      <td>47.587304</td>\n",
       "    </tr>\n",
       "    <tr>\n",
       "      <th>D17</th>\n",
       "      <td>D17</td>\n",
       "      <td>47.577204</td>\n",
       "    </tr>\n",
       "    <tr>\n",
       "      <th>D14</th>\n",
       "      <td>D14</td>\n",
       "      <td>47.574679</td>\n",
       "    </tr>\n",
       "    <tr>\n",
       "      <th>D11</th>\n",
       "      <td>D11</td>\n",
       "      <td>47.549428</td>\n",
       "    </tr>\n",
       "    <tr>\n",
       "      <th>D20</th>\n",
       "      <td>D20</td>\n",
       "      <td>47.425700</td>\n",
       "    </tr>\n",
       "    <tr>\n",
       "      <th>D16</th>\n",
       "      <td>D16</td>\n",
       "      <td>47.099967</td>\n",
       "    </tr>\n",
       "    <tr>\n",
       "      <th>MUNICIPIO</th>\n",
       "      <td>MUNICIPIO</td>\n",
       "      <td>0.000000</td>\n",
       "    </tr>\n",
       "    <tr>\n",
       "      <th>MES</th>\n",
       "      <td>MES</td>\n",
       "      <td>0.000000</td>\n",
       "    </tr>\n",
       "    <tr>\n",
       "      <th>ANNO</th>\n",
       "      <td>ANNO</td>\n",
       "      <td>0.000000</td>\n",
       "    </tr>\n",
       "    <tr>\n",
       "      <th>PUNTO_MUESTREO</th>\n",
       "      <td>PUNTO_MUESTREO</td>\n",
       "      <td>0.000000</td>\n",
       "    </tr>\n",
       "    <tr>\n",
       "      <th>MAGNITUD</th>\n",
       "      <td>MAGNITUD</td>\n",
       "      <td>0.000000</td>\n",
       "    </tr>\n",
       "    <tr>\n",
       "      <th>ESTACION</th>\n",
       "      <td>ESTACION</td>\n",
       "      <td>0.000000</td>\n",
       "    </tr>\n",
       "    <tr>\n",
       "      <th>PROVINCIA</th>\n",
       "      <td>PROVINCIA</td>\n",
       "      <td>0.000000</td>\n",
       "    </tr>\n",
       "  </tbody>\n",
       "</table>\n",
       "</div>"
      ],
      "text/plain": [
       "                   column_name  percent_missing\n",
       "D31                        D31        71.721839\n",
       "D30                        D30        53.947933\n",
       "D29                        D29        52.821756\n",
       "D01                        D01        50.652728\n",
       "D06                        D06        50.099740\n",
       "D25                        D25        49.705830\n",
       "D02                        D02        49.334646\n",
       "D08                        D08        49.253844\n",
       "D24                        D24        49.198293\n",
       "D28                        D28        49.056890\n",
       "D27                        D27        49.049314\n",
       "D05                        D05        48.776608\n",
       "D07                        D07        48.746307\n",
       "D18                        D18        48.705906\n",
       "D09                        D09        48.678130\n",
       "D03                        D03        48.670555\n",
       "D04                        D04        48.650355\n",
       "D26                        D26        48.137767\n",
       "D21                        D21        48.054440\n",
       "D13                        D13        47.872636\n",
       "D15                        D15        47.834760\n",
       "D12                        D12        47.819610\n",
       "D10                        D10        47.668106\n",
       "D22                        D22        47.625180\n",
       "D23                        D23        47.587304\n",
       "D19                        D19        47.587304\n",
       "D17                        D17        47.577204\n",
       "D14                        D14        47.574679\n",
       "D11                        D11        47.549428\n",
       "D20                        D20        47.425700\n",
       "D16                        D16        47.099967\n",
       "MUNICIPIO            MUNICIPIO         0.000000\n",
       "MES                        MES         0.000000\n",
       "ANNO                      ANNO         0.000000\n",
       "PUNTO_MUESTREO  PUNTO_MUESTREO         0.000000\n",
       "MAGNITUD              MAGNITUD         0.000000\n",
       "ESTACION              ESTACION         0.000000\n",
       "PROVINCIA            PROVINCIA         0.000000"
      ]
     },
     "execution_count": 62,
     "metadata": {},
     "output_type": "execute_result"
    }
   ],
   "source": [
    "percent_missing = data_esp_ana.isnull().sum() * 100 / len(data_esp_ana)\n",
    "missing_value_df = pd.DataFrame({'column_name': data_esp_ana.columns, 'percent_missing': percent_missing})\n",
    "missing_value_df.sort_values('percent_missing', inplace=True, ascending = False)\n",
    "missing_value_df"
   ]
  },
  {
   "cell_type": "code",
   "execution_count": 63,
   "metadata": {},
   "outputs": [
    {
     "name": "stdout",
     "output_type": "stream",
     "text": [
      "<class 'pandas.core.frame.DataFrame'>\n",
      "Int64Index: 57710 entries, 0 to 9891\n",
      "Data columns (total 38 columns):\n",
      " #   Column          Non-Null Count  Dtype  \n",
      "---  ------          --------------  -----  \n",
      " 0   PROVINCIA       57710 non-null  int64  \n",
      " 1   MUNICIPIO       57710 non-null  int64  \n",
      " 2   ESTACION        57710 non-null  int64  \n",
      " 3   MAGNITUD        57710 non-null  int64  \n",
      " 4   PUNTO_MUESTREO  57710 non-null  object \n",
      " 5   ANNO            57710 non-null  int64  \n",
      " 6   MES             57710 non-null  int64  \n",
      " 7   D01             25888 non-null  float64\n",
      " 8   D02             27418 non-null  float64\n",
      " 9   D03             27280 non-null  float64\n",
      " 10  D04             27071 non-null  float64\n",
      " 11  D05             27085 non-null  float64\n",
      " 12  D06             26363 non-null  float64\n",
      " 13  D07             27238 non-null  float64\n",
      " 14  D08             26950 non-null  float64\n",
      " 15  D09             27563 non-null  float64\n",
      " 16  D10             27898 non-null  float64\n",
      " 17  D11             27812 non-null  float64\n",
      " 18  D12             28067 non-null  float64\n",
      " 19  D13             27639 non-null  float64\n",
      " 20  D14             28196 non-null  float64\n",
      " 21  D15             28056 non-null  float64\n",
      " 22  D16             28134 non-null  float64\n",
      " 23  D17             27906 non-null  float64\n",
      " 24  D18             27522 non-null  float64\n",
      " 25  D19             27920 non-null  float64\n",
      " 26  D20             28076 non-null  float64\n",
      " 27  D21             28046 non-null  float64\n",
      " 28  D22             27805 non-null  float64\n",
      " 29  D23             27877 non-null  float64\n",
      " 30  D24             26918 non-null  float64\n",
      " 31  D25             26664 non-null  float64\n",
      " 32  D26             27537 non-null  float64\n",
      " 33  D27             27239 non-null  float64\n",
      " 34  D28             27155 non-null  float64\n",
      " 35  D29             25158 non-null  float64\n",
      " 36  D30             24736 non-null  float64\n",
      " 37  D31             14743 non-null  float64\n",
      "dtypes: float64(31), int64(6), object(1)\n",
      "memory usage: 17.2+ MB\n"
     ]
    }
   ],
   "source": [
    "to_concat = [data_15_esp, data_16_esp, data_17_esp, data_18_esp, data_19_esp]\n",
    "data_esp_tot = pd.concat(to_concat, ignore_index = False)\n",
    "data_esp_tot.info()"
   ]
  },
  {
   "cell_type": "code",
   "execution_count": 64,
   "metadata": {},
   "outputs": [
    {
     "data": {
      "text/html": [
       "<div>\n",
       "<style scoped>\n",
       "    .dataframe tbody tr th:only-of-type {\n",
       "        vertical-align: middle;\n",
       "    }\n",
       "\n",
       "    .dataframe tbody tr th {\n",
       "        vertical-align: top;\n",
       "    }\n",
       "\n",
       "    .dataframe thead th {\n",
       "        text-align: right;\n",
       "    }\n",
       "</style>\n",
       "<table border=\"1\" class=\"dataframe\">\n",
       "  <thead>\n",
       "    <tr style=\"text-align: right;\">\n",
       "      <th></th>\n",
       "      <th>column_name</th>\n",
       "      <th>percent_missing</th>\n",
       "    </tr>\n",
       "  </thead>\n",
       "  <tbody>\n",
       "    <tr>\n",
       "      <th>D31</th>\n",
       "      <td>D31</td>\n",
       "      <td>74.453301</td>\n",
       "    </tr>\n",
       "    <tr>\n",
       "      <th>D30</th>\n",
       "      <td>D30</td>\n",
       "      <td>57.137411</td>\n",
       "    </tr>\n",
       "    <tr>\n",
       "      <th>D29</th>\n",
       "      <td>D29</td>\n",
       "      <td>56.406169</td>\n",
       "    </tr>\n",
       "    <tr>\n",
       "      <th>D01</th>\n",
       "      <td>D01</td>\n",
       "      <td>55.141223</td>\n",
       "    </tr>\n",
       "    <tr>\n",
       "      <th>D06</th>\n",
       "      <td>D06</td>\n",
       "      <td>54.318142</td>\n",
       "    </tr>\n",
       "    <tr>\n",
       "      <th>D25</th>\n",
       "      <td>D25</td>\n",
       "      <td>53.796569</td>\n",
       "    </tr>\n",
       "    <tr>\n",
       "      <th>D24</th>\n",
       "      <td>D24</td>\n",
       "      <td>53.356437</td>\n",
       "    </tr>\n",
       "    <tr>\n",
       "      <th>D08</th>\n",
       "      <td>D08</td>\n",
       "      <td>53.300988</td>\n",
       "    </tr>\n",
       "    <tr>\n",
       "      <th>D04</th>\n",
       "      <td>D04</td>\n",
       "      <td>53.091319</td>\n",
       "    </tr>\n",
       "    <tr>\n",
       "      <th>D05</th>\n",
       "      <td>D05</td>\n",
       "      <td>53.067059</td>\n",
       "    </tr>\n",
       "    <tr>\n",
       "      <th>D28</th>\n",
       "      <td>D28</td>\n",
       "      <td>52.945763</td>\n",
       "    </tr>\n",
       "    <tr>\n",
       "      <th>D07</th>\n",
       "      <td>D07</td>\n",
       "      <td>52.801941</td>\n",
       "    </tr>\n",
       "    <tr>\n",
       "      <th>D27</th>\n",
       "      <td>D27</td>\n",
       "      <td>52.800208</td>\n",
       "    </tr>\n",
       "    <tr>\n",
       "      <th>D03</th>\n",
       "      <td>D03</td>\n",
       "      <td>52.729163</td>\n",
       "    </tr>\n",
       "    <tr>\n",
       "      <th>D02</th>\n",
       "      <td>D02</td>\n",
       "      <td>52.490036</td>\n",
       "    </tr>\n",
       "    <tr>\n",
       "      <th>D18</th>\n",
       "      <td>D18</td>\n",
       "      <td>52.309825</td>\n",
       "    </tr>\n",
       "    <tr>\n",
       "      <th>D26</th>\n",
       "      <td>D26</td>\n",
       "      <td>52.283833</td>\n",
       "    </tr>\n",
       "    <tr>\n",
       "      <th>D09</th>\n",
       "      <td>D09</td>\n",
       "      <td>52.238780</td>\n",
       "    </tr>\n",
       "    <tr>\n",
       "      <th>D13</th>\n",
       "      <td>D13</td>\n",
       "      <td>52.107087</td>\n",
       "    </tr>\n",
       "    <tr>\n",
       "      <th>D22</th>\n",
       "      <td>D22</td>\n",
       "      <td>51.819442</td>\n",
       "    </tr>\n",
       "    <tr>\n",
       "      <th>D11</th>\n",
       "      <td>D11</td>\n",
       "      <td>51.807312</td>\n",
       "    </tr>\n",
       "    <tr>\n",
       "      <th>D23</th>\n",
       "      <td>D23</td>\n",
       "      <td>51.694680</td>\n",
       "    </tr>\n",
       "    <tr>\n",
       "      <th>D10</th>\n",
       "      <td>D10</td>\n",
       "      <td>51.658291</td>\n",
       "    </tr>\n",
       "    <tr>\n",
       "      <th>D17</th>\n",
       "      <td>D17</td>\n",
       "      <td>51.644429</td>\n",
       "    </tr>\n",
       "    <tr>\n",
       "      <th>D19</th>\n",
       "      <td>D19</td>\n",
       "      <td>51.620170</td>\n",
       "    </tr>\n",
       "    <tr>\n",
       "      <th>D21</th>\n",
       "      <td>D21</td>\n",
       "      <td>51.401837</td>\n",
       "    </tr>\n",
       "    <tr>\n",
       "      <th>D15</th>\n",
       "      <td>D15</td>\n",
       "      <td>51.384509</td>\n",
       "    </tr>\n",
       "    <tr>\n",
       "      <th>D12</th>\n",
       "      <td>D12</td>\n",
       "      <td>51.365448</td>\n",
       "    </tr>\n",
       "    <tr>\n",
       "      <th>D20</th>\n",
       "      <td>D20</td>\n",
       "      <td>51.349853</td>\n",
       "    </tr>\n",
       "    <tr>\n",
       "      <th>D16</th>\n",
       "      <td>D16</td>\n",
       "      <td>51.249350</td>\n",
       "    </tr>\n",
       "    <tr>\n",
       "      <th>D14</th>\n",
       "      <td>D14</td>\n",
       "      <td>51.141916</td>\n",
       "    </tr>\n",
       "    <tr>\n",
       "      <th>PUNTO_MUESTREO</th>\n",
       "      <td>PUNTO_MUESTREO</td>\n",
       "      <td>0.000000</td>\n",
       "    </tr>\n",
       "    <tr>\n",
       "      <th>ESTACION</th>\n",
       "      <td>ESTACION</td>\n",
       "      <td>0.000000</td>\n",
       "    </tr>\n",
       "    <tr>\n",
       "      <th>MAGNITUD</th>\n",
       "      <td>MAGNITUD</td>\n",
       "      <td>0.000000</td>\n",
       "    </tr>\n",
       "    <tr>\n",
       "      <th>MUNICIPIO</th>\n",
       "      <td>MUNICIPIO</td>\n",
       "      <td>0.000000</td>\n",
       "    </tr>\n",
       "    <tr>\n",
       "      <th>ANNO</th>\n",
       "      <td>ANNO</td>\n",
       "      <td>0.000000</td>\n",
       "    </tr>\n",
       "    <tr>\n",
       "      <th>MES</th>\n",
       "      <td>MES</td>\n",
       "      <td>0.000000</td>\n",
       "    </tr>\n",
       "    <tr>\n",
       "      <th>PROVINCIA</th>\n",
       "      <td>PROVINCIA</td>\n",
       "      <td>0.000000</td>\n",
       "    </tr>\n",
       "  </tbody>\n",
       "</table>\n",
       "</div>"
      ],
      "text/plain": [
       "                   column_name  percent_missing\n",
       "D31                        D31        74.453301\n",
       "D30                        D30        57.137411\n",
       "D29                        D29        56.406169\n",
       "D01                        D01        55.141223\n",
       "D06                        D06        54.318142\n",
       "D25                        D25        53.796569\n",
       "D24                        D24        53.356437\n",
       "D08                        D08        53.300988\n",
       "D04                        D04        53.091319\n",
       "D05                        D05        53.067059\n",
       "D28                        D28        52.945763\n",
       "D07                        D07        52.801941\n",
       "D27                        D27        52.800208\n",
       "D03                        D03        52.729163\n",
       "D02                        D02        52.490036\n",
       "D18                        D18        52.309825\n",
       "D26                        D26        52.283833\n",
       "D09                        D09        52.238780\n",
       "D13                        D13        52.107087\n",
       "D22                        D22        51.819442\n",
       "D11                        D11        51.807312\n",
       "D23                        D23        51.694680\n",
       "D10                        D10        51.658291\n",
       "D17                        D17        51.644429\n",
       "D19                        D19        51.620170\n",
       "D21                        D21        51.401837\n",
       "D15                        D15        51.384509\n",
       "D12                        D12        51.365448\n",
       "D20                        D20        51.349853\n",
       "D16                        D16        51.249350\n",
       "D14                        D14        51.141916\n",
       "PUNTO_MUESTREO  PUNTO_MUESTREO         0.000000\n",
       "ESTACION              ESTACION         0.000000\n",
       "MAGNITUD              MAGNITUD         0.000000\n",
       "MUNICIPIO            MUNICIPIO         0.000000\n",
       "ANNO                      ANNO         0.000000\n",
       "MES                        MES         0.000000\n",
       "PROVINCIA            PROVINCIA         0.000000"
      ]
     },
     "execution_count": 64,
     "metadata": {},
     "output_type": "execute_result"
    }
   ],
   "source": [
    "percent_missing = data_esp_tot.isnull().sum() * 100 / len(data_esp_tot)\n",
    "missing_value_df = pd.DataFrame({'column_name': data_esp_tot.columns, 'percent_missing': percent_missing})\n",
    "missing_value_df.sort_values('percent_missing', inplace=True, ascending = False)\n",
    "missing_value_df"
   ]
  },
  {
   "cell_type": "markdown",
   "metadata": {},
   "source": [
    "There is a lot of missing values in both dataframes, but since we are going to work with the mean of the days, there is no problem with so much nulls. Obviusly there is more nulls in the column D31, since nor all months have 31 days."
   ]
  },
  {
   "cell_type": "markdown",
   "metadata": {},
   "source": [
    "#### We add a cloumn with the mean of the day, to both DFs:"
   ]
  },
  {
   "cell_type": "code",
   "execution_count": 65,
   "metadata": {},
   "outputs": [],
   "source": [
    "l_dias = ['D01', 'D02', 'D03', 'D04', 'D05', 'D06', 'D07', 'D08','D09', 'D10', 'D11', 'D12', 'D13', 'D14', 'D15', 'D16', 'D17', 'D18', 'D19', 'D20', 'D21', 'D22', 'D23', 'D24', 'D25', 'D26', 'D27', 'D28','D29', 'D30', 'D31']"
   ]
  },
  {
   "cell_type": "code",
   "execution_count": 66,
   "metadata": {
    "scrolled": true
   },
   "outputs": [],
   "source": [
    "data_esp_tot['MEDIA_MAGS'] = data_esp_tot[l_dias].mean(axis = 1, skipna = True)\n",
    "data_esp_tot.drop(l_dias, axis='columns', inplace=True)\n",
    "data_esp_tot = data_esp_tot[data_esp_tot['MEDIA_MAGS'].notna()]"
   ]
  },
  {
   "cell_type": "code",
   "execution_count": 67,
   "metadata": {
    "scrolled": false
   },
   "outputs": [
    {
     "name": "stderr",
     "output_type": "stream",
     "text": [
      "<ipython-input-67-c643db7f57cc>:1: FutureWarning: The default value of regex will change from True to False in a future version.\n",
      "  data_esp_tot['PUNTO_MUESTREO'] = data_esp_tot['PUNTO_MUESTREO'].str.replace(r'_{1}\\w*$', '')\n",
      "<ipython-input-67-c643db7f57cc>:2: FutureWarning: The default value of regex will change from True to False in a future version.\n",
      "  data_esp_tot['PUNTO_MUESTREO'] = data_esp_tot['PUNTO_MUESTREO'].str.replace(r'^0', '')\n"
     ]
    }
   ],
   "source": [
    "data_esp_tot['PUNTO_MUESTREO'] = data_esp_tot['PUNTO_MUESTREO'].str.replace(r'_{1}\\w*$', '')\n",
    "data_esp_tot['PUNTO_MUESTREO'] = data_esp_tot['PUNTO_MUESTREO'].str.replace(r'^0', '')"
   ]
  },
  {
   "cell_type": "code",
   "execution_count": 68,
   "metadata": {},
   "outputs": [
    {
     "data": {
      "text/html": [
       "<div>\n",
       "<style scoped>\n",
       "    .dataframe tbody tr th:only-of-type {\n",
       "        vertical-align: middle;\n",
       "    }\n",
       "\n",
       "    .dataframe tbody tr th {\n",
       "        vertical-align: top;\n",
       "    }\n",
       "\n",
       "    .dataframe thead th {\n",
       "        text-align: right;\n",
       "    }\n",
       "</style>\n",
       "<table border=\"1\" class=\"dataframe\">\n",
       "  <thead>\n",
       "    <tr style=\"text-align: right;\">\n",
       "      <th></th>\n",
       "      <th>PROVINCIA</th>\n",
       "      <th>MUNICIPIO</th>\n",
       "      <th>ESTACION</th>\n",
       "      <th>MAGNITUD</th>\n",
       "      <th>PUNTO_MUESTREO</th>\n",
       "      <th>ANNO</th>\n",
       "      <th>MES</th>\n",
       "      <th>MEDIA_MAGS</th>\n",
       "    </tr>\n",
       "  </thead>\n",
       "  <tbody>\n",
       "    <tr>\n",
       "      <th>0</th>\n",
       "      <td>1</td>\n",
       "      <td>59</td>\n",
       "      <td>9</td>\n",
       "      <td>17</td>\n",
       "      <td>1059009</td>\n",
       "      <td>2015</td>\n",
       "      <td>1</td>\n",
       "      <td>0.386194</td>\n",
       "    </tr>\n",
       "    <tr>\n",
       "      <th>1</th>\n",
       "      <td>1</td>\n",
       "      <td>59</td>\n",
       "      <td>9</td>\n",
       "      <td>17</td>\n",
       "      <td>1059009</td>\n",
       "      <td>2015</td>\n",
       "      <td>2</td>\n",
       "      <td>0.436321</td>\n",
       "    </tr>\n",
       "    <tr>\n",
       "      <th>2</th>\n",
       "      <td>1</td>\n",
       "      <td>59</td>\n",
       "      <td>9</td>\n",
       "      <td>17</td>\n",
       "      <td>1059009</td>\n",
       "      <td>2015</td>\n",
       "      <td>3</td>\n",
       "      <td>0.409000</td>\n",
       "    </tr>\n",
       "    <tr>\n",
       "      <th>3</th>\n",
       "      <td>1</td>\n",
       "      <td>59</td>\n",
       "      <td>9</td>\n",
       "      <td>17</td>\n",
       "      <td>1059009</td>\n",
       "      <td>2015</td>\n",
       "      <td>4</td>\n",
       "      <td>0.313067</td>\n",
       "    </tr>\n",
       "    <tr>\n",
       "      <th>4</th>\n",
       "      <td>1</td>\n",
       "      <td>59</td>\n",
       "      <td>9</td>\n",
       "      <td>17</td>\n",
       "      <td>1059009</td>\n",
       "      <td>2015</td>\n",
       "      <td>5</td>\n",
       "      <td>0.266032</td>\n",
       "    </tr>\n",
       "  </tbody>\n",
       "</table>\n",
       "</div>"
      ],
      "text/plain": [
       "   PROVINCIA  MUNICIPIO  ESTACION  MAGNITUD PUNTO_MUESTREO  ANNO  MES  \\\n",
       "0          1         59         9        17        1059009  2015    1   \n",
       "1          1         59         9        17        1059009  2015    2   \n",
       "2          1         59         9        17        1059009  2015    3   \n",
       "3          1         59         9        17        1059009  2015    4   \n",
       "4          1         59         9        17        1059009  2015    5   \n",
       "\n",
       "   MEDIA_MAGS  \n",
       "0    0.386194  \n",
       "1    0.436321  \n",
       "2    0.409000  \n",
       "3    0.313067  \n",
       "4    0.266032  "
      ]
     },
     "execution_count": 68,
     "metadata": {},
     "output_type": "execute_result"
    }
   ],
   "source": [
    "data_esp_tot.head()"
   ]
  },
  {
   "cell_type": "code",
   "execution_count": 69,
   "metadata": {
    "scrolled": true
   },
   "outputs": [
    {
     "name": "stdout",
     "output_type": "stream",
     "text": [
      "<class 'pandas.core.frame.DataFrame'>\n",
      "Int64Index: 53934 entries, 0 to 9891\n",
      "Data columns (total 8 columns):\n",
      " #   Column          Non-Null Count  Dtype  \n",
      "---  ------          --------------  -----  \n",
      " 0   PROVINCIA       53934 non-null  int64  \n",
      " 1   MUNICIPIO       53934 non-null  int64  \n",
      " 2   ESTACION        53934 non-null  int64  \n",
      " 3   MAGNITUD        53934 non-null  int64  \n",
      " 4   PUNTO_MUESTREO  53934 non-null  object \n",
      " 5   ANNO            53934 non-null  int64  \n",
      " 6   MES             53934 non-null  int64  \n",
      " 7   MEDIA_MAGS      53934 non-null  float64\n",
      "dtypes: float64(1), int64(6), object(1)\n",
      "memory usage: 3.7+ MB\n"
     ]
    }
   ],
   "source": [
    "data_esp_tot.info()"
   ]
  },
  {
   "cell_type": "code",
   "execution_count": 70,
   "metadata": {
    "scrolled": true
   },
   "outputs": [],
   "source": [
    "data_esp_ana['MEDIA_MAGS'] = data_esp_ana[l_dias].mean(axis = 1, skipna = True)\n",
    "data_esp_ana.drop(l_dias, axis='columns', inplace=True)\n",
    "data_esp_ana = data_esp_ana[data_esp_ana['MEDIA_MAGS'].notna()]"
   ]
  },
  {
   "cell_type": "code",
   "execution_count": 71,
   "metadata": {
    "scrolled": false
   },
   "outputs": [
    {
     "name": "stderr",
     "output_type": "stream",
     "text": [
      "<ipython-input-71-6b565a575acc>:1: FutureWarning: The default value of regex will change from True to False in a future version.\n",
      "  data_esp_ana['PUNTO_MUESTREO'] = data_esp_ana['PUNTO_MUESTREO'].str.replace(r'_{1}\\w*$', '')\n",
      "<ipython-input-71-6b565a575acc>:2: FutureWarning: The default value of regex will change from True to False in a future version.\n",
      "  data_esp_ana['PUNTO_MUESTREO'] = data_esp_ana['PUNTO_MUESTREO'].str.replace(r'^0', '')\n"
     ]
    }
   ],
   "source": [
    "data_esp_ana['PUNTO_MUESTREO'] = data_esp_ana['PUNTO_MUESTREO'].str.replace(r'_{1}\\w*$', '')\n",
    "data_esp_ana['PUNTO_MUESTREO'] = data_esp_ana['PUNTO_MUESTREO'].str.replace(r'^0', '')"
   ]
  },
  {
   "cell_type": "code",
   "execution_count": 72,
   "metadata": {},
   "outputs": [
    {
     "name": "stdout",
     "output_type": "stream",
     "text": [
      "<class 'pandas.core.frame.DataFrame'>\n",
      "Int64Index: 36578 entries, 0 to 39602\n",
      "Data columns (total 8 columns):\n",
      " #   Column          Non-Null Count  Dtype  \n",
      "---  ------          --------------  -----  \n",
      " 0   PROVINCIA       36578 non-null  int64  \n",
      " 1   MUNICIPIO       36578 non-null  int64  \n",
      " 2   ESTACION        36578 non-null  int64  \n",
      " 3   MAGNITUD        36578 non-null  int64  \n",
      " 4   PUNTO_MUESTREO  36578 non-null  object \n",
      " 5   ANNO            36578 non-null  int64  \n",
      " 6   MES             36578 non-null  int64  \n",
      " 7   MEDIA_MAGS      36578 non-null  float64\n",
      "dtypes: float64(1), int64(6), object(1)\n",
      "memory usage: 2.5+ MB\n"
     ]
    }
   ],
   "source": [
    "data_esp_ana.info()"
   ]
  },
  {
   "cell_type": "code",
   "execution_count": 73,
   "metadata": {},
   "outputs": [
    {
     "data": {
      "text/html": [
       "<div>\n",
       "<style scoped>\n",
       "    .dataframe tbody tr th:only-of-type {\n",
       "        vertical-align: middle;\n",
       "    }\n",
       "\n",
       "    .dataframe tbody tr th {\n",
       "        vertical-align: top;\n",
       "    }\n",
       "\n",
       "    .dataframe thead th {\n",
       "        text-align: right;\n",
       "    }\n",
       "</style>\n",
       "<table border=\"1\" class=\"dataframe\">\n",
       "  <thead>\n",
       "    <tr style=\"text-align: right;\">\n",
       "      <th></th>\n",
       "      <th>PROVINCIA</th>\n",
       "      <th>MUNICIPIO</th>\n",
       "      <th>ESTACION</th>\n",
       "      <th>MAGNITUD</th>\n",
       "      <th>PUNTO_MUESTREO</th>\n",
       "      <th>ANNO</th>\n",
       "      <th>MES</th>\n",
       "      <th>MEDIA_MAGS</th>\n",
       "    </tr>\n",
       "  </thead>\n",
       "  <tbody>\n",
       "    <tr>\n",
       "      <th>0</th>\n",
       "      <td>46</td>\n",
       "      <td>131</td>\n",
       "      <td>2</td>\n",
       "      <td>17</td>\n",
       "      <td>46131002</td>\n",
       "      <td>2017</td>\n",
       "      <td>8</td>\n",
       "      <td>0.206667</td>\n",
       "    </tr>\n",
       "    <tr>\n",
       "      <th>2</th>\n",
       "      <td>3</td>\n",
       "      <td>2</td>\n",
       "      <td>2</td>\n",
       "      <td>17</td>\n",
       "      <td>3002002</td>\n",
       "      <td>2017</td>\n",
       "      <td>8</td>\n",
       "      <td>0.306250</td>\n",
       "    </tr>\n",
       "    <tr>\n",
       "      <th>3</th>\n",
       "      <td>3</td>\n",
       "      <td>133</td>\n",
       "      <td>2</td>\n",
       "      <td>17</td>\n",
       "      <td>3133002</td>\n",
       "      <td>2017</td>\n",
       "      <td>8</td>\n",
       "      <td>2.754167</td>\n",
       "    </tr>\n",
       "    <tr>\n",
       "      <th>4</th>\n",
       "      <td>12</td>\n",
       "      <td>135</td>\n",
       "      <td>4</td>\n",
       "      <td>17</td>\n",
       "      <td>12135004</td>\n",
       "      <td>2017</td>\n",
       "      <td>8</td>\n",
       "      <td>0.593333</td>\n",
       "    </tr>\n",
       "    <tr>\n",
       "      <th>5</th>\n",
       "      <td>46</td>\n",
       "      <td>250</td>\n",
       "      <td>43</td>\n",
       "      <td>17</td>\n",
       "      <td>46250043</td>\n",
       "      <td>2017</td>\n",
       "      <td>8</td>\n",
       "      <td>0.323333</td>\n",
       "    </tr>\n",
       "  </tbody>\n",
       "</table>\n",
       "</div>"
      ],
      "text/plain": [
       "   PROVINCIA  MUNICIPIO  ESTACION  MAGNITUD PUNTO_MUESTREO  ANNO  MES  \\\n",
       "0         46        131         2        17       46131002  2017    8   \n",
       "2          3          2         2        17        3002002  2017    8   \n",
       "3          3        133         2        17        3133002  2017    8   \n",
       "4         12        135         4        17       12135004  2017    8   \n",
       "5         46        250        43        17       46250043  2017    8   \n",
       "\n",
       "   MEDIA_MAGS  \n",
       "0    0.206667  \n",
       "2    0.306250  \n",
       "3    2.754167  \n",
       "4    0.593333  \n",
       "5    0.323333  "
      ]
     },
     "execution_count": 73,
     "metadata": {},
     "output_type": "execute_result"
    }
   ],
   "source": [
    "data_esp_ana.head()"
   ]
  },
  {
   "cell_type": "markdown",
   "metadata": {},
   "source": [
    "## DATA MADRID"
   ]
  },
  {
   "cell_type": "markdown",
   "metadata": {},
   "source": [
    "### OBTAINING DATA WITH API OF QUALITY OF AIR"
   ]
  },
  {
   "cell_type": "markdown",
   "metadata": {},
   "source": [
    "Madrid's City as a more data on the air quality, so we obtain it trough an API to enrich our Data."
   ]
  },
  {
   "cell_type": "code",
   "execution_count": 74,
   "metadata": {},
   "outputs": [
    {
     "name": "stdout",
     "output_type": "stream",
     "text": [
      "200\n"
     ]
    }
   ],
   "source": [
    "response = requests.get(\"https://datos.madrid.es/egob/catalogo/keyword/aire.json?_page=0\")\n",
    "print(response.status_code)"
   ]
  },
  {
   "cell_type": "code",
   "execution_count": 75,
   "metadata": {},
   "outputs": [],
   "source": [
    "urlcomp = 'https://datos.madrid.es/egob/catalogo/201410-10306612-calidad-aire-diario.csv'\n",
    "headers = {'authorization': \"Basic API Key Ommitted\", 'accept': \"application/json\", 'accept': \"text/csv\"}"
   ]
  },
  {
   "cell_type": "code",
   "execution_count": 76,
   "metadata": {},
   "outputs": [],
   "source": [
    "rcomp = requests.get(urlcomp, headers=headers)\n",
    "data_21 = rcomp.text"
   ]
  },
  {
   "cell_type": "code",
   "execution_count": 77,
   "metadata": {},
   "outputs": [],
   "source": [
    "AirQ_21_Mad = pd.DataFrame([x.split(';') for x in data_21.split('\\n')])"
   ]
  },
  {
   "cell_type": "code",
   "execution_count": 78,
   "metadata": {},
   "outputs": [],
   "source": [
    "new_header = AirQ_21_Mad.iloc[0]\n",
    "AirQ_21_Mad = AirQ_21_Mad[1:]\n",
    "AirQ_21_Mad.columns = new_header"
   ]
  },
  {
   "cell_type": "code",
   "execution_count": 79,
   "metadata": {
    "scrolled": true
   },
   "outputs": [],
   "source": [
    "urlcomp = 'https://datos.madrid.es/egob/catalogo/201410-10306609-calidad-aire-diario.csv'\n",
    "headers = {'authorization': \"Basic API Key Ommitted\", 'accept': \"application/json\", 'accept': \"text/csv\"}"
   ]
  },
  {
   "cell_type": "code",
   "execution_count": 80,
   "metadata": {},
   "outputs": [],
   "source": [
    "rcomp = requests.get(urlcomp, headers=headers)\n",
    "data_20 = rcomp.text"
   ]
  },
  {
   "cell_type": "code",
   "execution_count": 81,
   "metadata": {},
   "outputs": [],
   "source": [
    "AirQ_20_Mad = pd.DataFrame([x.split(';') for x in data_20.split('\\n')])"
   ]
  },
  {
   "cell_type": "code",
   "execution_count": 82,
   "metadata": {},
   "outputs": [],
   "source": [
    "new_header = AirQ_20_Mad.iloc[0]\n",
    "AirQ_20_Mad = AirQ_20_Mad[1:]\n",
    "AirQ_20_Mad.columns = new_header"
   ]
  },
  {
   "cell_type": "code",
   "execution_count": 83,
   "metadata": {},
   "outputs": [],
   "source": [
    "urlcomp = 'https://datos.madrid.es/egob/catalogo/201410-10306606-calidad-aire-diario.csv'\n",
    "headers = {'authorization': \"Basic API Key Ommitted\", 'accept': \"application/json\", 'accept': \"text/csv\"}\n",
    "rcomp = requests.get(urlcomp, headers=headers)\n",
    "data_19 = rcomp.text"
   ]
  },
  {
   "cell_type": "code",
   "execution_count": 84,
   "metadata": {
    "scrolled": false
   },
   "outputs": [],
   "source": [
    "AirQ_19_Mad = pd.DataFrame([x.split(';') for x in data_19.split('\\n')])"
   ]
  },
  {
   "cell_type": "code",
   "execution_count": 85,
   "metadata": {},
   "outputs": [],
   "source": [
    "new_header = AirQ_19_Mad.iloc[0]\n",
    "AirQ_19_Mad = AirQ_19_Mad[1:]\n",
    "AirQ_19_Mad.columns = new_header"
   ]
  },
  {
   "cell_type": "code",
   "execution_count": 86,
   "metadata": {
    "scrolled": false
   },
   "outputs": [
    {
     "data": {
      "text/html": [
       "<div>\n",
       "<style scoped>\n",
       "    .dataframe tbody tr th:only-of-type {\n",
       "        vertical-align: middle;\n",
       "    }\n",
       "\n",
       "    .dataframe tbody tr th {\n",
       "        vertical-align: top;\n",
       "    }\n",
       "\n",
       "    .dataframe thead th {\n",
       "        text-align: right;\n",
       "    }\n",
       "</style>\n",
       "<table border=\"1\" class=\"dataframe\">\n",
       "  <thead>\n",
       "    <tr style=\"text-align: right;\">\n",
       "      <th></th>\n",
       "      <th>PROVINCIA</th>\n",
       "      <th>MUNICIPIO</th>\n",
       "      <th>ESTACION</th>\n",
       "      <th>MAGNITUD</th>\n",
       "      <th>PUNTO_MUESTREO</th>\n",
       "      <th>ANO</th>\n",
       "      <th>MES</th>\n",
       "      <th>D01</th>\n",
       "      <th>V01</th>\n",
       "      <th>D02</th>\n",
       "      <th>...</th>\n",
       "      <th>D27</th>\n",
       "      <th>V27</th>\n",
       "      <th>D28</th>\n",
       "      <th>V28</th>\n",
       "      <th>D29</th>\n",
       "      <th>V29</th>\n",
       "      <th>D30</th>\n",
       "      <th>V30</th>\n",
       "      <th>D31</th>\n",
       "      <th>V31</th>\n",
       "    </tr>\n",
       "  </thead>\n",
       "  <tbody>\n",
       "    <tr>\n",
       "      <th>1</th>\n",
       "      <td>28</td>\n",
       "      <td>079</td>\n",
       "      <td>4</td>\n",
       "      <td>1</td>\n",
       "      <td>28079004_1_38</td>\n",
       "      <td>2019</td>\n",
       "      <td>01</td>\n",
       "      <td>00018</td>\n",
       "      <td>V</td>\n",
       "      <td>00020</td>\n",
       "      <td>...</td>\n",
       "      <td>00015</td>\n",
       "      <td>V</td>\n",
       "      <td>00015</td>\n",
       "      <td>V</td>\n",
       "      <td>00015</td>\n",
       "      <td>V</td>\n",
       "      <td>00014</td>\n",
       "      <td>V</td>\n",
       "      <td>00014</td>\n",
       "      <td>V</td>\n",
       "    </tr>\n",
       "    <tr>\n",
       "      <th>2</th>\n",
       "      <td>28</td>\n",
       "      <td>079</td>\n",
       "      <td>4</td>\n",
       "      <td>1</td>\n",
       "      <td>28079004_1_38</td>\n",
       "      <td>2019</td>\n",
       "      <td>02</td>\n",
       "      <td>00013</td>\n",
       "      <td>V</td>\n",
       "      <td>00013</td>\n",
       "      <td>...</td>\n",
       "      <td>00019</td>\n",
       "      <td>V</td>\n",
       "      <td>00020</td>\n",
       "      <td>V</td>\n",
       "      <td>00000</td>\n",
       "      <td>N</td>\n",
       "      <td>00000</td>\n",
       "      <td>N</td>\n",
       "      <td>00000</td>\n",
       "      <td>N</td>\n",
       "    </tr>\n",
       "    <tr>\n",
       "      <th>3</th>\n",
       "      <td>28</td>\n",
       "      <td>079</td>\n",
       "      <td>4</td>\n",
       "      <td>1</td>\n",
       "      <td>28079004_1_38</td>\n",
       "      <td>2019</td>\n",
       "      <td>03</td>\n",
       "      <td>00018</td>\n",
       "      <td>V</td>\n",
       "      <td>00018</td>\n",
       "      <td>...</td>\n",
       "      <td>00006</td>\n",
       "      <td>V</td>\n",
       "      <td>00007</td>\n",
       "      <td>V</td>\n",
       "      <td>00006</td>\n",
       "      <td>V</td>\n",
       "      <td>00004</td>\n",
       "      <td>V</td>\n",
       "      <td>00004</td>\n",
       "      <td>V</td>\n",
       "    </tr>\n",
       "    <tr>\n",
       "      <th>4</th>\n",
       "      <td>28</td>\n",
       "      <td>079</td>\n",
       "      <td>4</td>\n",
       "      <td>1</td>\n",
       "      <td>28079004_1_38</td>\n",
       "      <td>2019</td>\n",
       "      <td>04</td>\n",
       "      <td>00003</td>\n",
       "      <td>V</td>\n",
       "      <td>00004</td>\n",
       "      <td>...</td>\n",
       "      <td>00003</td>\n",
       "      <td>V</td>\n",
       "      <td>00002</td>\n",
       "      <td>V</td>\n",
       "      <td>00002</td>\n",
       "      <td>V</td>\n",
       "      <td>00002</td>\n",
       "      <td>V</td>\n",
       "      <td>00000</td>\n",
       "      <td>N</td>\n",
       "    </tr>\n",
       "    <tr>\n",
       "      <th>5</th>\n",
       "      <td>28</td>\n",
       "      <td>079</td>\n",
       "      <td>4</td>\n",
       "      <td>1</td>\n",
       "      <td>28079004_1_38</td>\n",
       "      <td>2019</td>\n",
       "      <td>05</td>\n",
       "      <td>00001</td>\n",
       "      <td>V</td>\n",
       "      <td>00001</td>\n",
       "      <td>...</td>\n",
       "      <td>00002</td>\n",
       "      <td>V</td>\n",
       "      <td>00001</td>\n",
       "      <td>V</td>\n",
       "      <td>00001</td>\n",
       "      <td>V</td>\n",
       "      <td>00001</td>\n",
       "      <td>V</td>\n",
       "      <td>00002</td>\n",
       "      <td>V</td>\n",
       "    </tr>\n",
       "  </tbody>\n",
       "</table>\n",
       "<p>5 rows × 69 columns</p>\n",
       "</div>"
      ],
      "text/plain": [
       "0 PROVINCIA MUNICIPIO ESTACION MAGNITUD PUNTO_MUESTREO   ANO MES    D01 V01  \\\n",
       "1        28       079        4        1  28079004_1_38  2019  01  00018   V   \n",
       "2        28       079        4        1  28079004_1_38  2019  02  00013   V   \n",
       "3        28       079        4        1  28079004_1_38  2019  03  00018   V   \n",
       "4        28       079        4        1  28079004_1_38  2019  04  00003   V   \n",
       "5        28       079        4        1  28079004_1_38  2019  05  00001   V   \n",
       "\n",
       "0    D02  ...    D27 V27    D28 V28    D29 V29    D30 V30    D31 V31  \n",
       "1  00020  ...  00015   V  00015   V  00015   V  00014   V  00014   V  \n",
       "2  00013  ...  00019   V  00020   V  00000   N  00000   N  00000   N  \n",
       "3  00018  ...  00006   V  00007   V  00006   V  00004   V  00004   V  \n",
       "4  00004  ...  00003   V  00002   V  00002   V  00002   V  00000   N  \n",
       "5  00001  ...  00002   V  00001   V  00001   V  00001   V  00002   V  \n",
       "\n",
       "[5 rows x 69 columns]"
      ]
     },
     "execution_count": 86,
     "metadata": {},
     "output_type": "execute_result"
    }
   ],
   "source": [
    "AirQ_19_Mad.head()"
   ]
  },
  {
   "cell_type": "code",
   "execution_count": 87,
   "metadata": {},
   "outputs": [
    {
     "ename": "NameError",
     "evalue": "name 'dfdsfg' is not defined",
     "output_type": "error",
     "traceback": [
      "\u001b[0;31m---------------------------------------------------------------------------\u001b[0m",
      "\u001b[0;31mNameError\u001b[0m                                 Traceback (most recent call last)",
      "\u001b[0;32m<ipython-input-87-630d615f9293>\u001b[0m in \u001b[0;36m<module>\u001b[0;34m\u001b[0m\n\u001b[0;32m----> 1\u001b[0;31m \u001b[0mdfdsfg\u001b[0m\u001b[0;34m\u001b[0m\u001b[0;34m\u001b[0m\u001b[0m\n\u001b[0m",
      "\u001b[0;31mNameError\u001b[0m: name 'dfdsfg' is not defined"
     ]
    }
   ],
   "source": [
    "dfdsfg"
   ]
  },
  {
   "cell_type": "code",
   "execution_count": null,
   "metadata": {},
   "outputs": [],
   "source": [
    "AirQ_20_Mad.head()"
   ]
  },
  {
   "cell_type": "code",
   "execution_count": null,
   "metadata": {},
   "outputs": [],
   "source": [
    "AirQ_21_Mad.head()"
   ]
  },
  {
   "cell_type": "code",
   "execution_count": null,
   "metadata": {},
   "outputs": [],
   "source": [
    "to_concat = [AirQ_21_Mad, AirQ_20_Mad, AirQ_19_Mad]\n",
    "data_mad_19_20_21 = pd.concat(to_concat, ignore_index = True)"
   ]
  },
  {
   "cell_type": "code",
   "execution_count": null,
   "metadata": {},
   "outputs": [],
   "source": [
    "data_mad_19_20_21.head()"
   ]
  },
  {
   "cell_type": "code",
   "execution_count": null,
   "metadata": {},
   "outputs": [],
   "source": [
    "data_mad_19_20_21= data_mad_19_20_21.drop(data_mad_19_20_21.filter(regex='V\\d').columns, axis=1)"
   ]
  },
  {
   "cell_type": "code",
   "execution_count": null,
   "metadata": {},
   "outputs": [],
   "source": [
    "data_mad_19_20_21.info()"
   ]
  },
  {
   "cell_type": "code",
   "execution_count": null,
   "metadata": {},
   "outputs": [],
   "source": [
    "l = ['D01', 'D02', 'D03', 'D04', 'D05', 'D06', 'D07', 'D08','D09', 'D10', 'D11', 'D12', 'D13', 'D14', 'D15', 'D16', 'D17', 'D18', 'D19', 'D20', 'D21', 'D22', 'D23', 'D24', 'D25', 'D26', 'D27', 'D28','D29', 'D30', 'D31']\n",
    "data_mad_19_20_21[l] = data_mad_19_20_21[l].apply(pd.to_numeric, errors='coerce')"
   ]
  },
  {
   "cell_type": "code",
   "execution_count": null,
   "metadata": {},
   "outputs": [],
   "source": [
    "data_mad_19_20_21['MEDIA_VAL'] = data_mad_19_20_21[l].mean(axis = 1, skipna = True)"
   ]
  },
  {
   "cell_type": "code",
   "execution_count": null,
   "metadata": {},
   "outputs": [],
   "source": [
    "data_mad_19_20_21 = data_mad_19_20_21[['PROVINCIA', 'ANO', 'MAGNITUD', 'PUNTO_MUESTREO', 'MES', 'MEDIA_VAL']].groupby(['PROVINCIA', 'ANO', 'MAGNITUD', 'MES', 'PUNTO_MUESTREO']).mean()"
   ]
  },
  {
   "cell_type": "code",
   "execution_count": null,
   "metadata": {},
   "outputs": [],
   "source": [
    "data_mad_19_20_21"
   ]
  },
  {
   "cell_type": "code",
   "execution_count": null,
   "metadata": {},
   "outputs": [],
   "source": [
    "data_mad_19_20_21.reset_index(level=0, inplace=True)\n",
    "data_mad_19_20_21.reset_index(level=0, inplace=True)\n",
    "data_mad_19_20_21.reset_index(level=0, inplace=True)\n",
    "data_mad_19_20_21.reset_index(level=0, inplace=True)\n",
    "data_mad_19_20_21.reset_index(level=0, inplace=True)"
   ]
  },
  {
   "cell_type": "code",
   "execution_count": null,
   "metadata": {},
   "outputs": [],
   "source": [
    "data_mad_19_20_21['PUNTO_MUESTREO'] = data_mad_19_20_21['PUNTO_MUESTREO'].str.replace(r'_{1}\\w*$', '')\n",
    "data_mad_19_20_21['PUNTO_MUESTREO'] = data_mad_19_20_21['PUNTO_MUESTREO'].str.replace(r'^0', '')"
   ]
  },
  {
   "cell_type": "code",
   "execution_count": null,
   "metadata": {},
   "outputs": [],
   "source": [
    "data_mad_19_20_21.head()"
   ]
  },
  {
   "cell_type": "code",
   "execution_count": null,
   "metadata": {},
   "outputs": [],
   "source": [
    "est_mad = pd.read_csv('./data/data_aire_mad/Estaciones_mad.CSV', sep = ';')"
   ]
  },
  {
   "cell_type": "code",
   "execution_count": null,
   "metadata": {},
   "outputs": [],
   "source": [
    "est_mad.columns"
   ]
  },
  {
   "cell_type": "code",
   "execution_count": null,
   "metadata": {},
   "outputs": [],
   "source": []
  },
  {
   "cell_type": "code",
   "execution_count": null,
   "metadata": {
    "scrolled": true
   },
   "outputs": [],
   "source": [
    "#df_new = df.rename(columns={'A': 'Col_1'}, index={'ONE': 'Row_1'})\n",
    "est_mad = est_mad.rename(columns= {'CODIGO':'PUNTO_MUESTREO'})\n",
    "est_mad = est_mad.drop(['ESTACION', 'DIRECCION', 'ALTITUD', 'COD_TIPO', 'NOM_TIPO', 'NO2', 'SO2', 'CO', 'PM10', 'PM2_5', 'O3', 'BTX', 'COD_VIA', 'VIA_CLASE', 'VIA_PAR', 'VIA_NOMBRE', 'Fecha alta'], axis=1)\n",
    "est_mad.head()"
   ]
  },
  {
   "cell_type": "code",
   "execution_count": null,
   "metadata": {},
   "outputs": [],
   "source": [
    "est_mad.info()"
   ]
  },
  {
   "cell_type": "code",
   "execution_count": null,
   "metadata": {},
   "outputs": [],
   "source": [
    "data_mad_19_20_21.info()"
   ]
  },
  {
   "cell_type": "code",
   "execution_count": null,
   "metadata": {},
   "outputs": [],
   "source": [
    "data_mad_19_20_21.PUNTO_MUESTREO = data_mad_19_20_21.PUNTO_MUESTREO.apply(pd.to_numeric, errors='coerce')"
   ]
  },
  {
   "cell_type": "code",
   "execution_count": null,
   "metadata": {},
   "outputs": [],
   "source": [
    "data_mad_19_20_21 = data_mad_19_20_21.merge(est_mad, on='PUNTO_MUESTREO', how='outer')"
   ]
  },
  {
   "cell_type": "code",
   "execution_count": null,
   "metadata": {},
   "outputs": [],
   "source": [
    "data_mad_19_20_21.head()"
   ]
  },
  {
   "cell_type": "code",
   "execution_count": null,
   "metadata": {
    "scrolled": true
   },
   "outputs": [],
   "source": [
    "data_mad_19_20_21.MES.unique()"
   ]
  },
  {
   "cell_type": "markdown",
   "metadata": {},
   "source": []
  },
  {
   "cell_type": "code",
   "execution_count": null,
   "metadata": {},
   "outputs": [],
   "source": []
  },
  {
   "cell_type": "code",
   "execution_count": null,
   "metadata": {},
   "outputs": [],
   "source": [
    "lv = []\n",
    "for i in range(1,10):\n",
    "    lv.append(f'V0{i}')\n",
    "for i in range(10, 32):\n",
    "    lv.append(f'V{i}')\n",
    "\n",
    "ld = []\n",
    "for i in range(1,10):\n",
    "    ld.append(f'D0{i}')\n",
    "for i in range(10, 32):\n",
    "    ld.append(f'D{i}')"
   ]
  },
  {
   "cell_type": "code",
   "execution_count": null,
   "metadata": {},
   "outputs": [],
   "source": [
    "data_mad_19_20_21.head()"
   ]
  },
  {
   "cell_type": "code",
   "execution_count": null,
   "metadata": {},
   "outputs": [],
   "source": [
    "data_mad_19_20_21"
   ]
  },
  {
   "cell_type": "code",
   "execution_count": null,
   "metadata": {},
   "outputs": [],
   "source": [
    "AirQ_19_Mad.head()"
   ]
  },
  {
   "cell_type": "code",
   "execution_count": null,
   "metadata": {},
   "outputs": [],
   "source": [
    "AirQ_19_Mad = AirQ_19_Mad.rename(columns = {'ANO': 'ANNO'}, inplace = False)"
   ]
  },
  {
   "cell_type": "markdown",
   "metadata": {},
   "source": [
    "We use only the data of 2019, since there is still no more recent data available of matriculations."
   ]
  },
  {
   "cell_type": "markdown",
   "metadata": {},
   "source": [
    "### COMPLETE DATA FROM ESP AND MADRID"
   ]
  },
  {
   "cell_type": "code",
   "execution_count": null,
   "metadata": {},
   "outputs": [],
   "source": [
    "to_concat = [data_tot_esp, AirQ_19_Mad]\n",
    "data_tot_esp_mad19 = pd.concat(to_concat, ignore_index = True)"
   ]
  },
  {
   "cell_type": "markdown",
   "metadata": {},
   "source": [
    "Dropping last column due to Nones:"
   ]
  },
  {
   "cell_type": "code",
   "execution_count": null,
   "metadata": {},
   "outputs": [],
   "source": [
    "data_tot_esp_mad19.drop(data_tot_esp_mad19.tail(1).index,inplace=True) # drop last n rows\n",
    "data_tot_esp_mad19"
   ]
  },
  {
   "cell_type": "markdown",
   "metadata": {},
   "source": [
    "With Regex we eliminate the end of the str in 'PUNTO_MUESTREO' in order to have it in with the same structre as in the dataframe 'estaciones'. Also the '0' at the start of the string have to be eliminated."
   ]
  },
  {
   "cell_type": "code",
   "execution_count": null,
   "metadata": {
    "scrolled": true
   },
   "outputs": [],
   "source": [
    "data_tot_esp_mad19['PUNTO_MUESTREO'] = data_tot_esp_mad19['PUNTO_MUESTREO'].str.replace(r'_{1}\\w*$', '')\n",
    "data_tot_esp_mad19['PUNTO_MUESTREO'] = data_tot_esp_mad19['PUNTO_MUESTREO'].str.replace(r'^0', '')"
   ]
  },
  {
   "cell_type": "code",
   "execution_count": null,
   "metadata": {},
   "outputs": [],
   "source": [
    "data_tot_esp_mad19.info()"
   ]
  },
  {
   "cell_type": "code",
   "execution_count": null,
   "metadata": {},
   "outputs": [],
   "source": [
    "l = ['D01', 'D02', 'D03', 'D04', 'D05', 'D06', 'D07', 'D08','D09', 'D10', 'D11', 'D12', 'D13', 'D14', 'D15', 'D16', 'D17', 'D18', 'D19', 'D20', 'D21', 'D22', 'D23', 'D24', 'D25', 'D26', 'D27', 'D28','D29', 'D30', 'D31']\n",
    "data_tot_esp_mad19[l] = data_tot_esp_mad19[l].apply(pd.to_numeric, errors='coerce')"
   ]
  },
  {
   "cell_type": "code",
   "execution_count": null,
   "metadata": {},
   "outputs": [],
   "source": [
    "data_tot_esp_mad19['MEDIA_VAL'] = data_tot_esp_mad19[l].mean(axis = 1, skipna = True)"
   ]
  },
  {
   "cell_type": "code",
   "execution_count": null,
   "metadata": {
    "scrolled": true
   },
   "outputs": [],
   "source": [
    "data_tot_esp_mad19.dropna(subset=['MEDIA_VAL']).reset_index()"
   ]
  },
  {
   "cell_type": "code",
   "execution_count": null,
   "metadata": {},
   "outputs": [],
   "source": [
    "air_q_tot = data_tot_esp_mad19[['PROVINCIA', 'ANNO', 'MAGNITUD', 'MES', 'MEDIA_VAL']].groupby(['PROVINCIA', 'ANNO', 'MAGNITUD', 'MES']).mean()"
   ]
  },
  {
   "cell_type": "code",
   "execution_count": null,
   "metadata": {},
   "outputs": [],
   "source": [
    "air_q_tot.head()"
   ]
  },
  {
   "cell_type": "code",
   "execution_count": null,
   "metadata": {},
   "outputs": [],
   "source": [
    "a_copy = air_q_tot.copy()"
   ]
  },
  {
   "cell_type": "code",
   "execution_count": null,
   "metadata": {},
   "outputs": [],
   "source": [
    "a_copy.reset_index(level=0, inplace=True)\n",
    "a_copy.reset_index(level=0, inplace=True)\n",
    "a_copy.reset_index(level=0, inplace=True)\n",
    "a_copy.reset_index(level=0, inplace=True)"
   ]
  },
  {
   "cell_type": "code",
   "execution_count": null,
   "metadata": {},
   "outputs": [],
   "source": [
    "a_copy"
   ]
  },
  {
   "cell_type": "markdown",
   "metadata": {},
   "source": [
    "\n",
    "### MEASUREMENT STATIONS"
   ]
  },
  {
   "cell_type": "code",
   "execution_count": null,
   "metadata": {},
   "outputs": [],
   "source": [
    "estaciones15 = pd.read_excel('./data/data_aire_esp/datos2015_tcm30-425989/Estaciones y magnitudes evaluaci¢n 2015.xls', sheet_name = 'estaciones_evaluación_2015', header = 0)\n",
    "estaciones15.info()\n",
    "estaciones15.head()"
   ]
  },
  {
   "cell_type": "code",
   "execution_count": null,
   "metadata": {},
   "outputs": [],
   "source": [
    "estaciones = pd.read_excel('./data/data_aire_esp/estacionesymagnitudes_2018_tcm30-501408.xlsx', sheet_name = 'Estaciones_evaluacion_2018', header = 0)\n",
    "estaciones.info()\n",
    "estaciones.head()"
   ]
  },
  {
   "cell_type": "markdown",
   "metadata": {},
   "source": [
    "CARGAR DATOS DE ESTACIONES"
   ]
  },
  {
   "cell_type": "markdown",
   "metadata": {},
   "source": [
    "## MATRICULATIONS DATA"
   ]
  },
  {
   "cell_type": "markdown",
   "metadata": {},
   "source": [
    "### CAR MATRICULATIONS"
   ]
  },
  {
   "cell_type": "code",
   "execution_count": null,
   "metadata": {
    "scrolled": true
   },
   "outputs": [],
   "source": [
    "m_t_e_19 = pd.read_excel('./data/data_matriculaciones/matriculaciones_2019_a.xlsx', sheet_name = 'M_TUR_MEDIO', header = 2)\n",
    "m_t_e_19['ANNO'] = 2019\n",
    "m_t_e_19['VEHICULO'] = 'Turismo'\n",
    "m_t_e_19.head()"
   ]
  },
  {
   "cell_type": "code",
   "execution_count": null,
   "metadata": {},
   "outputs": [],
   "source": [
    "m_t_e_18 = pd.read_excel('./data/data_matriculaciones/matriculaciones_2018_a.xlsx', sheet_name = 'M_TUR_MEDIO', header = 2)\n",
    "m_t_e_18['ANNO'] = 2018\n",
    "m_t_e_18['VEHICULO'] = 'Turismo'\n",
    "m_t_e_18.head()"
   ]
  },
  {
   "cell_type": "code",
   "execution_count": null,
   "metadata": {},
   "outputs": [],
   "source": [
    "m_t_e_17 = pd.read_excel('./data/data_matriculaciones/matriculaciones_2017_a.xlsx', sheet_name = 'M_TUR_MEDIO', header = 2)\n",
    "m_t_e_17['ANNO'] = 2017\n",
    "m_t_e_17['VEHICULO'] = 'Turismo'\n",
    "m_t_e_17.head()"
   ]
  },
  {
   "cell_type": "markdown",
   "metadata": {},
   "source": [
    "### MOTORCICLE MATRICULATIONS"
   ]
  },
  {
   "cell_type": "code",
   "execution_count": null,
   "metadata": {},
   "outputs": [],
   "source": [
    "m_m_e_19 = pd.read_excel('./data/data_matriculaciones/matriculaciones_2019_a.xlsx', sheet_name = 'M_MOTO_MEDIO', header = 2)\n",
    "m_m_e_19['ANNO'] = 2019\n",
    "m_m_e_19['VEHICULO'] = 'Moto'\n",
    "m_m_e_19.head()"
   ]
  },
  {
   "cell_type": "code",
   "execution_count": null,
   "metadata": {},
   "outputs": [],
   "source": [
    "m_m_e_18 = pd.read_excel('./data/data_matriculaciones/matriculaciones_2018_a.xlsx', sheet_name = 'M_MOTO_MEDIO', header = 2)\n",
    "m_m_e_18['ANNO'] = 2018\n",
    "m_m_e_18['VEHICULO'] = 'Moto'\n",
    "m_m_e_18.head()"
   ]
  },
  {
   "cell_type": "code",
   "execution_count": null,
   "metadata": {
    "scrolled": true
   },
   "outputs": [],
   "source": [
    "m_m_e_17 = pd.read_excel('./data/data_matriculaciones/matriculaciones_2017_a.xlsx', sheet_name = 'M_MOTO_MEDIO', header = 2)\n",
    "m_m_e_17['ANNO'] = 2017\n",
    "m_m_e_17['VEHICULO'] = 'Moto'\n",
    "m_m_e_17.head()"
   ]
  },
  {
   "cell_type": "code",
   "execution_count": null,
   "metadata": {},
   "outputs": [],
   "source": [
    "to_concat = [m_t_e_19, m_t_e_18, m_t_e_17, m_m_e_19, m_m_e_18, m_m_e_19]\n",
    "mat_tot = pd.concat(to_concat, ignore_index = True)\n",
    "mat_tot = mat_tot.rename(columns = {'Sin\\ndistintivo': 'Sin_distintivo', 'Se\\ndesconoce': 'Se_desconoce' }, inplace = False)\n",
    "mat_tot.head()"
   ]
  },
  {
   "cell_type": "code",
   "execution_count": null,
   "metadata": {},
   "outputs": [],
   "source": [
    "mat_tot['MES'] = mat_tot.MES.astype(str)\n",
    "mat_tot['MES'] = mat_tot['MES'].str.replace(r'.0$', '')\n",
    "mat_tot['ANNO'] = mat_tot.ANNO.astype(str)\n",
    "mat_tot.info()"
   ]
  },
  {
   "cell_type": "code",
   "execution_count": null,
   "metadata": {},
   "outputs": [],
   "source": [
    "mat_tot['MES_ANNO'] = mat_tot['MES'] + \"/\" + mat_tot['ANNO']"
   ]
  },
  {
   "cell_type": "code",
   "execution_count": null,
   "metadata": {},
   "outputs": [],
   "source": [
    "mat_tot.head()"
   ]
  },
  {
   "cell_type": "code",
   "execution_count": null,
   "metadata": {},
   "outputs": [],
   "source": [
    "mat_tot.PROVINCIAS.unique()"
   ]
  },
  {
   "cell_type": "code",
   "execution_count": null,
   "metadata": {},
   "outputs": [],
   "source": [
    "mat_tot_suma_años = mat_tot[['PROVINCIAS', 'CERO', 'ECO', 'B', 'C']].groupby(['PROVINCIAS']).sum()\n",
    "mat_tot_suma_años.reset_index(level=0, inplace=True)"
   ]
  },
  {
   "cell_type": "code",
   "execution_count": null,
   "metadata": {},
   "outputs": [],
   "source": [
    "mat_tot_suma_años['PROVINCIAS'] = mat_tot_suma_años['PROVINCIAS'].str.replace(r'Alicante/Alacant', 'Alicante') #Alicante\n",
    "mat_tot_suma_años['PROVINCIAS'] = mat_tot_suma_años['PROVINCIAS'].str.replace(r'Araba/Álava', 'Álava')\n",
    "mat_tot_suma_años['PROVINCIAS'] = mat_tot_suma_años['PROVINCIAS'].str.replace(r'Balears \\WIlles\\W', 'Baleares') #Islas Baleares\n",
    "mat_tot_suma_años['PROVINCIAS'] = mat_tot_suma_años['PROVINCIAS'].str.replace(r'Bizkaia', 'Vizcaya')\n",
    "mat_tot_suma_años['PROVINCIAS'] = mat_tot_suma_años['PROVINCIAS'].str.replace(r'Castellón/Castelló', 'Castelló') #Castellón\n",
    "mat_tot_suma_años['PROVINCIAS'] = mat_tot_suma_años['PROVINCIAS'].str.replace(r'Coruña \\WA\\W', 'A Coruña') # La Coruña\n",
    "mat_tot_suma_años['PROVINCIAS'] = mat_tot_suma_años['PROVINCIAS'].str.replace(r'Gipuzkoa', 'Guipúzcoa')\n",
    "mat_tot_suma_años['PROVINCIAS'] = mat_tot_suma_años['PROVINCIAS'].str.replace(r'Rioja \\WLa\\W', 'La Rioja')\n",
    "mat_tot_suma_años['PROVINCIAS'] = mat_tot_suma_años['PROVINCIAS'].str.replace(r'Valencia/València', 'Valencia')\n",
    "#mat_tot_suma_años['PROVINCIAS'] = mat_tot_suma_años['PROVINCIAS'].str.replace(r'Girona', 'Gerona')\n",
    "mat_tot_suma_años['PROVINCIAS'] = mat_tot_suma_años['PROVINCIAS'].str.replace(r'Palmas \\WLas\\W', 'Las Palmas')\n",
    "# mat_tot_suma_años['PROVINCIAS'] = mat_tot_suma_años['PROVINCIAS'].str.replace(r'Ourense', 'Orense')"
   ]
  },
  {
   "cell_type": "markdown",
   "metadata": {},
   "source": [
    "### DATA ESTACIONES"
   ]
  },
  {
   "cell_type": "code",
   "execution_count": null,
   "metadata": {},
   "outputs": [],
   "source": [
    "estaciones['N_PROVINCIA'] = estaciones['N_PROVINCIA'].str.lower()\n",
    "estaciones['N_PROVINCIA'] = estaciones['N_PROVINCIA'].str.capitalize()"
   ]
  },
  {
   "cell_type": "code",
   "execution_count": null,
   "metadata": {},
   "outputs": [],
   "source": [
    "estaciones['N_PROVINCIA'] = estaciones['N_PROVINCIA'].str.replace(r'Álava', 'Araba/Álava')\n",
    "estaciones['N_PROVINCIA'] = estaciones['N_PROVINCIA'].str.replace(r'Alicante/alacant', 'Alicante/Alacant')\n",
    "estaciones['N_PROVINCIA'] = estaciones['N_PROVINCIA'].str.replace(r'Balears \\W[a-z]+\\W', 'Balears (Illes)')\n",
    "estaciones['N_PROVINCIA'] = estaciones['N_PROVINCIA'].str.replace(r'Castellón/castelló', 'Castellón/Castelló')\n",
    "estaciones['N_PROVINCIA'] = estaciones['N_PROVINCIA'].str.replace(r'Coruña \\W[a-z]+\\W', 'Coruña (A)')\n",
    "estaciones['N_PROVINCIA'] = estaciones['N_PROVINCIA'].str.replace(r'Guipúzcoa', 'Gipuzkoa')\n",
    "estaciones['N_PROVINCIA'] = estaciones['N_PROVINCIA'].str.replace(r'Rioja \\W[a-z]+\\W', 'Rioja (La)')\n",
    "estaciones['N_PROVINCIA'] = estaciones['N_PROVINCIA'].str.replace(r'Palmas \\W[a-z]+\\W', 'Palmas (Las)')\n",
    "estaciones['N_PROVINCIA'] = estaciones['N_PROVINCIA'].str.replace(r'Santa cruz de tenerife', 'Santa Cruz de Tenerife')\n",
    "estaciones['N_PROVINCIA'] = estaciones['N_PROVINCIA'].str.replace(r'Valencia', 'Valencia/València')\n",
    "estaciones['N_PROVINCIA'] = estaciones['N_PROVINCIA'].str.replace(r'Vizcaya', 'Bizkaia')"
   ]
  },
  {
   "cell_type": "code",
   "execution_count": null,
   "metadata": {},
   "outputs": [],
   "source": [
    "estaciones.N_PROVINCIA.unique()"
   ]
  },
  {
   "cell_type": "markdown",
   "metadata": {},
   "source": [
    "Sacando un diccionario con los numeros y las provincias"
   ]
  },
  {
   "cell_type": "code",
   "execution_count": null,
   "metadata": {},
   "outputs": [],
   "source": [
    "num_pro = estaciones[['PROVINCIA', 'N_PROVINCIA']]\n",
    "num_pro = num_pro.drop_duplicates()\n",
    "num_pro.to_dict(orient = 'dict')\n",
    "num_pro.rename(columns = {'N_PROVINCIA' : 'PROVINCIAS', 'PROVINCIA' : 'NUM_PROVINCIA'}, inplace = True)\n",
    "num_pro.head()"
   ]
  },
  {
   "cell_type": "code",
   "execution_count": null,
   "metadata": {
    "scrolled": false
   },
   "outputs": [],
   "source": [
    "mat_tot_2 = mat_tot.merge(num_pro, on='PROVINCIAS', how='outer')"
   ]
  },
  {
   "cell_type": "code",
   "execution_count": null,
   "metadata": {},
   "outputs": [],
   "source": [
    "mat_tot_2 = mat_tot.drop(['PROVINCIAS'], axis=1)"
   ]
  },
  {
   "cell_type": "code",
   "execution_count": null,
   "metadata": {},
   "outputs": [],
   "source": [
    "mat_tot_2.rename(columns = {'NUM_PROVINCIA': 'PROVINCIA'}, inplace = True)\n",
    "mat_tot_2.info()"
   ]
  },
  {
   "cell_type": "code",
   "execution_count": null,
   "metadata": {},
   "outputs": [],
   "source": [
    "mat_tot_2.dropna(inplace=True)"
   ]
  },
  {
   "cell_type": "code",
   "execution_count": null,
   "metadata": {},
   "outputs": [],
   "source": [
    "tabla_todo = a_copy.merge(mat_tot_2, on=('PROVINCIA', 'MES', 'ANNO'), how='outer')"
   ]
  },
  {
   "cell_type": "code",
   "execution_count": null,
   "metadata": {},
   "outputs": [],
   "source": [
    "tabla_todo.MAGNITUD.unique()"
   ]
  },
  {
   "cell_type": "code",
   "execution_count": null,
   "metadata": {},
   "outputs": [],
   "source": [
    "tabla_todo"
   ]
  },
  {
   "cell_type": "code",
   "execution_count": null,
   "metadata": {},
   "outputs": [],
   "source": [
    "tabla_todo[[\"MES\", \"MAGNITUD\", \"ANNO\", \"PROVINCIA\"]] = tabla_todo[[\"MES\", \"MAGNITUD\", \"ANNO\", \"PROVINCIA\"]].apply(pd.to_numeric)"
   ]
  },
  {
   "cell_type": "code",
   "execution_count": null,
   "metadata": {},
   "outputs": [],
   "source": [
    "tabla_todo.info()"
   ]
  },
  {
   "cell_type": "code",
   "execution_count": null,
   "metadata": {},
   "outputs": [],
   "source": []
  },
  {
   "cell_type": "code",
   "execution_count": null,
   "metadata": {},
   "outputs": [],
   "source": [
    "df.dropna(axis = 0, subset = col_lst, how = 'all', inplace = True)"
   ]
  },
  {
   "cell_type": "code",
   "execution_count": null,
   "metadata": {},
   "outputs": [],
   "source": [
    "tabla_todo"
   ]
  },
  {
   "cell_type": "code",
   "execution_count": null,
   "metadata": {},
   "outputs": [],
   "source": []
  },
  {
   "cell_type": "code",
   "execution_count": null,
   "metadata": {},
   "outputs": [],
   "source": [
    "tabla_todo.to_csv('/Users/antoniomuro/Desktop/DATAMAD/Analysis_electric_cars_and_air_quality_in_Madrid/data/AirQ_and_Matriculations.csv', index = False)"
   ]
  },
  {
   "cell_type": "code",
   "execution_count": null,
   "metadata": {},
   "outputs": [],
   "source": [
    "mat_tot.to_csv('/Users/antoniomuro/Desktop/DATAMAD/Analysis_electric_cars_and_air_quality_in_Madrid/data/Matriculations_17_18_19.csv', index = False)"
   ]
  },
  {
   "cell_type": "code",
   "execution_count": null,
   "metadata": {},
   "outputs": [],
   "source": [
    "mags.to_csv('/Users/antoniomuro/Desktop/DATAMAD/Analysis_electric_cars_and_air_quality_in_Madrid/data/Leyenda_MAGS.csv', index = False)"
   ]
  },
  {
   "cell_type": "code",
   "execution_count": null,
   "metadata": {},
   "outputs": [],
   "source": [
    "num_pro.to_csv('/Users/antoniomuro/Desktop/DATAMAD/Analysis_electric_cars_and_air_quality_in_Madrid/data/Leyenda_provs.csv', index = False)"
   ]
  },
  {
   "cell_type": "code",
   "execution_count": null,
   "metadata": {},
   "outputs": [],
   "source": [
    "estaciones.to_csv('/Users/antoniomuro/Desktop/DATAMAD/Analysis_electric_cars_and_air_quality_in_Madrid/data/Leyenda_provs.csv', index = False)"
   ]
  },
  {
   "cell_type": "code",
   "execution_count": null,
   "metadata": {},
   "outputs": [],
   "source": [
    "a_copy.to_csv('/Users/antoniomuro/Desktop/DATAMAD/Analysis_electric_cars_and_air_quality_in_Madrid/data/Resumen.csv', index = False)"
   ]
  },
  {
   "cell_type": "code",
   "execution_count": null,
   "metadata": {},
   "outputs": [],
   "source": [
    "mat_tot_suma_años.to_csv('/Users/antoniomuro/Desktop/DATAMAD/Analysis_electric_cars_and_air_quality_in_Madrid/data/mat_tot2.csv', index = False)"
   ]
  },
  {
   "cell_type": "code",
   "execution_count": null,
   "metadata": {},
   "outputs": [],
   "source": [
    "data_mad_19_20_21.to_csv('/Users/antoniomuro/Desktop/DATAMAD/Analysis_electric_cars_and_air_quality_in_Madrid/data/aire_mad_17_18_19.csv', index = False)"
   ]
  },
  {
   "cell_type": "code",
   "execution_count": null,
   "metadata": {},
   "outputs": [],
   "source": [
    "mags.to_csv('/Users/antoniomuro/Desktop/DATAMAD/Analysis_electric_cars_and_air_quality_in_Madrid/data/Leyenda_Mags.csv', index = False)"
   ]
  }
 ],
 "metadata": {
  "kernelspec": {
   "display_name": "Python 3",
   "language": "python",
   "name": "python3"
  },
  "language_info": {
   "codemirror_mode": {
    "name": "ipython",
    "version": 3
   },
   "file_extension": ".py",
   "mimetype": "text/x-python",
   "name": "python",
   "nbconvert_exporter": "python",
   "pygments_lexer": "ipython3",
   "version": "3.9.1"
  }
 },
 "nbformat": 4,
 "nbformat_minor": 4
}
